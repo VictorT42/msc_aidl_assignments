{
  "cells": [
    {
      "cell_type": "markdown",
      "id": "f4421ae9",
      "metadata": {
        "id": "f4421ae9"
      },
      "source": [
        "## Setup"
      ]
    },
    {
      "cell_type": "code",
      "source": [
        "!wget http://nlp.stanford.edu/data/glove.6B.zip\n",
        "!unzip glove.6B.zip"
      ],
      "metadata": {
        "id": "vAONP1nTIZvi"
      },
      "id": "vAONP1nTIZvi",
      "execution_count": null,
      "outputs": []
    },
    {
      "cell_type": "code",
      "execution_count": null,
      "id": "fef5ceb2",
      "metadata": {
        "id": "fef5ceb2"
      },
      "outputs": [],
      "source": [
        "%matplotlib inline"
      ]
    },
    {
      "cell_type": "code",
      "source": [
        "%pip install transformers\n",
        "%pip install keras_tuner"
      ],
      "metadata": {
        "id": "qygJkPAmIkhZ"
      },
      "id": "qygJkPAmIkhZ",
      "execution_count": null,
      "outputs": []
    },
    {
      "cell_type": "code",
      "execution_count": null,
      "id": "411a72ed-0ca4-4976-88dd-27d1493918a0",
      "metadata": {
        "id": "411a72ed-0ca4-4976-88dd-27d1493918a0",
        "outputId": "13444ffc-eb84-4df2-ae39-bb12dfe3299b"
      },
      "outputs": [
        {
          "name": "stderr",
          "output_type": "stream",
          "text": [
            "2023-02-07 20:22:45.962239: I tensorflow/core/platform/cpu_feature_guard.cc:193] This TensorFlow binary is optimized with oneAPI Deep Neural Network Library (oneDNN) to use the following CPU instructions in performance-critical operations:  AVX2 FMA\n",
            "To enable them in other operations, rebuild TensorFlow with the appropriate compiler flags.\n",
            "2023-02-07 20:22:46.298761: E tensorflow/stream_executor/cuda/cuda_blas.cc:2981] Unable to register cuBLAS factory: Attempting to register factory for plugin cuBLAS when one has already been registered\n"
          ]
        }
      ],
      "source": [
        "import tensorflow as tf\n",
        "from tensorflow.keras.layers import TextVectorization, LSTM, Bidirectional as Bi, Embedding\n",
        "import pandas as pd\n",
        "import numpy as np\n",
        "from sklearn.model_selection import train_test_split\n",
        "from sklearn.metrics import classification_report, confusion_matrix\n",
        "from matplotlib import pyplot as plt"
      ]
    },
    {
      "cell_type": "code",
      "execution_count": null,
      "id": "02b0b6d1-bce5-4aba-be82-1f7a93ab0791",
      "metadata": {
        "id": "02b0b6d1-bce5-4aba-be82-1f7a93ab0791"
      },
      "outputs": [],
      "source": [
        "import torch\n",
        "from transformers import AutoModelForSequenceClassification, AdamW, AutoTokenizer, get_linear_schedule_with_warmup\n",
        "from torch.utils.data import TensorDataset, DataLoader\n",
        "\n",
        "device = torch.device('cuda' if torch.cuda.is_available() else 'cpu')"
      ]
    },
    {
      "cell_type": "code",
      "execution_count": null,
      "id": "6d62912a-e054-45fc-b5a0-55ff0e55aba7",
      "metadata": {
        "id": "6d62912a-e054-45fc-b5a0-55ff0e55aba7"
      },
      "outputs": [],
      "source": [
        "df = pd.read_csv('./cs01_dataset.csv')"
      ]
    },
    {
      "cell_type": "code",
      "execution_count": null,
      "id": "6367d432-5f58-4a2c-9462-c88ad2661780",
      "metadata": {
        "tags": [],
        "id": "6367d432-5f58-4a2c-9462-c88ad2661780"
      },
      "outputs": [],
      "source": [
        "answers = dict()\n",
        "answers['Irrelevant'] = [\n",
        "    \"I'm sorry, I can't help you with that.\",\n",
        "    \"I'm sorry, my responses are limited. You'll have to ask the right question.\",\n",
        "    \"I don't know how to respond to that, I'm afraid.\"]\n",
        "answers['Applications'] = [\n",
        "    \"You can find out more about the applications in the applications page: <br><a href=https://aidl.uniwa.gr/applications/>Applications</a>\",\n",
        "    \"If you are interested in applying you can start here: <br><a href=https://aidl.uniwa.gr/applications/>Applications</a>\",\n",
        "    \"For more info about the application process you can visit this link: <br><a href=https://aidl.uniwa.gr/applications/>Applications</a>\"\n",
        "]\n",
        "answers['Contact'] = [\n",
        "    \"If you would like to contact us, you can check out this link: <br><a href=https://aidl.uniwa.gr/contact/>Contact</a>\",\n",
        "    \"To get in contact with the MSc. Administration you can visit this link: <br><a href=https://aidl.uniwa.gr/contact/>Contact</a>\",\n",
        "    \"Please feel free to reach out to us here: <br><a href=https://aidl.uniwa.gr/contact/>Contact</a>\"\n",
        "]\n",
        "answers['Curriculum'] = [\n",
        "    \"Here you can find more info about the course curriculum: <br><a href=https://aidl.uniwa.gr/all-courses/>Course Curriculum</a>\",\n",
        "    \"For a list of the courses and details about them have a look here: <br><a href=https://aidl.uniwa.gr/all-courses/>Course Curriculum</a>\",\n",
        "    \"I think you'll be able to answer your question here: <br><a href=https://aidl.uniwa.gr/all-courses/>Course Curriculum</a>\"\n",
        "]\n",
        "answers['Schedule'] = [\n",
        "    \"<br>Here is more information about the course schedule: <a href=https://aidl.uniwa.gr/course-schedule/>Course Schedule</a>\",\n",
        "    \"<br>You can find more info about the schedule here: <a href=https://aidl.uniwa.gr/course-schedule/>Course Schedule</a>\",\n",
        "    \"<br>The details of where and when the courses take place are in this page: <a href=https://aidl.uniwa.gr/course-schedule/>Course Schedule</a>\"\n",
        "]\n",
        "answers['Documents'] = [\n",
        "    \"<br>You can find helpful documents on this page: <a href=https://aidl.uniwa.gr/mscdocuments/>Documents</a>\",\n",
        "    \"<br>It sounds like you're looking for a document or template. This might help: <a href=https://aidl.uniwa.gr/mscdocuments/>Documents</a>\",\n",
        "    \"<br>Feel free to download and use one of these templates: <a href=https://aidl.uniwa.gr/mscdocuments/>Documents</a>\"\n",
        "]\n",
        "answers['Fees'] = [\n",
        "    \"<br>For more information about the cost of tuition you can visit this page: <a href=https://aidl.uniwa.gr/tuition-fees/>Fees</a>\",\n",
        "    \"<br>I'm glad you're interested in applying, check out this info on the financials: <a href=https://aidl.uniwa.gr/tuition-fees/>Fees</a>\",\n",
        "    \"<br>This page has the details on the program's costs: <a href=https://aidl.uniwa.gr/tuition-fees/>Fees</a>\"\n",
        "]\n",
        "answers['Instructors'] = [\n",
        "    \"<br>For more info on the instructors look here: <a href=https://aidl.uniwa.gr/instructors/>Instructors</a>\",\n",
        "    \"<br>This is a list of the instructors of the program: <a href=https://aidl.uniwa.gr/instructors/>Instructors</a>\",\n",
        "    \"<br>Here is a useful link to find out more about the faculty: <a href=https://aidl.uniwa.gr/instructors/>Instructors</a>\"\n",
        "]\n",
        "answers['Invited'] = [\n",
        "    \"<br>It sounds like you might have a question about an invited lecturer. More info here: <a href=https://aidl.uniwa.gr/invited-lecturers-2/>Invited Lecturers</a>\",\n",
        "    \"<br>Are you interested in seeing a list of the invited lecturers? <a href=https://aidl.uniwa.gr/invited-lecturers-2/>Invited Lecturers</a>\",\n",
        "    \"<br>For more details on the lecturers who are not members of faculty you can visit this page: <a href=https://aidl.uniwa.gr/invited-lecturers-2/>Invited Lecturers</a>\"\n",
        "]\n",
        "answers['Registry'] = [\n",
        "    \"<br>You can find a lot of useful info and tools on the student registry page: <a href=https://aidl.uniwa.gr/student-registry/>Student Registry</a>\",\n",
        "    \"<br>Perhaps the student registry can help you achieve what you're looking for: <a href=https://aidl.uniwa.gr/student-registry/>Student Registry</a>\",\n",
        "    \"<br>This page can lead you to a tool that helps with various bureaucratic procedures: <a href=https://aidl.uniwa.gr/student-registry/>Student Registry</a>\"\n",
        "]"
      ]
    },
    {
      "cell_type": "markdown",
      "id": "73d4da92-af7a-476f-9d48-203231a4e7fb",
      "metadata": {
        "id": "73d4da92-af7a-476f-9d48-203231a4e7fb"
      },
      "source": [
        "## Data exploration"
      ]
    },
    {
      "cell_type": "markdown",
      "id": "f03968a5",
      "metadata": {
        "id": "f03968a5"
      },
      "source": [
        "Let's take a look at the data we're dealing with:"
      ]
    },
    {
      "cell_type": "code",
      "execution_count": null,
      "id": "b5cdff2f-2805-4bae-b1a3-e4e7e2d8da2d",
      "metadata": {
        "id": "b5cdff2f-2805-4bae-b1a3-e4e7e2d8da2d",
        "outputId": "9f5fdc2b-be5a-4245-c8ad-bc20fd5f3108"
      },
      "outputs": [
        {
          "data": {
            "text/html": [
              "<div>\n",
              "<style scoped>\n",
              "    .dataframe tbody tr th:only-of-type {\n",
              "        vertical-align: middle;\n",
              "    }\n",
              "\n",
              "    .dataframe tbody tr th {\n",
              "        vertical-align: top;\n",
              "    }\n",
              "\n",
              "    .dataframe thead th {\n",
              "        text-align: right;\n",
              "    }\n",
              "</style>\n",
              "<table border=\"1\" class=\"dataframe\">\n",
              "  <thead>\n",
              "    <tr style=\"text-align: right;\">\n",
              "      <th></th>\n",
              "      <th>ID</th>\n",
              "      <th>Question</th>\n",
              "      <th>Intent</th>\n",
              "    </tr>\n",
              "  </thead>\n",
              "  <tbody>\n",
              "    <tr>\n",
              "      <th>0</th>\n",
              "      <td>000_0018</td>\n",
              "      <td>Is there a parking lot?</td>\n",
              "      <td>Irrelevant</td>\n",
              "    </tr>\n",
              "    <tr>\n",
              "      <th>1</th>\n",
              "      <td>001_0018</td>\n",
              "      <td>Is this program easy?</td>\n",
              "      <td>Irrelevant</td>\n",
              "    </tr>\n",
              "    <tr>\n",
              "      <th>2</th>\n",
              "      <td>002_0018</td>\n",
              "      <td>Do most students pass the exams?</td>\n",
              "      <td>Irrelevant</td>\n",
              "    </tr>\n",
              "    <tr>\n",
              "      <th>3</th>\n",
              "      <td>003_0018</td>\n",
              "      <td>How many students are currently enrolled?</td>\n",
              "      <td>Irrelevant</td>\n",
              "    </tr>\n",
              "    <tr>\n",
              "      <th>4</th>\n",
              "      <td>004_0018</td>\n",
              "      <td>Are there any buses from university to Piraeus?</td>\n",
              "      <td>Irrelevant</td>\n",
              "    </tr>\n",
              "  </tbody>\n",
              "</table>\n",
              "</div>"
            ],
            "text/plain": [
              "         ID                                         Question      Intent\n",
              "0  000_0018                          Is there a parking lot?  Irrelevant\n",
              "1  001_0018                            Is this program easy?  Irrelevant\n",
              "2  002_0018                 Do most students pass the exams?  Irrelevant\n",
              "3  003_0018        How many students are currently enrolled?  Irrelevant\n",
              "4  004_0018  Are there any buses from university to Piraeus?  Irrelevant"
            ]
          },
          "execution_count": 5,
          "metadata": {},
          "output_type": "execute_result"
        }
      ],
      "source": [
        "df.head()"
      ]
    },
    {
      "cell_type": "code",
      "execution_count": null,
      "id": "dc020dfe-bc03-4478-9b99-2fb8627866ca",
      "metadata": {
        "id": "dc020dfe-bc03-4478-9b99-2fb8627866ca",
        "outputId": "a269bbd0-adac-4097-c9a6-49350ff5d07c"
      },
      "outputs": [
        {
          "data": {
            "text/plain": [
              "Instructors     576\n",
              "Curriculum      535\n",
              "Irrelevant      452\n",
              "Applications    450\n",
              "Schedule        446\n",
              "Documents       437\n",
              "Contact         436\n",
              "Fees            406\n",
              "Invited         374\n",
              "Registry        370\n",
              "Name: Intent, dtype: int64"
            ]
          },
          "execution_count": 6,
          "metadata": {},
          "output_type": "execute_result"
        }
      ],
      "source": [
        "df['Intent'].value_counts()"
      ]
    },
    {
      "cell_type": "markdown",
      "id": "f384d17e",
      "metadata": {
        "id": "f384d17e"
      },
      "source": [
        "We can see that the dataset is relatively balanced, with the largest class only being about x1.5 the size of the smallest."
      ]
    },
    {
      "cell_type": "code",
      "execution_count": null,
      "id": "f9fa61ee-130a-46a3-8e4e-c1138c75ec92",
      "metadata": {
        "id": "f9fa61ee-130a-46a3-8e4e-c1138c75ec92",
        "outputId": "164566f2-8801-4e19-b8e6-bde285a50da7"
      },
      "outputs": [
        {
          "name": "stdout",
          "output_type": "stream",
          "text": [
            "['Irrelevant', 'Applications', 'Contact', 'Curriculum', 'Schedule', 'Documents', 'Fees', 'Instructors', 'Invited', 'Registry'] 10\n"
          ]
        }
      ],
      "source": [
        "labels = list(df['Intent'].drop_duplicates())\n",
        "num_labels = len(labels)\n",
        "print(labels, num_labels)"
      ]
    },
    {
      "cell_type": "markdown",
      "id": "7fac1d4b",
      "metadata": {
        "id": "7fac1d4b"
      },
      "source": [
        "Now let's take a look at the distribution of the questions' length in words:"
      ]
    },
    {
      "cell_type": "code",
      "execution_count": null,
      "id": "a97a52ea",
      "metadata": {
        "id": "a97a52ea",
        "outputId": "e4ec3771-3a26-40d3-affd-4c964c0e529c"
      },
      "outputs": [
        {
          "data": {
            "text/plain": [
              "count    4482.000000\n",
              "mean        7.825971\n",
              "std         2.803394\n",
              "min         1.000000\n",
              "25%         6.000000\n",
              "50%         7.000000\n",
              "75%         9.000000\n",
              "max        28.000000\n",
              "Name: Question, dtype: float64"
            ]
          },
          "execution_count": 8,
          "metadata": {},
          "output_type": "execute_result"
        }
      ],
      "source": [
        "df['Question'].apply(lambda x: len(x.split())).describe()"
      ]
    },
    {
      "cell_type": "code",
      "execution_count": null,
      "id": "2f2fe869-7c22-4e81-95c6-7b5085ab71dc",
      "metadata": {
        "id": "2f2fe869-7c22-4e81-95c6-7b5085ab71dc",
        "outputId": "95e0a3c1-2b34-427d-b322-0e390e7de672"
      },
      "outputs": [
        {
          "data": {
            "text/plain": [
              "16"
            ]
          },
          "execution_count": 9,
          "metadata": {},
          "output_type": "execute_result"
        }
      ],
      "source": [
        "sorted([len(i.split()) for i in df['Question']])[int(len(df)*0.99)]"
      ]
    },
    {
      "cell_type": "markdown",
      "id": "d73a3264",
      "metadata": {
        "id": "d73a3264"
      },
      "source": [
        "As we can see, 99% of questions are at or under 16 words. This is a nice, round number, so we will use it as the maximum length going forward."
      ]
    },
    {
      "cell_type": "code",
      "execution_count": null,
      "id": "3b6b6398",
      "metadata": {
        "id": "3b6b6398"
      },
      "outputs": [],
      "source": [
        "max_sequence_length = 16"
      ]
    },
    {
      "cell_type": "markdown",
      "id": "999f3da1-0fcf-4c2f-82c6-77bbdec5fcfe",
      "metadata": {
        "tags": [],
        "id": "999f3da1-0fcf-4c2f-82c6-77bbdec5fcfe"
      },
      "source": [
        "## Data preparation"
      ]
    },
    {
      "cell_type": "code",
      "execution_count": null,
      "id": "b96aa466-6720-4cab-a26f-9a83732734c9",
      "metadata": {
        "id": "b96aa466-6720-4cab-a26f-9a83732734c9"
      },
      "outputs": [],
      "source": [
        "X = df['Question'].to_numpy()\n",
        "y = np.array([labels.index(label) for label in df['Intent']])"
      ]
    },
    {
      "cell_type": "code",
      "execution_count": null,
      "id": "b7770c95-3612-4739-b6d3-4bc299e807a1",
      "metadata": {
        "id": "b7770c95-3612-4739-b6d3-4bc299e807a1"
      },
      "outputs": [],
      "source": [
        "X_train_val, X_test, y_train_val, y_test_int = train_test_split(X, y, test_size=0.2, random_state=21010034, stratify=y)\n",
        "X_train, X_val, y_train_int, y_val_int = train_test_split(X_train_val, y_train_val, test_size=0.25, random_state=21010034, stratify=y_train_val)"
      ]
    },
    {
      "cell_type": "markdown",
      "id": "6675c27f-01c3-4cfd-8fde-e849831f5d1b",
      "metadata": {
        "tags": [],
        "id": "6675c27f-01c3-4cfd-8fde-e849831f5d1b"
      },
      "source": [
        "## LSTM"
      ]
    },
    {
      "cell_type": "markdown",
      "id": "2d7418e1",
      "metadata": {
        "id": "2d7418e1"
      },
      "source": [
        "We will start by manually creating a reference model, which we will tune later."
      ]
    },
    {
      "cell_type": "code",
      "execution_count": null,
      "id": "06238513",
      "metadata": {
        "id": "06238513"
      },
      "outputs": [],
      "source": [
        "vocabulary_size = None\n",
        "normalization = 'lower_and_strip_punctuation'\n",
        "max_sequence_length = 16\n",
        "embedding_size = 100\n",
        "learning_rate = 0.001\n",
        "batch_size = 128\n",
        "epochs = 100\n",
        "early_stopping_patience = 10"
      ]
    },
    {
      "cell_type": "markdown",
      "id": "a1410512",
      "metadata": {
        "id": "a1410512"
      },
      "source": [
        "The LSTM models need the output labels to be 1-hot encoded, so we will convert them here:"
      ]
    },
    {
      "cell_type": "code",
      "execution_count": null,
      "id": "048fe0be",
      "metadata": {
        "id": "048fe0be"
      },
      "outputs": [],
      "source": [
        "def one_hot(label):\n",
        "    return [int(i == label) for i in range(num_labels)]"
      ]
    },
    {
      "cell_type": "code",
      "execution_count": null,
      "id": "82a25a7f-4533-4d65-ae2c-07a14baa746f",
      "metadata": {
        "id": "82a25a7f-4533-4d65-ae2c-07a14baa746f",
        "outputId": "1a6d944d-b98b-4187-84da-fa7fc787ca79"
      },
      "outputs": [
        {
          "name": "stderr",
          "output_type": "stream",
          "text": [
            "2023-02-06 22:27:29.255255: I tensorflow/stream_executor/cuda/cuda_gpu_executor.cc:980] successful NUMA node read from SysFS had negative value (-1), but there must be at least one NUMA node, so returning NUMA node zero\n",
            "2023-02-06 22:27:29.395622: I tensorflow/stream_executor/cuda/cuda_gpu_executor.cc:980] successful NUMA node read from SysFS had negative value (-1), but there must be at least one NUMA node, so returning NUMA node zero\n",
            "2023-02-06 22:27:29.395911: I tensorflow/stream_executor/cuda/cuda_gpu_executor.cc:980] successful NUMA node read from SysFS had negative value (-1), but there must be at least one NUMA node, so returning NUMA node zero\n",
            "2023-02-06 22:27:29.399020: I tensorflow/core/platform/cpu_feature_guard.cc:193] This TensorFlow binary is optimized with oneAPI Deep Neural Network Library (oneDNN) to use the following CPU instructions in performance-critical operations:  AVX2 FMA\n",
            "To enable them in other operations, rebuild TensorFlow with the appropriate compiler flags.\n",
            "2023-02-06 22:27:29.400013: I tensorflow/stream_executor/cuda/cuda_gpu_executor.cc:980] successful NUMA node read from SysFS had negative value (-1), but there must be at least one NUMA node, so returning NUMA node zero\n",
            "2023-02-06 22:27:29.400184: I tensorflow/stream_executor/cuda/cuda_gpu_executor.cc:980] successful NUMA node read from SysFS had negative value (-1), but there must be at least one NUMA node, so returning NUMA node zero\n",
            "2023-02-06 22:27:29.400300: I tensorflow/stream_executor/cuda/cuda_gpu_executor.cc:980] successful NUMA node read from SysFS had negative value (-1), but there must be at least one NUMA node, so returning NUMA node zero\n",
            "2023-02-06 22:27:30.116299: I tensorflow/stream_executor/cuda/cuda_gpu_executor.cc:980] successful NUMA node read from SysFS had negative value (-1), but there must be at least one NUMA node, so returning NUMA node zero\n",
            "2023-02-06 22:27:30.116785: I tensorflow/stream_executor/cuda/cuda_gpu_executor.cc:980] successful NUMA node read from SysFS had negative value (-1), but there must be at least one NUMA node, so returning NUMA node zero\n",
            "2023-02-06 22:27:30.116925: I tensorflow/stream_executor/cuda/cuda_gpu_executor.cc:980] successful NUMA node read from SysFS had negative value (-1), but there must be at least one NUMA node, so returning NUMA node zero\n",
            "2023-02-06 22:27:30.117049: I tensorflow/core/common_runtime/gpu/gpu_device.cc:1616] Created device /job:localhost/replica:0/task:0/device:GPU:0 with 6419 MB memory:  -> device: 0, name: NVIDIA GeForce GTX 1070 Ti, pci bus id: 0000:01:00.0, compute capability: 6.1\n"
          ]
        }
      ],
      "source": [
        "X_train = tf.convert_to_tensor(X_train)\n",
        "X_test = tf.convert_to_tensor(X_test)\n",
        "X_val = tf.convert_to_tensor(X_val)\n",
        "\n",
        "y_train = tf.convert_to_tensor(np.array([one_hot(label) for label in y_train_int]))\n",
        "y_test = tf.convert_to_tensor(np.array([one_hot(label) for label in y_test_int]))\n",
        "y_val = tf.convert_to_tensor(np.array([one_hot(label) for label in y_val_int]))"
      ]
    },
    {
      "cell_type": "markdown",
      "id": "235581b9",
      "metadata": {
        "id": "235581b9"
      },
      "source": [
        "### Vectorizer\n",
        "\n",
        "We'll use tf's TextVectorization layer, which takes care of fitting the vocabulary, tokenization, vectorization, padding and truncation."
      ]
    },
    {
      "cell_type": "code",
      "execution_count": null,
      "id": "230330d0-178d-41ec-97af-ebafad51e47f",
      "metadata": {
        "id": "230330d0-178d-41ec-97af-ebafad51e47f"
      },
      "outputs": [],
      "source": [
        "vectorizer = TextVectorization(output_sequence_length=max_sequence_length, max_tokens=vocabulary_size)\n",
        "vectorizer.adapt(X_train)\n",
        "vocabulary = vectorizer.get_vocabulary()\n",
        "vocabulary_size = len(vocabulary)\n",
        "word_index = dict(zip(vocabulary, range(vocabulary_size)))"
      ]
    },
    {
      "cell_type": "markdown",
      "id": "f86d4e6e",
      "metadata": {
        "id": "f86d4e6e"
      },
      "source": [
        "We'll make a note of the total number of words in the vocabulary:"
      ]
    },
    {
      "cell_type": "code",
      "execution_count": null,
      "id": "ed831084",
      "metadata": {
        "id": "ed831084",
        "outputId": "5d0606a7-ff06-497b-8338-d91ed0d28e5e"
      },
      "outputs": [
        {
          "name": "stdout",
          "output_type": "stream",
          "text": [
            "1707\n"
          ]
        }
      ],
      "source": [
        "total_vocabulary_size = vocabulary_size\n",
        "print(total_vocabulary_size)"
      ]
    },
    {
      "cell_type": "markdown",
      "id": "40c44451",
      "metadata": {
        "id": "40c44451"
      },
      "source": [
        "### Embeddings\n",
        "\n",
        "We will first try to use an unitialized embedding layer that will be trained as part of the network:"
      ]
    },
    {
      "cell_type": "code",
      "execution_count": null,
      "id": "c4e53c9c",
      "metadata": {
        "id": "c4e53c9c"
      },
      "outputs": [],
      "source": [
        "embedding_layer = Embedding(\n",
        "            vocabulary_size+2,\n",
        "            embedding_size,\n",
        "            trainable=True,\n",
        "            input_length=max_sequence_length\n",
        "        )"
      ]
    },
    {
      "cell_type": "markdown",
      "id": "7cca9cca-e0d1-48e9-8de0-33f4fac50f23",
      "metadata": {
        "id": "7cca9cca-e0d1-48e9-8de0-33f4fac50f23"
      },
      "source": [
        "### Glove embeddings\n",
        "\n",
        "This is code to create an embedding layer using glove embeddings. It will not be used for the reference model, but it was used for manual testing and it is integrated within the Bayesian tuning later on."
      ]
    },
    {
      "cell_type": "code",
      "execution_count": null,
      "id": "37c7bf47-e052-47d7-83d5-55f8c3115a12",
      "metadata": {
        "id": "37c7bf47-e052-47d7-83d5-55f8c3115a12"
      },
      "outputs": [],
      "source": [
        "embeddings_index = {}\n",
        "with open(f'./glove.6B.{embedding_size}d.txt') as f:\n",
        "    for line in f:\n",
        "        word, coefs = line.split(maxsplit=1)\n",
        "        coefs = np.fromstring(coefs, \"f\", sep=\" \")\n",
        "        embeddings_index[word] = coefs"
      ]
    },
    {
      "cell_type": "code",
      "execution_count": null,
      "id": "07ec11aa",
      "metadata": {
        "id": "07ec11aa"
      },
      "outputs": [],
      "source": [
        "embedding_matrix = np.zeros((vocabulary_size+2, embedding_size))\n",
        "for word, i in word_index.items():\n",
        "    embedding_vector = embeddings_index.get(word)\n",
        "    if embedding_vector is not None:\n",
        "        embedding_matrix[i] = embedding_vector"
      ]
    },
    {
      "cell_type": "code",
      "execution_count": null,
      "id": "ad20a874-f3b1-4e6c-a8fd-ed791baf7ddd",
      "metadata": {
        "id": "ad20a874-f3b1-4e6c-a8fd-ed791baf7ddd"
      },
      "outputs": [],
      "source": [
        "\n",
        "glove_embedding_layer = Embedding(\n",
        "    vocabulary_size+2,\n",
        "    embedding_size,\n",
        "    embeddings_initializer=tf.keras.initializers.Constant(embedding_matrix),\n",
        "    trainable=False,\n",
        "    input_length=max_sequence_length\n",
        ")"
      ]
    },
    {
      "cell_type": "markdown",
      "id": "0433b83f-5e8c-4cab-9e62-6f88565d2411",
      "metadata": {
        "tags": [],
        "id": "0433b83f-5e8c-4cab-9e62-6f88565d2411"
      },
      "source": [
        "### Reference model"
      ]
    },
    {
      "cell_type": "code",
      "execution_count": null,
      "id": "6977f191-a889-40c9-93ee-c244b6514502",
      "metadata": {
        "id": "6977f191-a889-40c9-93ee-c244b6514502"
      },
      "outputs": [],
      "source": [
        "model = tf.keras.Sequential([\n",
        "    tf.keras.layers.Input(shape=(1,), dtype=tf.string),\n",
        "    vectorizer,\n",
        "    embedding_layer,\n",
        "    Bi(LSTM(128, return_sequences=True)),\n",
        "    tf.keras.layers.Dropout(0.5),\n",
        "    Bi(LSTM(64)),\n",
        "    tf.keras.layers.Dropout(0.5),\n",
        "    tf.keras.layers.Dense(num_labels, activation='softmax')\n",
        "])"
      ]
    },
    {
      "cell_type": "code",
      "execution_count": null,
      "id": "20ae63c5-9be7-405e-a56c-0907020b90c9",
      "metadata": {
        "id": "20ae63c5-9be7-405e-a56c-0907020b90c9"
      },
      "outputs": [],
      "source": [
        "model.compile(tf.keras.optimizers.Adam(learning_rate=learning_rate),loss=tf.keras.losses.CategoricalCrossentropy(),\n",
        "                  metrics=['accuracy', tf.keras.metrics.Precision()])"
      ]
    },
    {
      "cell_type": "code",
      "execution_count": null,
      "id": "a1c96170-b4a8-4f8d-9df5-77071806b435",
      "metadata": {
        "id": "a1c96170-b4a8-4f8d-9df5-77071806b435"
      },
      "outputs": [],
      "source": [
        "early_stopping=tf.keras.callbacks.EarlyStopping(patience=early_stopping_patience, restore_best_weights=True, verbose=1)"
      ]
    },
    {
      "cell_type": "code",
      "execution_count": null,
      "id": "47df8aaa-1f87-45f2-91b5-8d813cbffc33",
      "metadata": {
        "id": "47df8aaa-1f87-45f2-91b5-8d813cbffc33",
        "outputId": "6818446f-519e-4984-c534-3de69f400aab"
      },
      "outputs": [
        {
          "name": "stdout",
          "output_type": "stream",
          "text": [
            "Epoch 1/100\n"
          ]
        },
        {
          "name": "stderr",
          "output_type": "stream",
          "text": [
            "2023-02-04 23:35:38.122405: I tensorflow/stream_executor/cuda/cuda_dnn.cc:384] Loaded cuDNN version 8700\n"
          ]
        },
        {
          "name": "stdout",
          "output_type": "stream",
          "text": [
            "21/21 [==============================] - 6s 64ms/step - loss: 2.2851 - accuracy: 0.1295 - precision: 0.0000e+00 - val_loss: 2.2564 - val_accuracy: 0.1538 - val_precision: 0.0000e+00\n",
            "Epoch 2/100\n",
            "21/21 [==============================] - 0s 12ms/step - loss: 2.1225 - accuracy: 0.2098 - precision: 0.6383 - val_loss: 1.9482 - val_accuracy: 0.3445 - val_precision: 0.9167\n",
            "Epoch 3/100\n",
            "21/21 [==============================] - 0s 11ms/step - loss: 1.5537 - accuracy: 0.4617 - precision: 0.7703 - val_loss: 1.3323 - val_accuracy: 0.5485 - val_precision: 0.8265\n",
            "Epoch 4/100\n",
            "21/21 [==============================] - 0s 11ms/step - loss: 0.9557 - accuracy: 0.6749 - precision: 0.8400 - val_loss: 0.9618 - val_accuracy: 0.6890 - val_precision: 0.8072\n",
            "Epoch 5/100\n",
            "21/21 [==============================] - 0s 11ms/step - loss: 0.5723 - accuracy: 0.8218 - precision: 0.8764 - val_loss: 0.8659 - val_accuracy: 0.7391 - val_precision: 0.7878\n",
            "Epoch 6/100\n",
            "21/21 [==============================] - 0s 11ms/step - loss: 0.3915 - accuracy: 0.8884 - precision: 0.9113 - val_loss: 0.8375 - val_accuracy: 0.7581 - val_precision: 0.7949\n",
            "Epoch 7/100\n",
            "21/21 [==============================] - 0s 11ms/step - loss: 0.2692 - accuracy: 0.9241 - precision: 0.9370 - val_loss: 1.1273 - val_accuracy: 0.7246 - val_precision: 0.7544\n",
            "Epoch 8/100\n",
            "21/21 [==============================] - 0s 11ms/step - loss: 0.2297 - accuracy: 0.9397 - precision: 0.9523 - val_loss: 0.9058 - val_accuracy: 0.7748 - val_precision: 0.7913\n",
            "Epoch 9/100\n",
            "21/21 [==============================] - 0s 11ms/step - loss: 0.1714 - accuracy: 0.9531 - precision: 0.9598 - val_loss: 0.9771 - val_accuracy: 0.7715 - val_precision: 0.7828\n",
            "Epoch 10/100\n",
            "21/21 [==============================] - 0s 12ms/step - loss: 0.1322 - accuracy: 0.9632 - precision: 0.9717 - val_loss: 1.0312 - val_accuracy: 0.7748 - val_precision: 0.7938\n",
            "Epoch 11/100\n",
            "21/21 [==============================] - 0s 12ms/step - loss: 0.1303 - accuracy: 0.9628 - precision: 0.9676 - val_loss: 0.9235 - val_accuracy: 0.7659 - val_precision: 0.7852\n",
            "Epoch 12/100\n",
            "21/21 [==============================] - 0s 11ms/step - loss: 0.1102 - accuracy: 0.9699 - precision: 0.9756 - val_loss: 0.9834 - val_accuracy: 0.7781 - val_precision: 0.7933\n",
            "Epoch 13/100\n",
            "21/21 [==============================] - 0s 12ms/step - loss: 0.0997 - accuracy: 0.9747 - precision: 0.9786 - val_loss: 1.0181 - val_accuracy: 0.7781 - val_precision: 0.7888\n",
            "Epoch 14/100\n",
            "21/21 [==============================] - 0s 12ms/step - loss: 0.0615 - accuracy: 0.9833 - precision: 0.9854 - val_loss: 1.1344 - val_accuracy: 0.7826 - val_precision: 0.7927\n",
            "Epoch 15/100\n",
            "21/21 [==============================] - 0s 11ms/step - loss: 0.0584 - accuracy: 0.9825 - precision: 0.9843 - val_loss: 1.0416 - val_accuracy: 0.7926 - val_precision: 0.8027\n",
            "Epoch 16/100\n",
            "15/21 [====================>.........] - ETA: 0s - loss: 0.0474 - accuracy: 0.9875 - precision: 0.9885Restoring model weights from the end of the best epoch: 6.\n",
            "21/21 [==============================] - 0s 11ms/step - loss: 0.0624 - accuracy: 0.9818 - precision: 0.9828 - val_loss: 1.1043 - val_accuracy: 0.7781 - val_precision: 0.7936\n",
            "Epoch 16: early stopping\n"
          ]
        }
      ],
      "source": [
        "history=model.fit(X_train, y_train, batch_size=batch_size, epochs=epochs, validation_data=(X_val, y_val), callbacks=[early_stopping])"
      ]
    },
    {
      "cell_type": "code",
      "execution_count": null,
      "id": "02daa028-9cfb-4bf5-a80a-3a518b71476a",
      "metadata": {
        "id": "02daa028-9cfb-4bf5-a80a-3a518b71476a",
        "outputId": "fc22c4b3-aaea-4716-c314-aaba0c70d86f"
      },
      "outputs": [
        {
          "data": {
            "text/plain": [
              "<matplotlib.legend.Legend at 0x7f06cc438640>"
            ]
          },
          "execution_count": 17,
          "metadata": {},
          "output_type": "execute_result"
        },
        {
          "data": {
            "image/png": "[encoded data removed]",
            "text/plain": [
              "<Figure size 640x480 with 1 Axes>"
            ]
          },
          "metadata": {},
          "output_type": "display_data"
        }
      ],
      "source": [
        "plt.plot(history.history['loss'])\n",
        "plt.plot(history.history['val_loss'])\n",
        "plt.legend(['loss', 'val_loss'])"
      ]
    },
    {
      "cell_type": "code",
      "execution_count": null,
      "id": "abb9c59a-caae-4d9e-879b-12cf9104851d",
      "metadata": {
        "id": "abb9c59a-caae-4d9e-879b-12cf9104851d",
        "outputId": "3b46b94a-603d-4cd2-d62b-badb81fac9ee"
      },
      "outputs": [
        {
          "data": {
            "text/plain": [
              "<matplotlib.legend.Legend at 0x7f06cc2d14c0>"
            ]
          },
          "execution_count": 18,
          "metadata": {},
          "output_type": "execute_result"
        },
        {
          "data": {
            "image/png": "[encoded data removed]",
            "text/plain": [
              "<Figure size 640x480 with 1 Axes>"
            ]
          },
          "metadata": {},
          "output_type": "display_data"
        }
      ],
      "source": [
        "plt.plot(history.history['accuracy'])\n",
        "plt.plot(history.history['val_accuracy'])\n",
        "plt.legend(['accuracy', 'val_accuracy'])"
      ]
    },
    {
      "cell_type": "markdown",
      "id": "15a67329",
      "metadata": {
        "id": "15a67329"
      },
      "source": [
        "As can be seen, the model reaches a minimum loss at epoch 5, with an accuracy of 74%, after which it slowly starts to overfit until it triggers the early stopping at epoch 16."
      ]
    },
    {
      "cell_type": "markdown",
      "id": "c675edd6",
      "metadata": {
        "id": "c675edd6"
      },
      "source": [
        "### Bayesian tuning\n",
        "\n",
        "Next up we'll perform a Bayesian search using keras tuner to find the best hyperparameters."
      ]
    },
    {
      "cell_type": "code",
      "execution_count": null,
      "id": "9843dd42",
      "metadata": {
        "id": "9843dd42"
      },
      "outputs": [],
      "source": [
        "import keras_tuner as kt"
      ]
    },
    {
      "cell_type": "markdown",
      "id": "c0b5c464",
      "metadata": {
        "id": "c0b5c464"
      },
      "source": [
        "We'll preload all the Glove embeddings into memory and save them in an index:"
      ]
    },
    {
      "cell_type": "code",
      "execution_count": null,
      "metadata": {
        "id": "b6rvPwGNITnl"
      },
      "outputs": [],
      "source": [
        "embeddings_index = dict()\n",
        "for embedding_size in [50, 100, 200, 300]:\n",
        "    embeddings_index[embedding_size] = {}\n",
        "    with open(f'./glove.6B.{embedding_size}d.txt') as f:\n",
        "        for line in f:\n",
        "            word, coefs = line.split(maxsplit=1)\n",
        "            coefs = np.fromstring(coefs, \"f\", sep=\" \")\n",
        "            embeddings_index[embedding_size][word] = coefs\n"
      ],
      "id": "b6rvPwGNITnl"
    },
    {
      "cell_type": "code",
      "execution_count": null,
      "id": "c8585385",
      "metadata": {
        "id": "c8585385"
      },
      "outputs": [],
      "source": [
        "def create_model(hp):\n",
        "    max_sequence_length = hp.Choice('max_sequence_length', [10, 16, 20])\n",
        "    vocabulary_size = hp.Choice('vocabulary_size', [1000, 1400, 1765])\n",
        "    normalization = hp.Choice('normalization', ['lower', 'strip_punctuation', 'lower_and_strip_punctuation'])\n",
        "    use_glove = hp.Boolean('use_glove')\n",
        "    embedding_size = hp.Choice('embedding_size', [50, 100, 200, 300])\n",
        "    lstm_units_1 = hp.Choice('lstm_units_1', [16, 32, 64, 128])\n",
        "    lstm_units_2 = hp.Choice('lstm_units_2', [16, 32, 64, 128])\n",
        "    dropout_rate_1 = hp.Choice('dropout_rate_1', [0.25, 0.5, 0.75])\n",
        "    dropout_rate_2 = hp.Choice('dropout_rate_2', [0.25, 0.5, 0.75])\n",
        "    learning_rate = hp.Float('learning_rate', 0.0001, 0.1, sampling='log')\n",
        "    decay_rate=hp.Float('decay_rate', 0.0001, 1.0, sampling='log')\n",
        "\n",
        "    vectorizer = TextVectorization(output_sequence_length=max_sequence_length, max_tokens=vocabulary_size, standardize=normalization)\n",
        "    vectorizer.adapt(X_train)\n",
        "    vocabulary = vectorizer.get_vocabulary()\n",
        "    word_index = dict(zip(vocabulary, range(vocabulary_size)))\n",
        "\n",
        "    if use_glove:\n",
        "        embedding_matrix = np.zeros((vocabulary_size+2, embedding_size))\n",
        "        for word, i in word_index.items():\n",
        "            embedding_vector = embeddings_index[embedding_size].get(word)\n",
        "            if embedding_vector is not None:\n",
        "                embedding_matrix[i] = embedding_vector\n",
        "\n",
        "        embedding_layer = Embedding(\n",
        "            vocabulary_size+2,\n",
        "            embedding_size,\n",
        "            embeddings_initializer=tf.keras.initializers.Constant(embedding_matrix),\n",
        "            trainable=False,\n",
        "            input_length=max_sequence_length\n",
        "        )\n",
        "    else:\n",
        "        embedding_layer = Embedding(\n",
        "            vocabulary_size+2,\n",
        "            embedding_size,\n",
        "            trainable=True,\n",
        "            input_length=max_sequence_length\n",
        "        )\n",
        "\n",
        "    model = tf.keras.Sequential([\n",
        "        tf.keras.layers.Input(shape=(1,), dtype=tf.string),\n",
        "        vectorizer,\n",
        "        embedding_layer,\n",
        "        Bi(LSTM(lstm_units_1, return_sequences=True)),\n",
        "        tf.keras.layers.Dropout(dropout_rate_1),\n",
        "        Bi(LSTM(lstm_units_2)),\n",
        "        tf.keras.layers.Dropout(dropout_rate_2),\n",
        "        tf.keras.layers.Dense(num_labels, activation='softmax')\n",
        "    ])\n",
        "\n",
        "    lr_schedule = tf.keras.optimizers.schedules.ExponentialDecay(initial_learning_rate=learning_rate, decay_steps=10000, decay_rate=decay_rate)\n",
        "    model.compile(tf.keras.optimizers.Adam(learning_rate=learning_rate),loss=tf.keras.losses.CategoricalCrossentropy(),\n",
        "                  metrics=['accuracy', tf.keras.metrics.Precision()])\n",
        "    return model"
      ]
    },
    {
      "cell_type": "code",
      "execution_count": null,
      "id": "f54fa6eb",
      "metadata": {
        "id": "f54fa6eb"
      },
      "outputs": [],
      "source": [
        "tuner=kt.BayesianOptimization(hypermodel=create_model, objective='val_loss', directory='./hp_search_runs', project_name='run3', max_trials=300)"
      ]
    },
    {
      "cell_type": "code",
      "execution_count": null,
      "metadata": {
        "id": "ZnXO1xKYITnm"
      },
      "outputs": [],
      "source": [
        "early_stopping=tf.keras.callbacks.EarlyStopping(patience=early_stopping_patience, restore_best_weights=True)"
      ],
      "id": "ZnXO1xKYITnm"
    },
    {
      "cell_type": "code",
      "execution_count": null,
      "id": "8490c26d",
      "metadata": {
        "id": "8490c26d",
        "outputId": "9d48db50-5039-49e0-c3f8-9ad619e60cc5"
      },
      "outputs": [
        {
          "name": "stdout",
          "output_type": "stream",
          "text": [
            "Trial 300 Complete [00h 00m 09s]\n",
            "val_loss: 0.6609740853309631\n",
            "\n",
            "Best val_loss So Far: 0.5856310129165649\n",
            "Total elapsed time: 00h 57m 25s\n",
            "INFO:tensorflow:Oracle triggered exit\n",
            "CPU times: user 1h 7min 2s, sys: 1min 43s, total: 1h 8min 46s\n",
            "Wall time: 57min 25s\n"
          ]
        }
      ],
      "source": [
        "%%time\n",
        "tuner.search(X_train, y_train, validation_data=(X_val, y_val), epochs=15, batch_size=batch_size, callbacks=[early_stopping])"
      ]
    },
    {
      "cell_type": "code",
      "execution_count": null,
      "id": "32821964",
      "metadata": {
        "id": "32821964",
        "outputId": "47bc8e9f-7479-4b1b-c745-46c17869249e"
      },
      "outputs": [
        {
          "name": "stdout",
          "output_type": "stream",
          "text": [
            "Results summary\n",
            "Results in ./hp_search_runs/run3\n",
            "Showing 10 best trials\n",
            "<keras_tuner.engine.objective.Objective object at 0x7f9120152b20>\n",
            "Trial summary\n",
            "Hyperparameters:\n",
            "max_sequence_length: 16\n",
            "vocabulary_size: 1765\n",
            "normalization: lower_and_strip_punctuation\n",
            "use_glove: True\n",
            "embedding_size: 300\n",
            "lstm_units_1: 64\n",
            "lstm_units_2: 128\n",
            "dropout_rate_1: 0.25\n",
            "dropout_rate_2: 0.75\n",
            "learning_rate: 0.0025776079856504484\n",
            "decay_rate: 0.00012410472053331077\n",
            "Score: 0.5856310129165649\n",
            "Trial summary\n",
            "Hyperparameters:\n",
            "max_sequence_length: 16\n",
            "vocabulary_size: 1000\n",
            "normalization: lower_and_strip_punctuation\n",
            "use_glove: False\n",
            "embedding_size: 200\n",
            "lstm_units_1: 64\n",
            "lstm_units_2: 32\n",
            "dropout_rate_1: 0.25\n",
            "dropout_rate_2: 0.25\n",
            "learning_rate: 0.006594347068910976\n",
            "decay_rate: 1.0\n",
            "Score: 0.5857068300247192\n",
            "Trial summary\n",
            "Hyperparameters:\n",
            "max_sequence_length: 16\n",
            "vocabulary_size: 1765\n",
            "normalization: lower_and_strip_punctuation\n",
            "use_glove: True\n",
            "embedding_size: 300\n",
            "lstm_units_1: 64\n",
            "lstm_units_2: 32\n",
            "dropout_rate_1: 0.25\n",
            "dropout_rate_2: 0.75\n",
            "learning_rate: 0.003799012968585416\n",
            "decay_rate: 0.03381630839135216\n",
            "Score: 0.5941295027732849\n",
            "Trial summary\n",
            "Hyperparameters:\n",
            "max_sequence_length: 20\n",
            "vocabulary_size: 1400\n",
            "normalization: lower_and_strip_punctuation\n",
            "use_glove: True\n",
            "embedding_size: 300\n",
            "lstm_units_1: 16\n",
            "lstm_units_2: 128\n",
            "dropout_rate_1: 0.25\n",
            "dropout_rate_2: 0.5\n",
            "learning_rate: 0.006862900952815941\n",
            "decay_rate: 1.0\n",
            "Score: 0.59757399559021\n",
            "Trial summary\n",
            "Hyperparameters:\n",
            "max_sequence_length: 20\n",
            "vocabulary_size: 1765\n",
            "normalization: lower_and_strip_punctuation\n",
            "use_glove: True\n",
            "embedding_size: 300\n",
            "lstm_units_1: 128\n",
            "lstm_units_2: 32\n",
            "dropout_rate_1: 0.25\n",
            "dropout_rate_2: 0.25\n",
            "learning_rate: 0.004399737495476812\n",
            "decay_rate: 0.014037485116771973\n",
            "Score: 0.6004506945610046\n",
            "Trial summary\n",
            "Hyperparameters:\n",
            "max_sequence_length: 16\n",
            "vocabulary_size: 1765\n",
            "normalization: lower_and_strip_punctuation\n",
            "use_glove: True\n",
            "embedding_size: 300\n",
            "lstm_units_1: 64\n",
            "lstm_units_2: 32\n",
            "dropout_rate_1: 0.5\n",
            "dropout_rate_2: 0.5\n",
            "learning_rate: 0.0039237135431117775\n",
            "decay_rate: 0.0001\n",
            "Score: 0.6031700372695923\n",
            "Trial summary\n",
            "Hyperparameters:\n",
            "max_sequence_length: 20\n",
            "vocabulary_size: 1000\n",
            "normalization: lower_and_strip_punctuation\n",
            "use_glove: False\n",
            "embedding_size: 300\n",
            "lstm_units_1: 64\n",
            "lstm_units_2: 32\n",
            "dropout_rate_1: 0.25\n",
            "dropout_rate_2: 0.25\n",
            "learning_rate: 0.0034093894018307333\n",
            "decay_rate: 0.0001\n",
            "Score: 0.6042839288711548\n",
            "Trial summary\n",
            "Hyperparameters:\n",
            "max_sequence_length: 16\n",
            "vocabulary_size: 1765\n",
            "normalization: lower_and_strip_punctuation\n",
            "use_glove: True\n",
            "embedding_size: 300\n",
            "lstm_units_1: 16\n",
            "lstm_units_2: 128\n",
            "dropout_rate_1: 0.25\n",
            "dropout_rate_2: 0.75\n",
            "learning_rate: 0.010485950962584185\n",
            "decay_rate: 0.0001\n",
            "Score: 0.6065611839294434\n",
            "Trial summary\n",
            "Hyperparameters:\n",
            "max_sequence_length: 16\n",
            "vocabulary_size: 1000\n",
            "normalization: lower_and_strip_punctuation\n",
            "use_glove: True\n",
            "embedding_size: 300\n",
            "lstm_units_1: 64\n",
            "lstm_units_2: 128\n",
            "dropout_rate_1: 0.25\n",
            "dropout_rate_2: 0.5\n",
            "learning_rate: 0.0024114133470162663\n",
            "decay_rate: 1.0\n",
            "Score: 0.6090010404586792\n",
            "Trial summary\n",
            "Hyperparameters:\n",
            "max_sequence_length: 20\n",
            "vocabulary_size: 1400\n",
            "normalization: lower_and_strip_punctuation\n",
            "use_glove: False\n",
            "embedding_size: 300\n",
            "lstm_units_1: 64\n",
            "lstm_units_2: 128\n",
            "dropout_rate_1: 0.5\n",
            "dropout_rate_2: 0.25\n",
            "learning_rate: 0.015605745561081139\n",
            "decay_rate: 0.0001\n",
            "Score: 0.6120991110801697\n"
          ]
        }
      ],
      "source": [
        "tuner.results_summary()"
      ]
    },
    {
      "cell_type": "code",
      "execution_count": null,
      "id": "1dc840a2",
      "metadata": {
        "id": "1dc840a2",
        "outputId": "02ae986a-9fe0-4abf-ae14-f783220d6ea0"
      },
      "outputs": [
        {
          "data": {
            "text/plain": [
              "{'max_sequence_length': 16,\n",
              " 'vocabulary_size': 1765,\n",
              " 'normalization': 'lower_and_strip_punctuation',\n",
              " 'use_glove': True,\n",
              " 'embedding_size': 300,\n",
              " 'lstm_units_1': 64,\n",
              " 'lstm_units_2': 128,\n",
              " 'dropout_rate_1': 0.25,\n",
              " 'dropout_rate_2': 0.75,\n",
              " 'learning_rate': 0.0025776079856504484,\n",
              " 'decay_rate': 0.00012410472053331077}"
            ]
          },
          "execution_count": 71,
          "metadata": {},
          "output_type": "execute_result"
        }
      ],
      "source": [
        "best_hp=tuner.get_best_hyperparameters()[0]\n",
        "best_hp.values"
      ]
    },
    {
      "cell_type": "markdown",
      "id": "94f8cb6c",
      "metadata": {
        "id": "94f8cb6c"
      },
      "source": [
        "We'll keep the hyperparameters from the best-performing model and train it with a larger number of epochs (and, of course, early stopping):"
      ]
    },
    {
      "cell_type": "code",
      "execution_count": null,
      "id": "4ac96dd4",
      "metadata": {
        "id": "4ac96dd4"
      },
      "outputs": [],
      "source": [
        "model=tuner.hypermodel.build(best_hp)"
      ]
    },
    {
      "cell_type": "code",
      "execution_count": null,
      "id": "b6d9b89a",
      "metadata": {
        "id": "b6d9b89a",
        "outputId": "094e2d50-bd58-4c16-905f-e63a820c5c54"
      },
      "outputs": [
        {
          "name": "stdout",
          "output_type": "stream",
          "text": [
            "Epoch 1/50\n",
            "21/21 [==============================] - 6s 67ms/step - loss: 1.7557 - accuracy: 0.3932 - precision_1: 0.7156 - val_loss: 1.1239 - val_accuracy: 0.6221 - val_precision_1: 0.7762\n",
            "Epoch 2/50\n",
            "21/21 [==============================] - 0s 11ms/step - loss: 0.9894 - accuracy: 0.6629 - precision_1: 0.7755 - val_loss: 0.8269 - val_accuracy: 0.7436 - val_precision_1: 0.8210\n",
            "Epoch 3/50\n",
            "21/21 [==============================] - 0s 11ms/step - loss: 0.6862 - accuracy: 0.7801 - precision_1: 0.8442 - val_loss: 0.7298 - val_accuracy: 0.7793 - val_precision_1: 0.8229\n",
            "Epoch 4/50\n",
            "21/21 [==============================] - 0s 11ms/step - loss: 0.5672 - accuracy: 0.8248 - precision_1: 0.8685 - val_loss: 0.6603 - val_accuracy: 0.8016 - val_precision_1: 0.8500\n",
            "Epoch 5/50\n",
            "21/21 [==============================] - 0s 11ms/step - loss: 0.4663 - accuracy: 0.8523 - precision_1: 0.8846 - val_loss: 0.6347 - val_accuracy: 0.8183 - val_precision_1: 0.8603\n",
            "Epoch 6/50\n",
            "21/21 [==============================] - 0s 10ms/step - loss: 0.3613 - accuracy: 0.8903 - precision_1: 0.9147 - val_loss: 0.7493 - val_accuracy: 0.7848 - val_precision_1: 0.8074\n",
            "Epoch 7/50\n",
            "21/21 [==============================] - 0s 11ms/step - loss: 0.3084 - accuracy: 0.9115 - precision_1: 0.9298 - val_loss: 0.6103 - val_accuracy: 0.8339 - val_precision_1: 0.8686\n",
            "Epoch 8/50\n",
            "21/21 [==============================] - 0s 10ms/step - loss: 0.2529 - accuracy: 0.9219 - precision_1: 0.9390 - val_loss: 0.7561 - val_accuracy: 0.8038 - val_precision_1: 0.8247\n",
            "Epoch 9/50\n",
            "21/21 [==============================] - 0s 10ms/step - loss: 0.2194 - accuracy: 0.9356 - precision_1: 0.9466 - val_loss: 0.7029 - val_accuracy: 0.8339 - val_precision_1: 0.8454\n",
            "Epoch 10/50\n",
            "21/21 [==============================] - 0s 11ms/step - loss: 0.1535 - accuracy: 0.9528 - precision_1: 0.9622 - val_loss: 0.8153 - val_accuracy: 0.8071 - val_precision_1: 0.8227\n",
            "Epoch 11/50\n",
            "21/21 [==============================] - 0s 11ms/step - loss: 0.1505 - accuracy: 0.9565 - precision_1: 0.9652 - val_loss: 0.7290 - val_accuracy: 0.8328 - val_precision_1: 0.8522\n",
            "Epoch 12/50\n",
            "21/21 [==============================] - 0s 11ms/step - loss: 0.1553 - accuracy: 0.9542 - precision_1: 0.9592 - val_loss: 0.7914 - val_accuracy: 0.8272 - val_precision_1: 0.8400\n"
          ]
        }
      ],
      "source": [
        "history = model.fit(X_train, y_train, validation_data=(X_val, y_val), epochs=50, batch_size=batch_size, callbacks=[early_stopping])"
      ]
    },
    {
      "cell_type": "code",
      "execution_count": null,
      "metadata": {
        "id": "ZOlMuDNsITno",
        "outputId": "6876389e-0de1-4619-c11f-03d00b70eaea"
      },
      "outputs": [
        {
          "data": {
            "text/plain": [
              "<matplotlib.legend.Legend at 0x7f90ac5ef400>"
            ]
          },
          "execution_count": 74,
          "metadata": {},
          "output_type": "execute_result"
        },
        {
          "data": {
            "image/png": "[encoded data removed]",
            "text/plain": [
              "<Figure size 640x480 with 1 Axes>"
            ]
          },
          "metadata": {},
          "output_type": "display_data"
        }
      ],
      "source": [
        "plt.plot(history.history['loss'])\n",
        "plt.plot(history.history['val_loss'])\n",
        "plt.legend(['loss', 'val_loss'])"
      ],
      "id": "ZOlMuDNsITno"
    },
    {
      "cell_type": "code",
      "execution_count": null,
      "metadata": {
        "id": "dM8UULyVITnp",
        "outputId": "b13450d8-1e76-4336-e11c-741e8eac2f85"
      },
      "outputs": [
        {
          "data": {
            "text/plain": [
              "<matplotlib.legend.Legend at 0x7f911bb11640>"
            ]
          },
          "execution_count": 75,
          "metadata": {},
          "output_type": "execute_result"
        },
        {
          "data": {
            "image/png": "[encoded data removed]",
            "text/plain": [
              "<Figure size 640x480 with 1 Axes>"
            ]
          },
          "metadata": {},
          "output_type": "display_data"
        }
      ],
      "source": [
        "plt.plot(history.history['accuracy'])\n",
        "plt.plot(history.history['val_accuracy'])\n",
        "plt.legend(['accuracy', 'val_accuracy'])"
      ],
      "id": "dM8UULyVITnp"
    },
    {
      "cell_type": "markdown",
      "id": "49d8e405",
      "metadata": {
        "id": "49d8e405"
      },
      "source": [
        "We can see that this model reached a min loss at epoch 7 with an accuracy of 83%, a decent improvement over our reference implementation. Let's also evaluate its performance against the test dataset:"
      ]
    },
    {
      "cell_type": "code",
      "execution_count": null,
      "id": "2caf1d64-ad11-4bff-9687-392e41f2fcc3",
      "metadata": {
        "id": "2caf1d64-ad11-4bff-9687-392e41f2fcc3",
        "outputId": "acf79297-8190-4dcf-a9fa-7c3b69cb74d3"
      },
      "outputs": [
        {
          "name": "stdout",
          "output_type": "stream",
          "text": [
            "29/29 [==============================] - 1s 3ms/step\n"
          ]
        }
      ],
      "source": [
        "predictions = model.predict(X_test)\n",
        "\n",
        "predictions = np.argmax(predictions, axis=1)\n",
        "true_labels = np.argmax(y_test, axis=1)\n",
        "\n",
        "confusion_matrix = confusion_matrix(true_labels, predictions)"
      ]
    },
    {
      "cell_type": "code",
      "execution_count": null,
      "id": "bdb5d022-aa26-48c6-89db-21207a4a8c2e",
      "metadata": {
        "id": "bdb5d022-aa26-48c6-89db-21207a4a8c2e",
        "outputId": "68900b30-a34a-43dc-952c-901c4c1a10f6"
      },
      "outputs": [
        {
          "name": "stdout",
          "output_type": "stream",
          "text": [
            "              precision    recall  f1-score   support\n",
            "\n",
            "           0       0.81      0.87      0.84        90\n",
            "           1       0.79      0.80      0.80        87\n",
            "           2       0.71      0.88      0.78       107\n",
            "           3       0.89      0.80      0.84        88\n",
            "           4       0.89      0.94      0.92        81\n",
            "           5       0.81      0.87      0.84       115\n",
            "           6       0.96      0.88      0.92        75\n",
            "           7       0.81      0.62      0.70        91\n",
            "           8       0.81      0.81      0.81        74\n",
            "           9       0.91      0.82      0.86        89\n",
            "\n",
            "    accuracy                           0.83       897\n",
            "   macro avg       0.84      0.83      0.83       897\n",
            "weighted avg       0.83      0.83      0.83       897\n",
            "\n"
          ]
        }
      ],
      "source": [
        "print(classification_report(true_labels, predictions))"
      ]
    },
    {
      "cell_type": "code",
      "execution_count": null,
      "id": "f0d23e99-7db5-4a5d-8ee3-8e60b165f7fe",
      "metadata": {
        "id": "f0d23e99-7db5-4a5d-8ee3-8e60b165f7fe",
        "outputId": "ba462bfe-cc4c-429f-c7ae-e4d1ebdeac85"
      },
      "outputs": [
        {
          "name": "stdout",
          "output_type": "stream",
          "text": [
            "[[ 78   1   1   5   1   0   0   1   3   0]\n",
            " [  3  70   2   1   2   1   1   2   1   4]\n",
            " [  2   1  94   0   0   4   0   3   2   1]\n",
            " [  5   2   8  70   1   0   0   0   2   0]\n",
            " [  0   0   1   1  76   0   0   3   0   0]\n",
            " [  0   4   7   0   0 100   0   1   2   1]\n",
            " [  0   1   1   0   0   7  66   0   0   0]\n",
            " [  3  10   5   1   2   8   2  56   3   1]\n",
            " [  3   0   7   1   1   2   0   0  60   0]\n",
            " [  2   0   7   0   2   1   0   3   1  73]]\n"
          ]
        }
      ],
      "source": [
        "print(confusion_matrix)"
      ]
    },
    {
      "cell_type": "code",
      "execution_count": null,
      "id": "024765aa",
      "metadata": {
        "id": "024765aa"
      },
      "outputs": [],
      "source": [
        "confusion_matrix=a"
      ]
    },
    {
      "cell_type": "code",
      "execution_count": null,
      "id": "3d243e35",
      "metadata": {
        "id": "3d243e35",
        "outputId": "717b6063-e4a4-4278-ded9-ace7bbe74abe"
      },
      "outputs": [
        {
          "data": {
            "text/plain": [
              "<AxesSubplot:>"
            ]
          },
          "execution_count": 71,
          "metadata": {},
          "output_type": "execute_result"
        },
        {
          "data": {
            "image/png": "[encoded data removed]",
            "text/plain": [
              "<Figure size 640x480 with 2 Axes>"
            ]
          },
          "metadata": {},
          "output_type": "display_data"
        }
      ],
      "source": [
        "import seaborn as sns\n",
        "sns.heatmap(confusion_matrix, annot=True)"
      ]
    },
    {
      "cell_type": "markdown",
      "id": "626a25ae-a2f1-4b50-b34e-09581b2252dd",
      "metadata": {
        "id": "626a25ae-a2f1-4b50-b34e-09581b2252dd"
      },
      "source": [
        "## Transformers\n",
        "\n",
        "Next up we will use pretrained transformer-based models from huggingface's transformers library. While the library supports tensorflow, it is much easier to find material for pytorch applications so we will switch our backend for this part.\n",
        "\n",
        "Let's begin by defining a few helper functions:"
      ]
    },
    {
      "cell_type": "code",
      "execution_count": null,
      "id": "ada3eb07-6b4d-4b4e-9fd4-82f25fd3ebbb",
      "metadata": {
        "id": "ada3eb07-6b4d-4b4e-9fd4-82f25fd3ebbb"
      },
      "outputs": [],
      "source": [
        "def tokenize(sentence, tokenizer):\n",
        "    tokenized_sentence = tokenizer.encode(sentence, add_special_tokens=True, max_length=max_sequence_length, padding='max_length', truncation=True)\n",
        "    return tokenized_sentence\n",
        "\n",
        "def tokenize_batch(sentences, tokenizer):\n",
        "    tokenized_sentences = [tokenize(sentence, tokenizer) for sentence in sentences]\n",
        "    return torch.tensor(tokenized_sentences)"
      ]
    },
    {
      "cell_type": "code",
      "execution_count": null,
      "id": "5034783f-2e00-4bdf-add6-2aaf319a390e",
      "metadata": {
        "id": "5034783f-2e00-4bdf-add6-2aaf319a390e"
      },
      "outputs": [],
      "source": [
        "def get_dataloader(X, y, tokenizer, batch_size=128):\n",
        "    X_tensor = tokenize_batch(X, tokenizer)\n",
        "    y_tensor = torch.tensor(y)\n",
        "    dataset = TensorDataset(X_tensor, y_tensor)\n",
        "    dataloader = DataLoader(dataset, batch_size=batch_size, shuffle=True)\n",
        "    return dataloader"
      ]
    },
    {
      "cell_type": "code",
      "execution_count": null,
      "id": "bfa581bf-2b15-45d8-bb2b-21adf1f143b9",
      "metadata": {
        "id": "bfa581bf-2b15-45d8-bb2b-21adf1f143b9"
      },
      "outputs": [],
      "source": [
        "def flat_accuracy(preds, labels):\n",
        "    pred_flat = np.argmax(preds, axis=1).flatten()\n",
        "    labels_flat = labels.flatten()\n",
        "    return np.sum(pred_flat == labels_flat) / len(labels_flat)\n"
      ]
    },
    {
      "cell_type": "code",
      "execution_count": null,
      "id": "7562342c",
      "metadata": {
        "id": "7562342c"
      },
      "outputs": [],
      "source": [
        "import time\n",
        "import datetime\n",
        "\n",
        "def format_time(elapsed):\n",
        "    elapsed_rounded = int(round((elapsed)))\n",
        "    return str(datetime.timedelta(seconds=elapsed_rounded))"
      ]
    },
    {
      "cell_type": "code",
      "execution_count": null,
      "id": "e24b9d89-7a5d-4877-b05a-fc941f2dfd2b",
      "metadata": {
        "id": "e24b9d89-7a5d-4877-b05a-fc941f2dfd2b"
      },
      "outputs": [],
      "source": [
        "def predict(sentence, tokenizer):\n",
        "    tokenized_sentence = tokenize(sentence, tokenizer)\n",
        "    tokenized_sentence = torch.tensor(tokenized_sentence).unsqueeze(0).to(device)\n",
        "    attention_mask = (tokenized_sentence != 0).int().to(device)\n",
        "    with torch.no_grad():\n",
        "        logits = model(tokenized_sentence, attention_mask=attention_mask)['logits']\n",
        "    logits = logits.detach().cpu().numpy()\n",
        "\n",
        "    return logits\n",
        "\n",
        "def predict_batch(sentences, tokenizer):\n",
        "    tokenized_sentences = tokenize_batch(sentences, tokenizer).to(device)\n",
        "    attention_mask = (tokenized_sentences != 0).int().to(device)\n",
        "    with torch.no_grad():\n",
        "        logits = model(tokenized_sentences, attention_mask=attention_mask)['logits']\n",
        "    logits = logits.detach().cpu().numpy()\n",
        "\n",
        "    return logits"
      ]
    },
    {
      "cell_type": "code",
      "execution_count": null,
      "id": "23505f46",
      "metadata": {
        "id": "23505f46"
      },
      "outputs": [],
      "source": [
        "def train(model, dataloader, optimizer, scheduler):\n",
        "    total_loss = 0\n",
        "    total_accuracy = 0\n",
        "    total_samples = 0\n",
        "\n",
        "    model.train()\n",
        "\n",
        "    for batch in dataloader:\n",
        "        batch_input_vector = batch[0].to(device)\n",
        "        batch_labels = batch[1].to(device)\n",
        "        batch_attention_mask = (batch_input_vector != 0).int().to(device)\n",
        "\n",
        "        model.zero_grad()\n",
        "        out = model(batch_input_vector, labels=batch_labels, attention_mask=batch_attention_mask)\n",
        "\n",
        "        loss = out['loss']\n",
        "        logits = out['logits']\n",
        "\n",
        "        loss.backward()\n",
        "        torch.nn.utils.clip_grad_norm_(model.parameters(), 1.0)\n",
        "        optimizer.step()\n",
        "        scheduler.step()\n",
        "\n",
        "        logits = logits.detach().cpu().numpy()\n",
        "        label_ids = batch_labels.cpu().numpy()\n",
        "\n",
        "        total_loss += len(batch_input_vector)*loss.item()\n",
        "        total_accuracy += len(batch_input_vector)*flat_accuracy(logits, label_ids)\n",
        "        total_samples += len(batch_input_vector)\n",
        "\n",
        "    avg_loss = total_loss / total_samples\n",
        "    avg_accuracy = total_accuracy / total_samples\n",
        "\n",
        "    return (avg_loss, avg_accuracy)"
      ]
    },
    {
      "cell_type": "code",
      "execution_count": null,
      "metadata": {
        "id": "AowKpVu3ITns"
      },
      "outputs": [],
      "source": [
        "def eval(model, dataloader):\n",
        "    total_loss = 0\n",
        "    total_accuracy = 0\n",
        "    total_samples = 0\n",
        "\n",
        "    model.eval()\n",
        "\n",
        "    for batch in dataloader:\n",
        "        batch_input_vector = batch[0].to(device)\n",
        "        batch_labels = batch[1].to(device)\n",
        "        batch_attention_mask = (batch_input_vector != 0).int().to(device)\n",
        "\n",
        "        with torch.no_grad():\n",
        "            out = model(batch_input_vector, labels=batch_labels, attention_mask=batch_attention_mask)\n",
        "\n",
        "        loss = out['loss']\n",
        "        logits = out['logits']\n",
        "\n",
        "        logits = logits.detach().cpu().numpy()\n",
        "        label_ids = batch_labels.cpu().numpy()\n",
        "\n",
        "        total_loss += len(batch_input_vector)*loss.item()\n",
        "        total_accuracy += len(batch_input_vector)*flat_accuracy(logits, label_ids)\n",
        "        total_samples += len(batch_input_vector)\n",
        "\n",
        "    avg_loss = total_loss / total_samples\n",
        "    avg_accuracy = total_accuracy / total_samples\n",
        "\n",
        "    return (avg_loss, avg_accuracy)"
      ],
      "id": "AowKpVu3ITns"
    },
    {
      "cell_type": "markdown",
      "id": "d2dd22de-b2bb-4a8e-980c-f26a13e45f43",
      "metadata": {
        "tags": [],
        "id": "d2dd22de-b2bb-4a8e-980c-f26a13e45f43"
      },
      "source": [
        "### Bert reference\n",
        "\n",
        "As before, we start by manually implementing a reference model before performing a search for fine-tuned hyperparameters:"
      ]
    },
    {
      "cell_type": "code",
      "execution_count": null,
      "id": "d97eb838-0546-4d06-98f2-d4b5673f1436",
      "metadata": {
        "id": "d97eb838-0546-4d06-98f2-d4b5673f1436",
        "outputId": "6550e4b1-69e6-4b25-b85b-9e6c3fd5892a"
      },
      "outputs": [
        {
          "name": "stderr",
          "output_type": "stream",
          "text": [
            "Some weights of the model checkpoint at bert-base-uncased were not used when initializing BertForSequenceClassification: ['cls.predictions.transform.dense.bias', 'cls.predictions.decoder.weight', 'cls.predictions.transform.dense.weight', 'cls.seq_relationship.bias', 'cls.predictions.transform.LayerNorm.weight', 'cls.predictions.bias', 'cls.predictions.transform.LayerNorm.bias', 'cls.seq_relationship.weight']\n",
            "- This IS expected if you are initializing BertForSequenceClassification from the checkpoint of a model trained on another task or with another architecture (e.g. initializing a BertForSequenceClassification model from a BertForPreTraining model).\n",
            "- This IS NOT expected if you are initializing BertForSequenceClassification from the checkpoint of a model that you expect to be exactly identical (initializing a BertForSequenceClassification model from a BertForSequenceClassification model).\n",
            "Some weights of BertForSequenceClassification were not initialized from the model checkpoint at bert-base-uncased and are newly initialized: ['classifier.weight', 'classifier.bias']\n",
            "You should probably TRAIN this model on a down-stream task to be able to use it for predictions and inference.\n"
          ]
        }
      ],
      "source": [
        "model_checkpoint='bert-base-uncased'\n",
        "model = AutoModelForSequenceClassification.from_pretrained(model_checkpoint, num_labels=num_labels)\n",
        "tokenizer=AutoTokenizer.from_pretrained(model_checkpoint)"
      ]
    },
    {
      "cell_type": "markdown",
      "id": "50d346f8",
      "metadata": {
        "id": "50d346f8"
      },
      "source": [
        "The learning rate and epsilon values were manually tuned through trial and error:"
      ]
    },
    {
      "cell_type": "code",
      "execution_count": null,
      "id": "08e040db-2ec5-48e8-86c9-4970b3122c75",
      "metadata": {
        "id": "08e040db-2ec5-48e8-86c9-4970b3122c75",
        "outputId": "f0bd5123-834f-4151-e4b5-2d53262f0a70"
      },
      "outputs": [
        {
          "name": "stderr",
          "output_type": "stream",
          "text": [
            "/home/viktor/anaconda3/lib/python3.9/site-packages/transformers/optimization.py:306: FutureWarning: This implementation of AdamW is deprecated and will be removed in a future version. Use the PyTorch implementation torch.optim.AdamW instead, or set `no_deprecation_warning=True` to disable this warning\n",
            "  warnings.warn(\n"
          ]
        }
      ],
      "source": [
        "optimizer = AdamW(model.parameters(), lr=1e-4, eps=1e-8)"
      ]
    },
    {
      "cell_type": "code",
      "execution_count": null,
      "id": "0aa49e3d-99db-4601-a994-55568fb656e5",
      "metadata": {
        "id": "0aa49e3d-99db-4601-a994-55568fb656e5"
      },
      "outputs": [],
      "source": [
        "train_dataloader=get_dataloader(X_train, y_train_int, tokenizer)\n",
        "val_dataloader=get_dataloader(X_val, y_val_int, tokenizer)\n",
        "test_dataloader=get_dataloader(X_test, y_test_int, tokenizer)"
      ]
    },
    {
      "cell_type": "code",
      "execution_count": null,
      "id": "f210066c-281a-4be0-8e1f-261ec23b7706",
      "metadata": {
        "id": "f210066c-281a-4be0-8e1f-261ec23b7706"
      },
      "outputs": [],
      "source": [
        "epochs = 10\n",
        "total_steps = len(train_dataloader) * epochs\n",
        "scheduler = get_linear_schedule_with_warmup(optimizer, num_warmup_steps=0, num_training_steps=total_steps)"
      ]
    },
    {
      "cell_type": "code",
      "execution_count": null,
      "id": "2873c19e-6abc-4c38-8244-55dbcff92731",
      "metadata": {
        "collapsed": true,
        "jupyter": {
          "outputs_hidden": true
        },
        "tags": [],
        "id": "2873c19e-6abc-4c38-8244-55dbcff92731",
        "outputId": "f297f6a0-49bb-4e21-e191-cff74ac872d3"
      },
      "outputs": [
        {
          "data": {
            "text/plain": [
              "BertForSequenceClassification(\n",
              "  (bert): BertModel(\n",
              "    (embeddings): BertEmbeddings(\n",
              "      (word_embeddings): Embedding(30522, 768, padding_idx=0)\n",
              "      (position_embeddings): Embedding(512, 768)\n",
              "      (token_type_embeddings): Embedding(2, 768)\n",
              "      (LayerNorm): LayerNorm((768,), eps=1e-12, elementwise_affine=True)\n",
              "      (dropout): Dropout(p=0.1, inplace=False)\n",
              "    )\n",
              "    (encoder): BertEncoder(\n",
              "      (layer): ModuleList(\n",
              "        (0): BertLayer(\n",
              "          (attention): BertAttention(\n",
              "            (self): BertSelfAttention(\n",
              "              (query): Linear(in_features=768, out_features=768, bias=True)\n",
              "              (key): Linear(in_features=768, out_features=768, bias=True)\n",
              "              (value): Linear(in_features=768, out_features=768, bias=True)\n",
              "              (dropout): Dropout(p=0.1, inplace=False)\n",
              "            )\n",
              "            (output): BertSelfOutput(\n",
              "              (dense): Linear(in_features=768, out_features=768, bias=True)\n",
              "              (LayerNorm): LayerNorm((768,), eps=1e-12, elementwise_affine=True)\n",
              "              (dropout): Dropout(p=0.1, inplace=False)\n",
              "            )\n",
              "          )\n",
              "          (intermediate): BertIntermediate(\n",
              "            (dense): Linear(in_features=768, out_features=3072, bias=True)\n",
              "            (intermediate_act_fn): GELUActivation()\n",
              "          )\n",
              "          (output): BertOutput(\n",
              "            (dense): Linear(in_features=3072, out_features=768, bias=True)\n",
              "            (LayerNorm): LayerNorm((768,), eps=1e-12, elementwise_affine=True)\n",
              "            (dropout): Dropout(p=0.1, inplace=False)\n",
              "          )\n",
              "        )\n",
              "        (1): BertLayer(\n",
              "          (attention): BertAttention(\n",
              "            (self): BertSelfAttention(\n",
              "              (query): Linear(in_features=768, out_features=768, bias=True)\n",
              "              (key): Linear(in_features=768, out_features=768, bias=True)\n",
              "              (value): Linear(in_features=768, out_features=768, bias=True)\n",
              "              (dropout): Dropout(p=0.1, inplace=False)\n",
              "            )\n",
              "            (output): BertSelfOutput(\n",
              "              (dense): Linear(in_features=768, out_features=768, bias=True)\n",
              "              (LayerNorm): LayerNorm((768,), eps=1e-12, elementwise_affine=True)\n",
              "              (dropout): Dropout(p=0.1, inplace=False)\n",
              "            )\n",
              "          )\n",
              "          (intermediate): BertIntermediate(\n",
              "            (dense): Linear(in_features=768, out_features=3072, bias=True)\n",
              "            (intermediate_act_fn): GELUActivation()\n",
              "          )\n",
              "          (output): BertOutput(\n",
              "            (dense): Linear(in_features=3072, out_features=768, bias=True)\n",
              "            (LayerNorm): LayerNorm((768,), eps=1e-12, elementwise_affine=True)\n",
              "            (dropout): Dropout(p=0.1, inplace=False)\n",
              "          )\n",
              "        )\n",
              "        (2): BertLayer(\n",
              "          (attention): BertAttention(\n",
              "            (self): BertSelfAttention(\n",
              "              (query): Linear(in_features=768, out_features=768, bias=True)\n",
              "              (key): Linear(in_features=768, out_features=768, bias=True)\n",
              "              (value): Linear(in_features=768, out_features=768, bias=True)\n",
              "              (dropout): Dropout(p=0.1, inplace=False)\n",
              "            )\n",
              "            (output): BertSelfOutput(\n",
              "              (dense): Linear(in_features=768, out_features=768, bias=True)\n",
              "              (LayerNorm): LayerNorm((768,), eps=1e-12, elementwise_affine=True)\n",
              "              (dropout): Dropout(p=0.1, inplace=False)\n",
              "            )\n",
              "          )\n",
              "          (intermediate): BertIntermediate(\n",
              "            (dense): Linear(in_features=768, out_features=3072, bias=True)\n",
              "            (intermediate_act_fn): GELUActivation()\n",
              "          )\n",
              "          (output): BertOutput(\n",
              "            (dense): Linear(in_features=3072, out_features=768, bias=True)\n",
              "            (LayerNorm): LayerNorm((768,), eps=1e-12, elementwise_affine=True)\n",
              "            (dropout): Dropout(p=0.1, inplace=False)\n",
              "          )\n",
              "        )\n",
              "        (3): BertLayer(\n",
              "          (attention): BertAttention(\n",
              "            (self): BertSelfAttention(\n",
              "              (query): Linear(in_features=768, out_features=768, bias=True)\n",
              "              (key): Linear(in_features=768, out_features=768, bias=True)\n",
              "              (value): Linear(in_features=768, out_features=768, bias=True)\n",
              "              (dropout): Dropout(p=0.1, inplace=False)\n",
              "            )\n",
              "            (output): BertSelfOutput(\n",
              "              (dense): Linear(in_features=768, out_features=768, bias=True)\n",
              "              (LayerNorm): LayerNorm((768,), eps=1e-12, elementwise_affine=True)\n",
              "              (dropout): Dropout(p=0.1, inplace=False)\n",
              "            )\n",
              "          )\n",
              "          (intermediate): BertIntermediate(\n",
              "            (dense): Linear(in_features=768, out_features=3072, bias=True)\n",
              "            (intermediate_act_fn): GELUActivation()\n",
              "          )\n",
              "          (output): BertOutput(\n",
              "            (dense): Linear(in_features=3072, out_features=768, bias=True)\n",
              "            (LayerNorm): LayerNorm((768,), eps=1e-12, elementwise_affine=True)\n",
              "            (dropout): Dropout(p=0.1, inplace=False)\n",
              "          )\n",
              "        )\n",
              "        (4): BertLayer(\n",
              "          (attention): BertAttention(\n",
              "            (self): BertSelfAttention(\n",
              "              (query): Linear(in_features=768, out_features=768, bias=True)\n",
              "              (key): Linear(in_features=768, out_features=768, bias=True)\n",
              "              (value): Linear(in_features=768, out_features=768, bias=True)\n",
              "              (dropout): Dropout(p=0.1, inplace=False)\n",
              "            )\n",
              "            (output): BertSelfOutput(\n",
              "              (dense): Linear(in_features=768, out_features=768, bias=True)\n",
              "              (LayerNorm): LayerNorm((768,), eps=1e-12, elementwise_affine=True)\n",
              "              (dropout): Dropout(p=0.1, inplace=False)\n",
              "            )\n",
              "          )\n",
              "          (intermediate): BertIntermediate(\n",
              "            (dense): Linear(in_features=768, out_features=3072, bias=True)\n",
              "            (intermediate_act_fn): GELUActivation()\n",
              "          )\n",
              "          (output): BertOutput(\n",
              "            (dense): Linear(in_features=3072, out_features=768, bias=True)\n",
              "            (LayerNorm): LayerNorm((768,), eps=1e-12, elementwise_affine=True)\n",
              "            (dropout): Dropout(p=0.1, inplace=False)\n",
              "          )\n",
              "        )\n",
              "        (5): BertLayer(\n",
              "          (attention): BertAttention(\n",
              "            (self): BertSelfAttention(\n",
              "              (query): Linear(in_features=768, out_features=768, bias=True)\n",
              "              (key): Linear(in_features=768, out_features=768, bias=True)\n",
              "              (value): Linear(in_features=768, out_features=768, bias=True)\n",
              "              (dropout): Dropout(p=0.1, inplace=False)\n",
              "            )\n",
              "            (output): BertSelfOutput(\n",
              "              (dense): Linear(in_features=768, out_features=768, bias=True)\n",
              "              (LayerNorm): LayerNorm((768,), eps=1e-12, elementwise_affine=True)\n",
              "              (dropout): Dropout(p=0.1, inplace=False)\n",
              "            )\n",
              "          )\n",
              "          (intermediate): BertIntermediate(\n",
              "            (dense): Linear(in_features=768, out_features=3072, bias=True)\n",
              "            (intermediate_act_fn): GELUActivation()\n",
              "          )\n",
              "          (output): BertOutput(\n",
              "            (dense): Linear(in_features=3072, out_features=768, bias=True)\n",
              "            (LayerNorm): LayerNorm((768,), eps=1e-12, elementwise_affine=True)\n",
              "            (dropout): Dropout(p=0.1, inplace=False)\n",
              "          )\n",
              "        )\n",
              "        (6): BertLayer(\n",
              "          (attention): BertAttention(\n",
              "            (self): BertSelfAttention(\n",
              "              (query): Linear(in_features=768, out_features=768, bias=True)\n",
              "              (key): Linear(in_features=768, out_features=768, bias=True)\n",
              "              (value): Linear(in_features=768, out_features=768, bias=True)\n",
              "              (dropout): Dropout(p=0.1, inplace=False)\n",
              "            )\n",
              "            (output): BertSelfOutput(\n",
              "              (dense): Linear(in_features=768, out_features=768, bias=True)\n",
              "              (LayerNorm): LayerNorm((768,), eps=1e-12, elementwise_affine=True)\n",
              "              (dropout): Dropout(p=0.1, inplace=False)\n",
              "            )\n",
              "          )\n",
              "          (intermediate): BertIntermediate(\n",
              "            (dense): Linear(in_features=768, out_features=3072, bias=True)\n",
              "            (intermediate_act_fn): GELUActivation()\n",
              "          )\n",
              "          (output): BertOutput(\n",
              "            (dense): Linear(in_features=3072, out_features=768, bias=True)\n",
              "            (LayerNorm): LayerNorm((768,), eps=1e-12, elementwise_affine=True)\n",
              "            (dropout): Dropout(p=0.1, inplace=False)\n",
              "          )\n",
              "        )\n",
              "        (7): BertLayer(\n",
              "          (attention): BertAttention(\n",
              "            (self): BertSelfAttention(\n",
              "              (query): Linear(in_features=768, out_features=768, bias=True)\n",
              "              (key): Linear(in_features=768, out_features=768, bias=True)\n",
              "              (value): Linear(in_features=768, out_features=768, bias=True)\n",
              "              (dropout): Dropout(p=0.1, inplace=False)\n",
              "            )\n",
              "            (output): BertSelfOutput(\n",
              "              (dense): Linear(in_features=768, out_features=768, bias=True)\n",
              "              (LayerNorm): LayerNorm((768,), eps=1e-12, elementwise_affine=True)\n",
              "              (dropout): Dropout(p=0.1, inplace=False)\n",
              "            )\n",
              "          )\n",
              "          (intermediate): BertIntermediate(\n",
              "            (dense): Linear(in_features=768, out_features=3072, bias=True)\n",
              "            (intermediate_act_fn): GELUActivation()\n",
              "          )\n",
              "          (output): BertOutput(\n",
              "            (dense): Linear(in_features=3072, out_features=768, bias=True)\n",
              "            (LayerNorm): LayerNorm((768,), eps=1e-12, elementwise_affine=True)\n",
              "            (dropout): Dropout(p=0.1, inplace=False)\n",
              "          )\n",
              "        )\n",
              "        (8): BertLayer(\n",
              "          (attention): BertAttention(\n",
              "            (self): BertSelfAttention(\n",
              "              (query): Linear(in_features=768, out_features=768, bias=True)\n",
              "              (key): Linear(in_features=768, out_features=768, bias=True)\n",
              "              (value): Linear(in_features=768, out_features=768, bias=True)\n",
              "              (dropout): Dropout(p=0.1, inplace=False)\n",
              "            )\n",
              "            (output): BertSelfOutput(\n",
              "              (dense): Linear(in_features=768, out_features=768, bias=True)\n",
              "              (LayerNorm): LayerNorm((768,), eps=1e-12, elementwise_affine=True)\n",
              "              (dropout): Dropout(p=0.1, inplace=False)\n",
              "            )\n",
              "          )\n",
              "          (intermediate): BertIntermediate(\n",
              "            (dense): Linear(in_features=768, out_features=3072, bias=True)\n",
              "            (intermediate_act_fn): GELUActivation()\n",
              "          )\n",
              "          (output): BertOutput(\n",
              "            (dense): Linear(in_features=3072, out_features=768, bias=True)\n",
              "            (LayerNorm): LayerNorm((768,), eps=1e-12, elementwise_affine=True)\n",
              "            (dropout): Dropout(p=0.1, inplace=False)\n",
              "          )\n",
              "        )\n",
              "        (9): BertLayer(\n",
              "          (attention): BertAttention(\n",
              "            (self): BertSelfAttention(\n",
              "              (query): Linear(in_features=768, out_features=768, bias=True)\n",
              "              (key): Linear(in_features=768, out_features=768, bias=True)\n",
              "              (value): Linear(in_features=768, out_features=768, bias=True)\n",
              "              (dropout): Dropout(p=0.1, inplace=False)\n",
              "            )\n",
              "            (output): BertSelfOutput(\n",
              "              (dense): Linear(in_features=768, out_features=768, bias=True)\n",
              "              (LayerNorm): LayerNorm((768,), eps=1e-12, elementwise_affine=True)\n",
              "              (dropout): Dropout(p=0.1, inplace=False)\n",
              "            )\n",
              "          )\n",
              "          (intermediate): BertIntermediate(\n",
              "            (dense): Linear(in_features=768, out_features=3072, bias=True)\n",
              "            (intermediate_act_fn): GELUActivation()\n",
              "          )\n",
              "          (output): BertOutput(\n",
              "            (dense): Linear(in_features=3072, out_features=768, bias=True)\n",
              "            (LayerNorm): LayerNorm((768,), eps=1e-12, elementwise_affine=True)\n",
              "            (dropout): Dropout(p=0.1, inplace=False)\n",
              "          )\n",
              "        )\n",
              "        (10): BertLayer(\n",
              "          (attention): BertAttention(\n",
              "            (self): BertSelfAttention(\n",
              "              (query): Linear(in_features=768, out_features=768, bias=True)\n",
              "              (key): Linear(in_features=768, out_features=768, bias=True)\n",
              "              (value): Linear(in_features=768, out_features=768, bias=True)\n",
              "              (dropout): Dropout(p=0.1, inplace=False)\n",
              "            )\n",
              "            (output): BertSelfOutput(\n",
              "              (dense): Linear(in_features=768, out_features=768, bias=True)\n",
              "              (LayerNorm): LayerNorm((768,), eps=1e-12, elementwise_affine=True)\n",
              "              (dropout): Dropout(p=0.1, inplace=False)\n",
              "            )\n",
              "          )\n",
              "          (intermediate): BertIntermediate(\n",
              "            (dense): Linear(in_features=768, out_features=3072, bias=True)\n",
              "            (intermediate_act_fn): GELUActivation()\n",
              "          )\n",
              "          (output): BertOutput(\n",
              "            (dense): Linear(in_features=3072, out_features=768, bias=True)\n",
              "            (LayerNorm): LayerNorm((768,), eps=1e-12, elementwise_affine=True)\n",
              "            (dropout): Dropout(p=0.1, inplace=False)\n",
              "          )\n",
              "        )\n",
              "        (11): BertLayer(\n",
              "          (attention): BertAttention(\n",
              "            (self): BertSelfAttention(\n",
              "              (query): Linear(in_features=768, out_features=768, bias=True)\n",
              "              (key): Linear(in_features=768, out_features=768, bias=True)\n",
              "              (value): Linear(in_features=768, out_features=768, bias=True)\n",
              "              (dropout): Dropout(p=0.1, inplace=False)\n",
              "            )\n",
              "            (output): BertSelfOutput(\n",
              "              (dense): Linear(in_features=768, out_features=768, bias=True)\n",
              "              (LayerNorm): LayerNorm((768,), eps=1e-12, elementwise_affine=True)\n",
              "              (dropout): Dropout(p=0.1, inplace=False)\n",
              "            )\n",
              "          )\n",
              "          (intermediate): BertIntermediate(\n",
              "            (dense): Linear(in_features=768, out_features=3072, bias=True)\n",
              "            (intermediate_act_fn): GELUActivation()\n",
              "          )\n",
              "          (output): BertOutput(\n",
              "            (dense): Linear(in_features=3072, out_features=768, bias=True)\n",
              "            (LayerNorm): LayerNorm((768,), eps=1e-12, elementwise_affine=True)\n",
              "            (dropout): Dropout(p=0.1, inplace=False)\n",
              "          )\n",
              "        )\n",
              "      )\n",
              "    )\n",
              "    (pooler): BertPooler(\n",
              "      (dense): Linear(in_features=768, out_features=768, bias=True)\n",
              "      (activation): Tanh()\n",
              "    )\n",
              "  )\n",
              "  (dropout): Dropout(p=0.1, inplace=False)\n",
              "  (classifier): Linear(in_features=768, out_features=10, bias=True)\n",
              ")"
            ]
          },
          "execution_count": 25,
          "metadata": {},
          "output_type": "execute_result"
        }
      ],
      "source": [
        "model.to(device)"
      ]
    },
    {
      "cell_type": "code",
      "execution_count": null,
      "id": "0786e489-417b-443a-85a4-fa45ea60222e",
      "metadata": {
        "id": "0786e489-417b-443a-85a4-fa45ea60222e",
        "outputId": "35a45346-781d-42e4-d38d-1ae40ee510a4"
      },
      "outputs": [
        {
          "name": "stdout",
          "output_type": "stream",
          "text": [
            "======== Epoch 1 / 10 ========\n",
            "Training\tLoss: 1.68\tAccuracy: 0.52\t\tTime: 0:00:08s\n",
            "Validation\tLoss: 0.89\tAccuracy: 0.79\t\tTime: 0:00:01s\n",
            "======== Epoch 2 / 10 ========\n",
            "Training\tLoss: 0.59\tAccuracy: 0.85\t\tTime: 0:00:08s\n",
            "Validation\tLoss: 0.45\tAccuracy: 0.88\t\tTime: 0:00:01s\n",
            "======== Epoch 3 / 10 ========\n",
            "Training\tLoss: 0.24\tAccuracy: 0.94\t\tTime: 0:00:08s\n",
            "Validation\tLoss: 0.39\tAccuracy: 0.90\t\tTime: 0:00:01s\n",
            "======== Epoch 4 / 10 ========\n",
            "Training\tLoss: 0.12\tAccuracy: 0.97\t\tTime: 0:00:08s\n",
            "Validation\tLoss: 0.39\tAccuracy: 0.90\t\tTime: 0:00:01s\n",
            "======== Epoch 5 / 10 ========\n",
            "Training\tLoss: 0.06\tAccuracy: 0.99\t\tTime: 0:00:08s\n",
            "Validation\tLoss: 0.41\tAccuracy: 0.90\t\tTime: 0:00:01s\n",
            "======== Epoch 6 / 10 ========\n",
            "Training\tLoss: 0.03\tAccuracy: 0.99\t\tTime: 0:00:08s\n",
            "Validation\tLoss: 0.38\tAccuracy: 0.90\t\tTime: 0:00:01s\n",
            "======== Epoch 7 / 10 ========\n",
            "Training\tLoss: 0.02\tAccuracy: 1.00\t\tTime: 0:00:08s\n",
            "Validation\tLoss: 0.43\tAccuracy: 0.91\t\tTime: 0:00:01s\n",
            "======== Epoch 8 / 10 ========\n",
            "Training\tLoss: 0.01\tAccuracy: 1.00\t\tTime: 0:00:08s\n",
            "Validation\tLoss: 0.42\tAccuracy: 0.91\t\tTime: 0:00:01s\n",
            "======== Epoch 9 / 10 ========\n",
            "Training\tLoss: 0.01\tAccuracy: 1.00\t\tTime: 0:00:08s\n",
            "Validation\tLoss: 0.43\tAccuracy: 0.91\t\tTime: 0:00:01s\n",
            "======== Epoch 10 / 10 ========\n",
            "Training\tLoss: 0.01\tAccuracy: 1.00\t\tTime: 0:00:08s\n",
            "Validation\tLoss: 0.43\tAccuracy: 0.91\t\tTime: 0:00:01s\n",
            "\n",
            "Total training took 0:01:27 (h:mm:ss)\n"
          ]
        },
        {
          "data": {
            "text/plain": [
              "('model/tokenizer_config.json',\n",
              " 'model/special_tokens_map.json',\n",
              " 'model/vocab.txt',\n",
              " 'model/added_tokens.json',\n",
              " 'model/tokenizer.json')"
            ]
          },
          "execution_count": 218,
          "metadata": {},
          "output_type": "execute_result"
        }
      ],
      "source": [
        "total_t0 = time.time()\n",
        "history = dict()\n",
        "history['train_loss'] = []\n",
        "history['train_accuracy'] = []\n",
        "history['val_loss'] = []\n",
        "history['val_accuracy'] = []\n",
        "min_loss = float('inf')\n",
        "epochs_with_no_improvement = 0\n",
        "\n",
        "for epoch_i in range(epochs):\n",
        "    print('======== Epoch {:} / {:} ========'.format(epoch_i + 1, epochs))\n",
        "    print('Training...', end='')\n",
        "    t0 = time.time()\n",
        "\n",
        "    avg_train_loss, avg_train_accuracy = train(model, train_dataloader, optimizer, scheduler)\n",
        "\n",
        "    history['train_loss'].append(avg_train_loss)\n",
        "    history['train_accuracy'].append(avg_train_accuracy)\n",
        "\n",
        "    training_time = format_time(time.time() - t0)\n",
        "    print('\\rTraining\\tLoss: {0:.2f}\\tAccuracy: {1:.2f}\\t\\tTime: {2:}s'.format(\n",
        "        avg_train_loss, avg_train_accuracy, training_time))\n",
        "\n",
        "    print('Validation...', end='')\n",
        "    t0 = time.time()\n",
        "\n",
        "    avg_val_loss, avg_val_accuracy = eval(model, val_dataloader)\n",
        "\n",
        "    history['val_loss'].append(avg_val_loss)\n",
        "    history['val_accuracy'].append(avg_val_accuracy)\n",
        "\n",
        "    validation_time = format_time(time.time() - t0)\n",
        "    print('\\rValidation\\tLoss: {0:.2f}\\tAccuracy: {1:.2f}\\t\\tTime: {2:}s'.format(\n",
        "        avg_val_loss, avg_val_accuracy, validation_time))\n",
        "\n",
        "    # early stopping\n",
        "    if(avg_val_loss < min_loss):\n",
        "        min_loss = avg_val_loss\n",
        "        epochs_with_no_improvement = 0\n",
        "\n",
        "    if(epochs_with_no_improvement >= early_stopping_patience):\n",
        "        break\n",
        "\n",
        "print('\\nTotal training took {:} (h:mm:ss)'.format(format_time(time.time()-total_t0)))\n",
        "\n",
        "model.save_pretrained('model')\n",
        "tokenizer.save_pretrained('model')"
      ]
    },
    {
      "cell_type": "code",
      "execution_count": null,
      "metadata": {
        "id": "NxTdmS2hITnu",
        "outputId": "4da9d715-0e5f-45e5-96e6-e6ec6fc7ec68"
      },
      "outputs": [
        {
          "data": {
            "text/plain": [
              "<matplotlib.legend.Legend at 0x7f461c2015e0>"
            ]
          },
          "execution_count": 219,
          "metadata": {},
          "output_type": "execute_result"
        },
        {
          "data": {
            "image/png": "[encoded data removed]",
            "text/plain": [
              "<Figure size 1500x500 with 2 Axes>"
            ]
          },
          "metadata": {},
          "output_type": "display_data"
        }
      ],
      "source": [
        "plt.figure(figsize=(15,5))\n",
        "plt.subplot(121)\n",
        "plt.plot(history['train_loss'])\n",
        "plt.plot(history['val_loss'])\n",
        "plt.legend(['training loss', 'validation loss'])\n",
        "plt.subplot(122)\n",
        "plt.plot(history['train_accuracy'])\n",
        "plt.plot(history['val_accuracy'])\n",
        "plt.legend(['training accuracy', 'validation accuracy'])"
      ],
      "id": "NxTdmS2hITnu"
    },
    {
      "cell_type": "markdown",
      "id": "7cbc6b39",
      "metadata": {
        "id": "7cbc6b39"
      },
      "source": [
        "We can see that Bert quickly converges and reaches an accuracy of 90%."
      ]
    },
    {
      "cell_type": "markdown",
      "id": "a4b31f01",
      "metadata": {
        "id": "a4b31f01"
      },
      "source": [
        "### Tuning\n",
        "\n",
        "We will perform a simple grid search to find the best combination of hyperparameters for each model."
      ]
    },
    {
      "cell_type": "code",
      "execution_count": null,
      "id": "dbdac97d",
      "metadata": {
        "id": "dbdac97d"
      },
      "outputs": [],
      "source": [
        "hyperparameters = \\\n",
        "{\n",
        "    'checkpoint': ['bert-base-uncased', 'roberta-base', 'distilbert-base-uncased'],\n",
        "    'learning_rate': [1e-5, 5e-5, 1e-4, 5e-4],\n",
        "    'epsilon': [1e-6, 1e-7, 1e-8],\n",
        "    'batch_size': [64, 128],\n",
        "}"
      ]
    },
    {
      "cell_type": "markdown",
      "id": "c810c36d",
      "metadata": {
        "id": "c810c36d"
      },
      "source": [
        "Create a list of all hyperparameter value permutations:"
      ]
    },
    {
      "cell_type": "code",
      "execution_count": null,
      "id": "a58510d1",
      "metadata": {
        "id": "a58510d1",
        "outputId": "ae2a7dc2-40f4-43de-f937-99bf9bb99574"
      },
      "outputs": [
        {
          "name": "stdout",
          "output_type": "stream",
          "text": [
            "72\n",
            "{'checkpoint': 'bert-base-uncased', 'learning_rate': 1e-05, 'epsilon': 1e-06, 'batch_size': 64}\n",
            "...\n",
            "{'checkpoint': 'distilbert-base-uncased', 'learning_rate': 0.0005, 'epsilon': 1e-08, 'batch_size': 128}\n"
          ]
        }
      ],
      "source": [
        "import itertools\n",
        "\n",
        "keys = list(hyperparameters.keys())\n",
        "grid = [dict(zip(keys, values)) for values in itertools.product(*hyperparameters.values())]\n",
        "print(len(grid))\n",
        "print(grid[0])\n",
        "print('...')\n",
        "print(grid[-1])"
      ]
    },
    {
      "cell_type": "code",
      "execution_count": null,
      "id": "be5b3a2e",
      "metadata": {
        "id": "be5b3a2e"
      },
      "outputs": [],
      "source": [
        "def model_fit(hp, epochs=5, early_stopping_patience=3, early_stopping_epsilon=0.05, verbose=True):\n",
        "    model = AutoModelForSequenceClassification.from_pretrained(hp['checkpoint'], num_labels=num_labels)\n",
        "    tokenizer=AutoTokenizer.from_pretrained(hp['checkpoint'])\n",
        "\n",
        "    optimizer = AdamW(model.parameters(), lr=hp['learning_rate'], eps=hp['epsilon'])\n",
        "\n",
        "    train_dataloader=get_dataloader(X_train, y_train_int, tokenizer, batch_size=hp['batch_size'])\n",
        "    val_dataloader=get_dataloader(X_val, y_val_int, tokenizer, batch_size=hp['batch_size'])\n",
        "\n",
        "    total_steps = len(train_dataloader) * epochs\n",
        "    scheduler = get_linear_schedule_with_warmup(optimizer, num_warmup_steps=0, num_training_steps=total_steps)\n",
        "\n",
        "    model.to(device)\n",
        "\n",
        "    total_t0 = time.time()\n",
        "    history = dict()\n",
        "    history['train_loss'] = []\n",
        "    history['train_accuracy'] = []\n",
        "    history['val_loss'] = []\n",
        "    history['val_accuracy'] = []\n",
        "    min_loss = float('inf')\n",
        "    epochs_with_no_improvement = 0\n",
        "\n",
        "    for epoch_i in range(epochs):\n",
        "        if verbose:\n",
        "            print('======== Epoch {:} / {:} ========'.format(epoch_i + 1, epochs))\n",
        "            print('Training...', end='')\n",
        "            t0 = time.time()\n",
        "\n",
        "        avg_train_loss, avg_train_accuracy = train(model, train_dataloader, optimizer, scheduler)\n",
        "\n",
        "        history['train_loss'].append(avg_train_loss)\n",
        "        history['train_accuracy'].append(avg_train_accuracy)\n",
        "\n",
        "        if verbose:\n",
        "            training_time = format_time(time.time() - t0)\n",
        "            print('\\rTraining\\tLoss: {0:.2f}\\tAccuracy: {1:.2f}\\t\\tTime: {2:}s'.format(\n",
        "                avg_train_loss, avg_train_accuracy, training_time))\n",
        "            print('Validation...', end='')\n",
        "            t0 = time.time()\n",
        "\n",
        "        avg_val_loss, avg_val_accuracy = eval(model, val_dataloader)\n",
        "\n",
        "        history['val_loss'].append(avg_val_loss)\n",
        "        history['val_accuracy'].append(avg_val_accuracy)\n",
        "\n",
        "        if verbose:\n",
        "            validation_time = format_time(time.time() - t0)\n",
        "            print('\\rValidation\\tLoss: {0:.2f}\\tAccuracy: {1:.2f}\\t\\tTime: {2:}s'.format(\n",
        "                avg_val_loss, avg_val_accuracy, validation_time))\n",
        "\n",
        "        # early stopping\n",
        "        epochs_with_no_improvement+=1\n",
        "\n",
        "        if(avg_val_loss <= min_loss + early_stopping_epsilon):\n",
        "            min_loss = min(avg_val_loss, min_loss)\n",
        "            epochs_with_no_improvement = 0\n",
        "\n",
        "        if(epochs_with_no_improvement >= early_stopping_patience):\n",
        "            break\n",
        "\n",
        "    if verbose:\n",
        "        print('\\nTotal model training took {:} (h:mm:ss)'.format(format_time(time.time()-total_t0)))\n",
        "\n",
        "    return history"
      ]
    },
    {
      "cell_type": "markdown",
      "id": "243f1c13",
      "metadata": {
        "id": "243f1c13"
      },
      "source": [
        "Due to some memory issues it is necessary to clear the VRAM after each model training."
      ]
    },
    {
      "cell_type": "code",
      "execution_count": null,
      "id": "486a059b",
      "metadata": {
        "id": "486a059b"
      },
      "outputs": [],
      "source": [
        "import gc\n",
        "gc.collect()\n",
        "torch.cuda.empty_cache()"
      ]
    },
    {
      "cell_type": "markdown",
      "id": "1953797e",
      "metadata": {
        "id": "1953797e"
      },
      "source": [
        "Perform the grid search:"
      ]
    },
    {
      "cell_type": "code",
      "execution_count": null,
      "id": "9c673e05",
      "metadata": {
        "id": "9c673e05",
        "outputId": "173574b2-8516-48a8-89ef-dfad5167b867"
      },
      "outputs": [
        {
          "name": "stdout",
          "output_type": "stream",
          "text": [
            "{'checkpoint': 'bert-base-uncased', 'learning_rate': 1e-05, 'epsilon': 1e-06, 'batch_size': 64}\n"
          ]
        },
        {
          "name": "stderr",
          "output_type": "stream",
          "text": [
            "Some weights of the model checkpoint at bert-base-uncased were not used when initializing BertForSequenceClassification: ['cls.predictions.transform.dense.bias', 'cls.seq_relationship.weight', 'cls.predictions.bias', 'cls.predictions.transform.dense.weight', 'cls.predictions.transform.LayerNorm.weight', 'cls.predictions.decoder.weight', 'cls.seq_relationship.bias', 'cls.predictions.transform.LayerNorm.bias']\n",
            "- This IS expected if you are initializing BertForSequenceClassification from the checkpoint of a model trained on another task or with another architecture (e.g. initializing a BertForSequenceClassification model from a BertForPreTraining model).\n",
            "- This IS NOT expected if you are initializing BertForSequenceClassification from the checkpoint of a model that you expect to be exactly identical (initializing a BertForSequenceClassification model from a BertForSequenceClassification model).\n",
            "Some weights of BertForSequenceClassification were not initialized from the model checkpoint at bert-base-uncased and are newly initialized: ['classifier.weight', 'classifier.bias']\n",
            "You should probably TRAIN this model on a down-stream task to be able to use it for predictions and inference.\n",
            "/home/viktor/anaconda3/lib/python3.9/site-packages/transformers/optimization.py:306: FutureWarning: This implementation of AdamW is deprecated and will be removed in a future version. Use the PyTorch implementation torch.optim.AdamW instead, or set `no_deprecation_warning=True` to disable this warning\n",
            "  warnings.warn(\n"
          ]
        },
        {
          "name": "stdout",
          "output_type": "stream",
          "text": [
            "======== Epoch 1 / 5 ========\n",
            "Training\tLoss: 2.24\tAccuracy: 0.18\t\tTime: 0:00:10s\n",
            "Validation\tLoss: 2.05\tAccuracy: 0.31\t\tTime: 0:00:01s\n",
            "======== Epoch 2 / 5 ========\n",
            "Training\tLoss: 1.97\tAccuracy: 0.37\t\tTime: 0:00:09s\n",
            "Validation\tLoss: 1.81\tAccuracy: 0.55\t\tTime: 0:00:01s\n",
            "======== Epoch 3 / 5 ========\n",
            "Training\tLoss: 1.76\tAccuracy: 0.53\t\tTime: 0:00:09s\n",
            "Validation\tLoss: 1.64\tAccuracy: 0.63\t\tTime: 0:00:01s\n",
            "======== Epoch 4 / 5 ========\n",
            "Training\tLoss: 1.62\tAccuracy: 0.63\t\tTime: 0:00:09s\n",
            "Validation\tLoss: 1.52\tAccuracy: 0.68\t\tTime: 0:00:01s\n",
            "======== Epoch 5 / 5 ========\n",
            "Training\tLoss: 1.53\tAccuracy: 0.67\t\tTime: 0:00:09s\n",
            "Validation\tLoss: 1.48\tAccuracy: 0.69\t\tTime: 0:00:01s\n",
            "\n",
            "Total model training took 0:00:51 (h:mm:ss)\n",
            "{'checkpoint': 'bert-base-uncased', 'learning_rate': 1e-05, 'epsilon': 1e-06, 'batch_size': 128}\n"
          ]
        },
        {
          "name": "stderr",
          "output_type": "stream",
          "text": [
            "Some weights of the model checkpoint at bert-base-uncased were not used when initializing BertForSequenceClassification: ['cls.predictions.transform.dense.bias', 'cls.seq_relationship.weight', 'cls.predictions.bias', 'cls.predictions.transform.dense.weight', 'cls.predictions.transform.LayerNorm.weight', 'cls.predictions.decoder.weight', 'cls.seq_relationship.bias', 'cls.predictions.transform.LayerNorm.bias']\n",
            "- This IS expected if you are initializing BertForSequenceClassification from the checkpoint of a model trained on another task or with another architecture (e.g. initializing a BertForSequenceClassification model from a BertForPreTraining model).\n",
            "- This IS NOT expected if you are initializing BertForSequenceClassification from the checkpoint of a model that you expect to be exactly identical (initializing a BertForSequenceClassification model from a BertForSequenceClassification model).\n",
            "Some weights of BertForSequenceClassification were not initialized from the model checkpoint at bert-base-uncased and are newly initialized: ['classifier.weight', 'classifier.bias']\n",
            "You should probably TRAIN this model on a down-stream task to be able to use it for predictions and inference.\n"
          ]
        },
        {
          "name": "stdout",
          "output_type": "stream",
          "text": [
            "======== Epoch 1 / 5 ========\n",
            "Training\tLoss: 2.26\tAccuracy: 0.14\t\tTime: 0:00:07s\n",
            "Validation\tLoss: 2.18\tAccuracy: 0.20\t\tTime: 0:00:01s\n",
            "======== Epoch 2 / 5 ========\n",
            "Training\tLoss: 2.13\tAccuracy: 0.23\t\tTime: 0:00:07s\n",
            "Validation\tLoss: 2.06\tAccuracy: 0.30\t\tTime: 0:00:01s\n",
            "======== Epoch 3 / 5 ========\n",
            "Training\tLoss: 2.02\tAccuracy: 0.31\t\tTime: 0:00:07s\n",
            "Validation\tLoss: 1.94\tAccuracy: 0.41\t\tTime: 0:00:01s\n",
            "======== Epoch 4 / 5 ========\n",
            "Training\tLoss: 1.93\tAccuracy: 0.38\t\tTime: 0:00:07s\n",
            "Validation\tLoss: 1.87\tAccuracy: 0.47\t\tTime: 0:00:01s\n",
            "======== Epoch 5 / 5 ========\n",
            "Training\tLoss: 1.87\tAccuracy: 0.44\t\tTime: 0:00:07s\n",
            "Validation\tLoss: 1.84\tAccuracy: 0.49\t\tTime: 0:00:01s\n",
            "\n",
            "Total model training took 0:00:41 (h:mm:ss)\n",
            "{'checkpoint': 'bert-base-uncased', 'learning_rate': 1e-05, 'epsilon': 1e-07, 'batch_size': 64}\n"
          ]
        },
        {
          "name": "stderr",
          "output_type": "stream",
          "text": [
            "Some weights of the model checkpoint at bert-base-uncased were not used when initializing BertForSequenceClassification: ['cls.predictions.transform.dense.bias', 'cls.seq_relationship.weight', 'cls.predictions.bias', 'cls.predictions.transform.dense.weight', 'cls.predictions.transform.LayerNorm.weight', 'cls.predictions.decoder.weight', 'cls.seq_relationship.bias', 'cls.predictions.transform.LayerNorm.bias']\n",
            "- This IS expected if you are initializing BertForSequenceClassification from the checkpoint of a model trained on another task or with another architecture (e.g. initializing a BertForSequenceClassification model from a BertForPreTraining model).\n",
            "- This IS NOT expected if you are initializing BertForSequenceClassification from the checkpoint of a model that you expect to be exactly identical (initializing a BertForSequenceClassification model from a BertForSequenceClassification model).\n",
            "Some weights of BertForSequenceClassification were not initialized from the model checkpoint at bert-base-uncased and are newly initialized: ['classifier.weight', 'classifier.bias']\n",
            "You should probably TRAIN this model on a down-stream task to be able to use it for predictions and inference.\n"
          ]
        },
        {
          "name": "stdout",
          "output_type": "stream",
          "text": [
            "======== Epoch 1 / 5 ========\n",
            "Training\tLoss: 2.25\tAccuracy: 0.17\t\tTime: 0:00:09s\n",
            "Validation\tLoss: 2.09\tAccuracy: 0.28\t\tTime: 0:00:01s\n",
            "======== Epoch 2 / 5 ========\n",
            "Training\tLoss: 1.96\tAccuracy: 0.40\t\tTime: 0:00:09s\n",
            "Validation\tLoss: 1.77\tAccuracy: 0.53\t\tTime: 0:00:01s\n",
            "======== Epoch 3 / 5 ========\n",
            "Training\tLoss: 1.67\tAccuracy: 0.61\t\tTime: 0:00:09s\n",
            "Validation\tLoss: 1.53\tAccuracy: 0.64\t\tTime: 0:00:01s\n",
            "======== Epoch 4 / 5 ========\n",
            "Training\tLoss: 1.49\tAccuracy: 0.70\t\tTime: 0:00:09s\n",
            "Validation\tLoss: 1.39\tAccuracy: 0.70\t\tTime: 0:00:01s\n",
            "======== Epoch 5 / 5 ========\n",
            "Training\tLoss: 1.39\tAccuracy: 0.75\t\tTime: 0:00:09s\n",
            "Validation\tLoss: 1.34\tAccuracy: 0.71\t\tTime: 0:00:01s\n",
            "\n",
            "Total model training took 0:00:49 (h:mm:ss)\n",
            "{'checkpoint': 'bert-base-uncased', 'learning_rate': 1e-05, 'epsilon': 1e-07, 'batch_size': 128}\n"
          ]
        },
        {
          "name": "stderr",
          "output_type": "stream",
          "text": [
            "Some weights of the model checkpoint at bert-base-uncased were not used when initializing BertForSequenceClassification: ['cls.predictions.transform.dense.bias', 'cls.seq_relationship.weight', 'cls.predictions.bias', 'cls.predictions.transform.dense.weight', 'cls.predictions.transform.LayerNorm.weight', 'cls.predictions.decoder.weight', 'cls.seq_relationship.bias', 'cls.predictions.transform.LayerNorm.bias']\n",
            "- This IS expected if you are initializing BertForSequenceClassification from the checkpoint of a model trained on another task or with another architecture (e.g. initializing a BertForSequenceClassification model from a BertForPreTraining model).\n",
            "- This IS NOT expected if you are initializing BertForSequenceClassification from the checkpoint of a model that you expect to be exactly identical (initializing a BertForSequenceClassification model from a BertForSequenceClassification model).\n",
            "Some weights of BertForSequenceClassification were not initialized from the model checkpoint at bert-base-uncased and are newly initialized: ['classifier.weight', 'classifier.bias']\n",
            "You should probably TRAIN this model on a down-stream task to be able to use it for predictions and inference.\n"
          ]
        },
        {
          "name": "stdout",
          "output_type": "stream",
          "text": [
            "======== Epoch 1 / 5 ========\n",
            "Training\tLoss: 2.28\tAccuracy: 0.15\t\tTime: 0:00:07s\n",
            "Validation\tLoss: 2.15\tAccuracy: 0.26\t\tTime: 0:00:01s\n",
            "======== Epoch 2 / 5 ========\n",
            "Training\tLoss: 2.10\tAccuracy: 0.31\t\tTime: 0:00:07s\n",
            "Validation\tLoss: 1.97\tAccuracy: 0.46\t\tTime: 0:00:01s\n",
            "======== Epoch 3 / 5 ========\n",
            "Training\tLoss: 1.95\tAccuracy: 0.46\t\tTime: 0:00:07s\n",
            "Validation\tLoss: 1.85\tAccuracy: 0.58\t\tTime: 0:00:01s\n",
            "======== Epoch 4 / 5 ========\n",
            "Training\tLoss: 1.85\tAccuracy: 0.53\t\tTime: 0:00:07s\n",
            "Validation\tLoss: 1.77\tAccuracy: 0.63\t\tTime: 0:00:01s\n",
            "======== Epoch 5 / 5 ========\n",
            "Training\tLoss: 1.79\tAccuracy: 0.57\t\tTime: 0:00:07s\n",
            "Validation\tLoss: 1.74\tAccuracy: 0.66\t\tTime: 0:00:01s\n",
            "\n",
            "Total model training took 0:00:41 (h:mm:ss)\n",
            "{'checkpoint': 'bert-base-uncased', 'learning_rate': 1e-05, 'epsilon': 1e-08, 'batch_size': 64}\n"
          ]
        },
        {
          "name": "stderr",
          "output_type": "stream",
          "text": [
            "Some weights of the model checkpoint at bert-base-uncased were not used when initializing BertForSequenceClassification: ['cls.predictions.transform.dense.bias', 'cls.seq_relationship.weight', 'cls.predictions.bias', 'cls.predictions.transform.dense.weight', 'cls.predictions.transform.LayerNorm.weight', 'cls.predictions.decoder.weight', 'cls.seq_relationship.bias', 'cls.predictions.transform.LayerNorm.bias']\n",
            "- This IS expected if you are initializing BertForSequenceClassification from the checkpoint of a model trained on another task or with another architecture (e.g. initializing a BertForSequenceClassification model from a BertForPreTraining model).\n",
            "- This IS NOT expected if you are initializing BertForSequenceClassification from the checkpoint of a model that you expect to be exactly identical (initializing a BertForSequenceClassification model from a BertForSequenceClassification model).\n",
            "Some weights of BertForSequenceClassification were not initialized from the model checkpoint at bert-base-uncased and are newly initialized: ['classifier.weight', 'classifier.bias']\n",
            "You should probably TRAIN this model on a down-stream task to be able to use it for predictions and inference.\n"
          ]
        },
        {
          "name": "stdout",
          "output_type": "stream",
          "text": [
            "======== Epoch 1 / 5 ========\n",
            "Training\tLoss: 2.21\tAccuracy: 0.22\t\tTime: 0:00:09s\n",
            "Validation\tLoss: 2.08\tAccuracy: 0.32\t\tTime: 0:00:01s\n",
            "======== Epoch 2 / 5 ========\n",
            "Training\tLoss: 1.95\tAccuracy: 0.48\t\tTime: 0:00:09s\n",
            "Validation\tLoss: 1.77\tAccuracy: 0.59\t\tTime: 0:00:01s\n",
            "======== Epoch 3 / 5 ========\n",
            "Training\tLoss: 1.66\tAccuracy: 0.65\t\tTime: 0:00:09s\n",
            "Validation\tLoss: 1.51\tAccuracy: 0.69\t\tTime: 0:00:01s\n",
            "======== Epoch 4 / 5 ========\n",
            "Training\tLoss: 1.45\tAccuracy: 0.73\t\tTime: 0:00:09s\n",
            "Validation\tLoss: 1.35\tAccuracy: 0.74\t\tTime: 0:00:01s\n",
            "======== Epoch 5 / 5 ========\n",
            "Training\tLoss: 1.34\tAccuracy: 0.76\t\tTime: 0:00:09s\n",
            "Validation\tLoss: 1.30\tAccuracy: 0.75\t\tTime: 0:00:01s\n",
            "\n",
            "Total model training took 0:00:49 (h:mm:ss)\n",
            "{'checkpoint': 'bert-base-uncased', 'learning_rate': 1e-05, 'epsilon': 1e-08, 'batch_size': 128}\n"
          ]
        },
        {
          "name": "stderr",
          "output_type": "stream",
          "text": [
            "Some weights of the model checkpoint at bert-base-uncased were not used when initializing BertForSequenceClassification: ['cls.predictions.transform.dense.bias', 'cls.seq_relationship.weight', 'cls.predictions.bias', 'cls.predictions.transform.dense.weight', 'cls.predictions.transform.LayerNorm.weight', 'cls.predictions.decoder.weight', 'cls.seq_relationship.bias', 'cls.predictions.transform.LayerNorm.bias']\n",
            "- This IS expected if you are initializing BertForSequenceClassification from the checkpoint of a model trained on another task or with another architecture (e.g. initializing a BertForSequenceClassification model from a BertForPreTraining model).\n",
            "- This IS NOT expected if you are initializing BertForSequenceClassification from the checkpoint of a model that you expect to be exactly identical (initializing a BertForSequenceClassification model from a BertForSequenceClassification model).\n",
            "Some weights of BertForSequenceClassification were not initialized from the model checkpoint at bert-base-uncased and are newly initialized: ['classifier.weight', 'classifier.bias']\n",
            "You should probably TRAIN this model on a down-stream task to be able to use it for predictions and inference.\n"
          ]
        },
        {
          "name": "stdout",
          "output_type": "stream",
          "text": [
            "======== Epoch 1 / 5 ========\n",
            "Training\tLoss: 2.27\tAccuracy: 0.14\t\tTime: 0:00:07s\n",
            "Validation\tLoss: 2.18\tAccuracy: 0.27\t\tTime: 0:00:01s\n",
            "======== Epoch 2 / 5 ========\n",
            "Training\tLoss: 2.13\tAccuracy: 0.31\t\tTime: 0:00:07s\n",
            "Validation\tLoss: 2.00\tAccuracy: 0.44\t\tTime: 0:00:01s\n",
            "======== Epoch 3 / 5 ========\n",
            "Training\tLoss: 1.98\tAccuracy: 0.44\t\tTime: 0:00:07s\n",
            "Validation\tLoss: 1.86\tAccuracy: 0.60\t\tTime: 0:00:01s\n",
            "======== Epoch 4 / 5 ========\n",
            "Training\tLoss: 1.85\tAccuracy: 0.56\t\tTime: 0:00:07s\n",
            "Validation\tLoss: 1.77\tAccuracy: 0.65\t\tTime: 0:00:01s\n",
            "======== Epoch 5 / 5 ========\n",
            "Training\tLoss: 1.79\tAccuracy: 0.59\t\tTime: 0:00:07s\n",
            "Validation\tLoss: 1.73\tAccuracy: 0.66\t\tTime: 0:00:01s\n",
            "\n",
            "Total model training took 0:00:41 (h:mm:ss)\n",
            "{'checkpoint': 'bert-base-uncased', 'learning_rate': 5e-05, 'epsilon': 1e-06, 'batch_size': 64}\n"
          ]
        },
        {
          "name": "stderr",
          "output_type": "stream",
          "text": [
            "Some weights of the model checkpoint at bert-base-uncased were not used when initializing BertForSequenceClassification: ['cls.predictions.transform.dense.bias', 'cls.seq_relationship.weight', 'cls.predictions.bias', 'cls.predictions.transform.dense.weight', 'cls.predictions.transform.LayerNorm.weight', 'cls.predictions.decoder.weight', 'cls.seq_relationship.bias', 'cls.predictions.transform.LayerNorm.bias']\n",
            "- This IS expected if you are initializing BertForSequenceClassification from the checkpoint of a model trained on another task or with another architecture (e.g. initializing a BertForSequenceClassification model from a BertForPreTraining model).\n",
            "- This IS NOT expected if you are initializing BertForSequenceClassification from the checkpoint of a model that you expect to be exactly identical (initializing a BertForSequenceClassification model from a BertForSequenceClassification model).\n",
            "Some weights of BertForSequenceClassification were not initialized from the model checkpoint at bert-base-uncased and are newly initialized: ['classifier.weight', 'classifier.bias']\n",
            "You should probably TRAIN this model on a down-stream task to be able to use it for predictions and inference.\n"
          ]
        },
        {
          "name": "stdout",
          "output_type": "stream",
          "text": [
            "======== Epoch 1 / 5 ========\n",
            "Training\tLoss: 1.93\tAccuracy: 0.38\t\tTime: 0:00:09s\n",
            "Validation\tLoss: 1.25\tAccuracy: 0.69\t\tTime: 0:00:01s\n",
            "======== Epoch 2 / 5 ========\n",
            "Training\tLoss: 0.86\tAccuracy: 0.81\t\tTime: 0:00:09s\n",
            "Validation\tLoss: 0.63\tAccuracy: 0.83\t\tTime: 0:00:01s\n",
            "======== Epoch 3 / 5 ========\n",
            "Training\tLoss: 0.41\tAccuracy: 0.90\t\tTime: 0:00:09s\n",
            "Validation\tLoss: 0.45\tAccuracy: 0.87\t\tTime: 0:00:01s\n",
            "======== Epoch 4 / 5 ========\n",
            "Training\tLoss: 0.22\tAccuracy: 0.96\t\tTime: 0:00:09s\n",
            "Validation\tLoss: 0.40\tAccuracy: 0.88\t\tTime: 0:00:01s\n",
            "======== Epoch 5 / 5 ========\n",
            "Training\tLoss: 0.14\tAccuracy: 0.98\t\tTime: 0:00:09s\n",
            "Validation\tLoss: 0.39\tAccuracy: 0.88\t\tTime: 0:00:01s\n",
            "\n",
            "Total model training took 0:00:49 (h:mm:ss)\n",
            "{'checkpoint': 'bert-base-uncased', 'learning_rate': 5e-05, 'epsilon': 1e-06, 'batch_size': 128}\n"
          ]
        },
        {
          "name": "stderr",
          "output_type": "stream",
          "text": [
            "Some weights of the model checkpoint at bert-base-uncased were not used when initializing BertForSequenceClassification: ['cls.predictions.transform.dense.bias', 'cls.seq_relationship.weight', 'cls.predictions.bias', 'cls.predictions.transform.dense.weight', 'cls.predictions.transform.LayerNorm.weight', 'cls.predictions.decoder.weight', 'cls.seq_relationship.bias', 'cls.predictions.transform.LayerNorm.bias']\n",
            "- This IS expected if you are initializing BertForSequenceClassification from the checkpoint of a model trained on another task or with another architecture (e.g. initializing a BertForSequenceClassification model from a BertForPreTraining model).\n",
            "- This IS NOT expected if you are initializing BertForSequenceClassification from the checkpoint of a model that you expect to be exactly identical (initializing a BertForSequenceClassification model from a BertForSequenceClassification model).\n",
            "Some weights of BertForSequenceClassification were not initialized from the model checkpoint at bert-base-uncased and are newly initialized: ['classifier.weight', 'classifier.bias']\n",
            "You should probably TRAIN this model on a down-stream task to be able to use it for predictions and inference.\n"
          ]
        },
        {
          "name": "stdout",
          "output_type": "stream",
          "text": [
            "======== Epoch 1 / 5 ========\n",
            "Training\tLoss: 2.08\tAccuracy: 0.32\t\tTime: 0:00:07s\n",
            "Validation\tLoss: 1.66\tAccuracy: 0.64\t\tTime: 0:00:01s\n",
            "======== Epoch 2 / 5 ========\n",
            "Training\tLoss: 1.35\tAccuracy: 0.71\t\tTime: 0:00:07s\n",
            "Validation\tLoss: 0.99\tAccuracy: 0.79\t\tTime: 0:00:01s\n",
            "======== Epoch 3 / 5 ========\n",
            "Training\tLoss: 0.80\tAccuracy: 0.84\t\tTime: 0:00:07s\n",
            "Validation\tLoss: 0.69\tAccuracy: 0.85\t\tTime: 0:00:01s\n",
            "======== Epoch 4 / 5 ========\n",
            "Training\tLoss: 0.53\tAccuracy: 0.91\t\tTime: 0:00:07s\n",
            "Validation\tLoss: 0.56\tAccuracy: 0.87\t\tTime: 0:00:01s\n",
            "======== Epoch 5 / 5 ========\n",
            "Training\tLoss: 0.42\tAccuracy: 0.93\t\tTime: 0:00:07s\n",
            "Validation\tLoss: 0.53\tAccuracy: 0.87\t\tTime: 0:00:01s\n",
            "\n",
            "Total model training took 0:00:41 (h:mm:ss)\n",
            "{'checkpoint': 'bert-base-uncased', 'learning_rate': 5e-05, 'epsilon': 1e-07, 'batch_size': 64}\n"
          ]
        },
        {
          "name": "stderr",
          "output_type": "stream",
          "text": [
            "Some weights of the model checkpoint at bert-base-uncased were not used when initializing BertForSequenceClassification: ['cls.predictions.transform.dense.bias', 'cls.seq_relationship.weight', 'cls.predictions.bias', 'cls.predictions.transform.dense.weight', 'cls.predictions.transform.LayerNorm.weight', 'cls.predictions.decoder.weight', 'cls.seq_relationship.bias', 'cls.predictions.transform.LayerNorm.bias']\n",
            "- This IS expected if you are initializing BertForSequenceClassification from the checkpoint of a model trained on another task or with another architecture (e.g. initializing a BertForSequenceClassification model from a BertForPreTraining model).\n",
            "- This IS NOT expected if you are initializing BertForSequenceClassification from the checkpoint of a model that you expect to be exactly identical (initializing a BertForSequenceClassification model from a BertForSequenceClassification model).\n",
            "Some weights of BertForSequenceClassification were not initialized from the model checkpoint at bert-base-uncased and are newly initialized: ['classifier.weight', 'classifier.bias']\n",
            "You should probably TRAIN this model on a down-stream task to be able to use it for predictions and inference.\n"
          ]
        },
        {
          "name": "stdout",
          "output_type": "stream",
          "text": [
            "======== Epoch 1 / 5 ========\n",
            "Training\tLoss: 1.94\tAccuracy: 0.36\t\tTime: 0:00:09s\n",
            "Validation\tLoss: 1.23\tAccuracy: 0.72\t\tTime: 0:00:01s\n",
            "======== Epoch 2 / 5 ========\n",
            "Training\tLoss: 0.81\tAccuracy: 0.82\t\tTime: 0:00:09s\n",
            "Validation\tLoss: 0.55\tAccuracy: 0.86\t\tTime: 0:00:01s\n",
            "======== Epoch 3 / 5 ========\n",
            "Training\tLoss: 0.35\tAccuracy: 0.93\t\tTime: 0:00:09s\n",
            "Validation\tLoss: 0.40\tAccuracy: 0.89\t\tTime: 0:00:01s\n",
            "======== Epoch 4 / 5 ========\n",
            "Training\tLoss: 0.19\tAccuracy: 0.96\t\tTime: 0:00:09s\n",
            "Validation\tLoss: 0.39\tAccuracy: 0.89\t\tTime: 0:00:01s\n",
            "======== Epoch 5 / 5 ========\n",
            "Training\tLoss: 0.12\tAccuracy: 0.98\t\tTime: 0:00:09s\n",
            "Validation\tLoss: 0.38\tAccuracy: 0.90\t\tTime: 0:00:01s\n",
            "\n",
            "Total model training took 0:00:49 (h:mm:ss)\n",
            "{'checkpoint': 'bert-base-uncased', 'learning_rate': 5e-05, 'epsilon': 1e-07, 'batch_size': 128}\n"
          ]
        },
        {
          "name": "stderr",
          "output_type": "stream",
          "text": [
            "Some weights of the model checkpoint at bert-base-uncased were not used when initializing BertForSequenceClassification: ['cls.predictions.transform.dense.bias', 'cls.seq_relationship.weight', 'cls.predictions.bias', 'cls.predictions.transform.dense.weight', 'cls.predictions.transform.LayerNorm.weight', 'cls.predictions.decoder.weight', 'cls.seq_relationship.bias', 'cls.predictions.transform.LayerNorm.bias']\n",
            "- This IS expected if you are initializing BertForSequenceClassification from the checkpoint of a model trained on another task or with another architecture (e.g. initializing a BertForSequenceClassification model from a BertForPreTraining model).\n",
            "- This IS NOT expected if you are initializing BertForSequenceClassification from the checkpoint of a model that you expect to be exactly identical (initializing a BertForSequenceClassification model from a BertForSequenceClassification model).\n",
            "Some weights of BertForSequenceClassification were not initialized from the model checkpoint at bert-base-uncased and are newly initialized: ['classifier.weight', 'classifier.bias']\n",
            "You should probably TRAIN this model on a down-stream task to be able to use it for predictions and inference.\n"
          ]
        },
        {
          "name": "stdout",
          "output_type": "stream",
          "text": [
            "======== Epoch 1 / 5 ========\n",
            "Training\tLoss: 2.04\tAccuracy: 0.34\t\tTime: 0:00:07s\n",
            "Validation\tLoss: 1.59\tAccuracy: 0.66\t\tTime: 0:00:01s\n",
            "======== Epoch 2 / 5 ========\n",
            "Training\tLoss: 1.23\tAccuracy: 0.76\t\tTime: 0:00:07s\n",
            "Validation\tLoss: 0.88\tAccuracy: 0.82\t\tTime: 0:00:01s\n",
            "======== Epoch 3 / 5 ========\n",
            "Training\tLoss: 0.68\tAccuracy: 0.89\t\tTime: 0:00:07s\n",
            "Validation\tLoss: 0.59\tAccuracy: 0.87\t\tTime: 0:00:01s\n",
            "======== Epoch 4 / 5 ========\n",
            "Training\tLoss: 0.44\tAccuracy: 0.93\t\tTime: 0:00:07s\n",
            "Validation\tLoss: 0.49\tAccuracy: 0.89\t\tTime: 0:00:01s\n",
            "======== Epoch 5 / 5 ========\n",
            "Training\tLoss: 0.33\tAccuracy: 0.96\t\tTime: 0:00:07s\n",
            "Validation\tLoss: 0.46\tAccuracy: 0.89\t\tTime: 0:00:01s\n",
            "\n",
            "Total model training took 0:00:41 (h:mm:ss)\n",
            "{'checkpoint': 'bert-base-uncased', 'learning_rate': 5e-05, 'epsilon': 1e-08, 'batch_size': 64}\n"
          ]
        },
        {
          "name": "stderr",
          "output_type": "stream",
          "text": [
            "Some weights of the model checkpoint at bert-base-uncased were not used when initializing BertForSequenceClassification: ['cls.predictions.transform.dense.bias', 'cls.seq_relationship.weight', 'cls.predictions.bias', 'cls.predictions.transform.dense.weight', 'cls.predictions.transform.LayerNorm.weight', 'cls.predictions.decoder.weight', 'cls.seq_relationship.bias', 'cls.predictions.transform.LayerNorm.bias']\n",
            "- This IS expected if you are initializing BertForSequenceClassification from the checkpoint of a model trained on another task or with another architecture (e.g. initializing a BertForSequenceClassification model from a BertForPreTraining model).\n",
            "- This IS NOT expected if you are initializing BertForSequenceClassification from the checkpoint of a model that you expect to be exactly identical (initializing a BertForSequenceClassification model from a BertForSequenceClassification model).\n",
            "Some weights of BertForSequenceClassification were not initialized from the model checkpoint at bert-base-uncased and are newly initialized: ['classifier.weight', 'classifier.bias']\n",
            "You should probably TRAIN this model on a down-stream task to be able to use it for predictions and inference.\n"
          ]
        },
        {
          "name": "stdout",
          "output_type": "stream",
          "text": [
            "======== Epoch 1 / 5 ========\n",
            "Training\tLoss: 1.83\tAccuracy: 0.45\t\tTime: 0:00:09s\n",
            "Validation\tLoss: 1.05\tAccuracy: 0.77\t\tTime: 0:00:01s\n",
            "======== Epoch 2 / 5 ========\n",
            "Training\tLoss: 0.69\tAccuracy: 0.86\t\tTime: 0:00:09s\n",
            "Validation\tLoss: 0.50\tAccuracy: 0.88\t\tTime: 0:00:01s\n",
            "======== Epoch 3 / 5 ========\n",
            "Training\tLoss: 0.31\tAccuracy: 0.93\t\tTime: 0:00:09s\n",
            "Validation\tLoss: 0.38\tAccuracy: 0.90\t\tTime: 0:00:01s\n",
            "======== Epoch 4 / 5 ========\n",
            "Training\tLoss: 0.16\tAccuracy: 0.97\t\tTime: 0:00:09s\n",
            "Validation\tLoss: 0.36\tAccuracy: 0.91\t\tTime: 0:00:01s\n",
            "======== Epoch 5 / 5 ========\n",
            "Training\tLoss: 0.10\tAccuracy: 0.98\t\tTime: 0:00:09s\n",
            "Validation\tLoss: 0.36\tAccuracy: 0.91\t\tTime: 0:00:01s\n",
            "\n",
            "Total model training took 0:00:49 (h:mm:ss)\n",
            "{'checkpoint': 'bert-base-uncased', 'learning_rate': 5e-05, 'epsilon': 1e-08, 'batch_size': 128}\n"
          ]
        },
        {
          "name": "stderr",
          "output_type": "stream",
          "text": [
            "Some weights of the model checkpoint at bert-base-uncased were not used when initializing BertForSequenceClassification: ['cls.predictions.transform.dense.bias', 'cls.seq_relationship.weight', 'cls.predictions.bias', 'cls.predictions.transform.dense.weight', 'cls.predictions.transform.LayerNorm.weight', 'cls.predictions.decoder.weight', 'cls.seq_relationship.bias', 'cls.predictions.transform.LayerNorm.bias']\n",
            "- This IS expected if you are initializing BertForSequenceClassification from the checkpoint of a model trained on another task or with another architecture (e.g. initializing a BertForSequenceClassification model from a BertForPreTraining model).\n",
            "- This IS NOT expected if you are initializing BertForSequenceClassification from the checkpoint of a model that you expect to be exactly identical (initializing a BertForSequenceClassification model from a BertForSequenceClassification model).\n",
            "Some weights of BertForSequenceClassification were not initialized from the model checkpoint at bert-base-uncased and are newly initialized: ['classifier.weight', 'classifier.bias']\n",
            "You should probably TRAIN this model on a down-stream task to be able to use it for predictions and inference.\n"
          ]
        },
        {
          "name": "stdout",
          "output_type": "stream",
          "text": [
            "======== Epoch 1 / 5 ========\n",
            "Training\tLoss: 2.10\tAccuracy: 0.31\t\tTime: 0:00:07s\n",
            "Validation\tLoss: 1.63\tAccuracy: 0.62\t\tTime: 0:00:01s\n",
            "======== Epoch 2 / 5 ========\n",
            "Training\tLoss: 1.25\tAccuracy: 0.72\t\tTime: 0:00:07s\n",
            "Validation\tLoss: 0.90\tAccuracy: 0.77\t\tTime: 0:00:01s\n",
            "======== Epoch 3 / 5 ========\n",
            "Training\tLoss: 0.70\tAccuracy: 0.86\t\tTime: 0:00:07s\n",
            "Validation\tLoss: 0.63\tAccuracy: 0.84\t\tTime: 0:00:01s\n",
            "======== Epoch 4 / 5 ========\n",
            "Training\tLoss: 0.45\tAccuracy: 0.92\t\tTime: 0:00:07s\n",
            "Validation\tLoss: 0.53\tAccuracy: 0.87\t\tTime: 0:00:01s\n",
            "======== Epoch 5 / 5 ========\n",
            "Training\tLoss: 0.34\tAccuracy: 0.94\t\tTime: 0:00:07s\n",
            "Validation\tLoss: 0.49\tAccuracy: 0.87\t\tTime: 0:00:01s\n",
            "\n",
            "Total model training took 0:00:41 (h:mm:ss)\n",
            "{'checkpoint': 'bert-base-uncased', 'learning_rate': 0.0001, 'epsilon': 1e-06, 'batch_size': 64}\n"
          ]
        },
        {
          "name": "stderr",
          "output_type": "stream",
          "text": [
            "Some weights of the model checkpoint at bert-base-uncased were not used when initializing BertForSequenceClassification: ['cls.predictions.transform.dense.bias', 'cls.seq_relationship.weight', 'cls.predictions.bias', 'cls.predictions.transform.dense.weight', 'cls.predictions.transform.LayerNorm.weight', 'cls.predictions.decoder.weight', 'cls.seq_relationship.bias', 'cls.predictions.transform.LayerNorm.bias']\n",
            "- This IS expected if you are initializing BertForSequenceClassification from the checkpoint of a model trained on another task or with another architecture (e.g. initializing a BertForSequenceClassification model from a BertForPreTraining model).\n",
            "- This IS NOT expected if you are initializing BertForSequenceClassification from the checkpoint of a model that you expect to be exactly identical (initializing a BertForSequenceClassification model from a BertForSequenceClassification model).\n",
            "Some weights of BertForSequenceClassification were not initialized from the model checkpoint at bert-base-uncased and are newly initialized: ['classifier.weight', 'classifier.bias']\n",
            "You should probably TRAIN this model on a down-stream task to be able to use it for predictions and inference.\n"
          ]
        },
        {
          "name": "stdout",
          "output_type": "stream",
          "text": [
            "======== Epoch 1 / 5 ========\n",
            "Training\tLoss: 1.61\tAccuracy: 0.50\t\tTime: 0:00:09s\n",
            "Validation\tLoss: 0.74\tAccuracy: 0.82\t\tTime: 0:00:01s\n",
            "======== Epoch 2 / 5 ========\n",
            "Training\tLoss: 0.48\tAccuracy: 0.88\t\tTime: 0:00:09s\n",
            "Validation\tLoss: 0.44\tAccuracy: 0.88\t\tTime: 0:00:01s\n",
            "======== Epoch 3 / 5 ========\n",
            "Training\tLoss: 0.19\tAccuracy: 0.95\t\tTime: 0:00:09s\n",
            "Validation\tLoss: 0.38\tAccuracy: 0.90\t\tTime: 0:00:01s\n",
            "======== Epoch 4 / 5 ========\n",
            "Training\tLoss: 0.08\tAccuracy: 0.99\t\tTime: 0:00:09s\n",
            "Validation\tLoss: 0.41\tAccuracy: 0.90\t\tTime: 0:00:01s\n",
            "======== Epoch 5 / 5 ========\n",
            "Training\tLoss: 0.04\tAccuracy: 0.99\t\tTime: 0:00:09s\n",
            "Validation\tLoss: 0.41\tAccuracy: 0.90\t\tTime: 0:00:01s\n",
            "\n",
            "Total model training took 0:00:49 (h:mm:ss)\n",
            "{'checkpoint': 'bert-base-uncased', 'learning_rate': 0.0001, 'epsilon': 1e-06, 'batch_size': 128}\n"
          ]
        },
        {
          "name": "stderr",
          "output_type": "stream",
          "text": [
            "Some weights of the model checkpoint at bert-base-uncased were not used when initializing BertForSequenceClassification: ['cls.predictions.transform.dense.bias', 'cls.seq_relationship.weight', 'cls.predictions.bias', 'cls.predictions.transform.dense.weight', 'cls.predictions.transform.LayerNorm.weight', 'cls.predictions.decoder.weight', 'cls.seq_relationship.bias', 'cls.predictions.transform.LayerNorm.bias']\n",
            "- This IS expected if you are initializing BertForSequenceClassification from the checkpoint of a model trained on another task or with another architecture (e.g. initializing a BertForSequenceClassification model from a BertForPreTraining model).\n",
            "- This IS NOT expected if you are initializing BertForSequenceClassification from the checkpoint of a model that you expect to be exactly identical (initializing a BertForSequenceClassification model from a BertForSequenceClassification model).\n",
            "Some weights of BertForSequenceClassification were not initialized from the model checkpoint at bert-base-uncased and are newly initialized: ['classifier.weight', 'classifier.bias']\n",
            "You should probably TRAIN this model on a down-stream task to be able to use it for predictions and inference.\n"
          ]
        },
        {
          "name": "stdout",
          "output_type": "stream",
          "text": [
            "======== Epoch 1 / 5 ========\n",
            "Training\tLoss: 1.89\tAccuracy: 0.40\t\tTime: 0:00:07s\n",
            "Validation\tLoss: 1.10\tAccuracy: 0.76\t\tTime: 0:00:01s\n",
            "======== Epoch 2 / 5 ========\n",
            "Training\tLoss: 0.72\tAccuracy: 0.84\t\tTime: 0:00:07s\n",
            "Validation\tLoss: 0.53\tAccuracy: 0.86\t\tTime: 0:00:01s\n",
            "======== Epoch 3 / 5 ========\n",
            "Training\tLoss: 0.30\tAccuracy: 0.93\t\tTime: 0:00:07s\n",
            "Validation\tLoss: 0.44\tAccuracy: 0.88\t\tTime: 0:00:01s\n",
            "======== Epoch 4 / 5 ========\n",
            "Training\tLoss: 0.15\tAccuracy: 0.97\t\tTime: 0:00:07s\n",
            "Validation\tLoss: 0.38\tAccuracy: 0.90\t\tTime: 0:00:01s\n",
            "======== Epoch 5 / 5 ========\n",
            "Training\tLoss: 0.09\tAccuracy: 0.99\t\tTime: 0:00:07s\n",
            "Validation\tLoss: 0.37\tAccuracy: 0.90\t\tTime: 0:00:01s\n",
            "\n",
            "Total model training took 0:00:41 (h:mm:ss)\n",
            "{'checkpoint': 'bert-base-uncased', 'learning_rate': 0.0001, 'epsilon': 1e-07, 'batch_size': 64}\n"
          ]
        },
        {
          "name": "stderr",
          "output_type": "stream",
          "text": [
            "Some weights of the model checkpoint at bert-base-uncased were not used when initializing BertForSequenceClassification: ['cls.predictions.transform.dense.bias', 'cls.seq_relationship.weight', 'cls.predictions.bias', 'cls.predictions.transform.dense.weight', 'cls.predictions.transform.LayerNorm.weight', 'cls.predictions.decoder.weight', 'cls.seq_relationship.bias', 'cls.predictions.transform.LayerNorm.bias']\n",
            "- This IS expected if you are initializing BertForSequenceClassification from the checkpoint of a model trained on another task or with another architecture (e.g. initializing a BertForSequenceClassification model from a BertForPreTraining model).\n",
            "- This IS NOT expected if you are initializing BertForSequenceClassification from the checkpoint of a model that you expect to be exactly identical (initializing a BertForSequenceClassification model from a BertForSequenceClassification model).\n",
            "Some weights of BertForSequenceClassification were not initialized from the model checkpoint at bert-base-uncased and are newly initialized: ['classifier.weight', 'classifier.bias']\n",
            "You should probably TRAIN this model on a down-stream task to be able to use it for predictions and inference.\n"
          ]
        },
        {
          "name": "stdout",
          "output_type": "stream",
          "text": [
            "======== Epoch 1 / 5 ========\n",
            "Training\tLoss: 1.50\tAccuracy: 0.54\t\tTime: 0:00:09s\n",
            "Validation\tLoss: 0.71\tAccuracy: 0.82\t\tTime: 0:00:01s\n",
            "======== Epoch 2 / 5 ========\n",
            "Training\tLoss: 0.44\tAccuracy: 0.88\t\tTime: 0:00:09s\n",
            "Validation\tLoss: 0.44\tAccuracy: 0.88\t\tTime: 0:00:01s\n",
            "======== Epoch 3 / 5 ========\n",
            "Training\tLoss: 0.18\tAccuracy: 0.95\t\tTime: 0:00:09s\n",
            "Validation\tLoss: 0.41\tAccuracy: 0.89\t\tTime: 0:00:01s\n",
            "======== Epoch 4 / 5 ========\n",
            "Training\tLoss: 0.08\tAccuracy: 0.98\t\tTime: 0:00:09s\n",
            "Validation\tLoss: 0.39\tAccuracy: 0.91\t\tTime: 0:00:01s\n",
            "======== Epoch 5 / 5 ========\n",
            "Training\tLoss: 0.04\tAccuracy: 0.99\t\tTime: 0:00:09s\n",
            "Validation\tLoss: 0.42\tAccuracy: 0.90\t\tTime: 0:00:01s\n",
            "\n",
            "Total model training took 0:00:49 (h:mm:ss)\n",
            "{'checkpoint': 'bert-base-uncased', 'learning_rate': 0.0001, 'epsilon': 1e-07, 'batch_size': 128}\n"
          ]
        },
        {
          "name": "stderr",
          "output_type": "stream",
          "text": [
            "Some weights of the model checkpoint at bert-base-uncased were not used when initializing BertForSequenceClassification: ['cls.predictions.transform.dense.bias', 'cls.seq_relationship.weight', 'cls.predictions.bias', 'cls.predictions.transform.dense.weight', 'cls.predictions.transform.LayerNorm.weight', 'cls.predictions.decoder.weight', 'cls.seq_relationship.bias', 'cls.predictions.transform.LayerNorm.bias']\n",
            "- This IS expected if you are initializing BertForSequenceClassification from the checkpoint of a model trained on another task or with another architecture (e.g. initializing a BertForSequenceClassification model from a BertForPreTraining model).\n",
            "- This IS NOT expected if you are initializing BertForSequenceClassification from the checkpoint of a model that you expect to be exactly identical (initializing a BertForSequenceClassification model from a BertForSequenceClassification model).\n",
            "Some weights of BertForSequenceClassification were not initialized from the model checkpoint at bert-base-uncased and are newly initialized: ['classifier.weight', 'classifier.bias']\n",
            "You should probably TRAIN this model on a down-stream task to be able to use it for predictions and inference.\n"
          ]
        },
        {
          "name": "stdout",
          "output_type": "stream",
          "text": [
            "======== Epoch 1 / 5 ========\n",
            "Training\tLoss: 1.75\tAccuracy: 0.48\t\tTime: 0:00:07s\n",
            "Validation\tLoss: 0.96\tAccuracy: 0.76\t\tTime: 0:00:01s\n",
            "======== Epoch 2 / 5 ========\n",
            "Training\tLoss: 0.66\tAccuracy: 0.84\t\tTime: 0:00:07s\n",
            "Validation\tLoss: 0.50\tAccuracy: 0.86\t\tTime: 0:00:01s\n",
            "======== Epoch 3 / 5 ========\n",
            "Training\tLoss: 0.30\tAccuracy: 0.93\t\tTime: 0:00:07s\n",
            "Validation\tLoss: 0.39\tAccuracy: 0.90\t\tTime: 0:00:01s\n",
            "======== Epoch 4 / 5 ========\n",
            "Training\tLoss: 0.15\tAccuracy: 0.97\t\tTime: 0:00:07s\n",
            "Validation\tLoss: 0.37\tAccuracy: 0.91\t\tTime: 0:00:01s\n",
            "======== Epoch 5 / 5 ========\n",
            "Training\tLoss: 0.09\tAccuracy: 0.98\t\tTime: 0:00:07s\n",
            "Validation\tLoss: 0.35\tAccuracy: 0.91\t\tTime: 0:00:01s\n",
            "\n",
            "Total model training took 0:00:41 (h:mm:ss)\n",
            "{'checkpoint': 'bert-base-uncased', 'learning_rate': 0.0001, 'epsilon': 1e-08, 'batch_size': 64}\n"
          ]
        },
        {
          "name": "stderr",
          "output_type": "stream",
          "text": [
            "Some weights of the model checkpoint at bert-base-uncased were not used when initializing BertForSequenceClassification: ['cls.predictions.transform.dense.bias', 'cls.seq_relationship.weight', 'cls.predictions.bias', 'cls.predictions.transform.dense.weight', 'cls.predictions.transform.LayerNorm.weight', 'cls.predictions.decoder.weight', 'cls.seq_relationship.bias', 'cls.predictions.transform.LayerNorm.bias']\n",
            "- This IS expected if you are initializing BertForSequenceClassification from the checkpoint of a model trained on another task or with another architecture (e.g. initializing a BertForSequenceClassification model from a BertForPreTraining model).\n",
            "- This IS NOT expected if you are initializing BertForSequenceClassification from the checkpoint of a model that you expect to be exactly identical (initializing a BertForSequenceClassification model from a BertForSequenceClassification model).\n",
            "Some weights of BertForSequenceClassification were not initialized from the model checkpoint at bert-base-uncased and are newly initialized: ['classifier.weight', 'classifier.bias']\n",
            "You should probably TRAIN this model on a down-stream task to be able to use it for predictions and inference.\n"
          ]
        },
        {
          "name": "stdout",
          "output_type": "stream",
          "text": [
            "======== Epoch 1 / 5 ========\n",
            "Training\tLoss: 1.43\tAccuracy: 0.56\t\tTime: 0:00:09s\n",
            "Validation\tLoss: 0.68\tAccuracy: 0.80\t\tTime: 0:00:01s\n",
            "======== Epoch 2 / 5 ========\n",
            "Training\tLoss: 0.45\tAccuracy: 0.88\t\tTime: 0:00:09s\n",
            "Validation\tLoss: 0.45\tAccuracy: 0.88\t\tTime: 0:00:01s\n",
            "======== Epoch 3 / 5 ========\n",
            "Training\tLoss: 0.22\tAccuracy: 0.94\t\tTime: 0:00:09s\n",
            "Validation\tLoss: 0.40\tAccuracy: 0.88\t\tTime: 0:00:01s\n",
            "======== Epoch 4 / 5 ========\n",
            "Training\tLoss: 0.09\tAccuracy: 0.98\t\tTime: 0:00:09s\n",
            "Validation\tLoss: 0.43\tAccuracy: 0.90\t\tTime: 0:00:01s\n",
            "======== Epoch 5 / 5 ========\n",
            "Training\tLoss: 0.05\tAccuracy: 0.99\t\tTime: 0:00:09s\n",
            "Validation\tLoss: 0.42\tAccuracy: 0.90\t\tTime: 0:00:01s\n",
            "\n",
            "Total model training took 0:00:49 (h:mm:ss)\n",
            "{'checkpoint': 'bert-base-uncased', 'learning_rate': 0.0001, 'epsilon': 1e-08, 'batch_size': 128}\n"
          ]
        },
        {
          "name": "stderr",
          "output_type": "stream",
          "text": [
            "Some weights of the model checkpoint at bert-base-uncased were not used when initializing BertForSequenceClassification: ['cls.predictions.transform.dense.bias', 'cls.seq_relationship.weight', 'cls.predictions.bias', 'cls.predictions.transform.dense.weight', 'cls.predictions.transform.LayerNorm.weight', 'cls.predictions.decoder.weight', 'cls.seq_relationship.bias', 'cls.predictions.transform.LayerNorm.bias']\n",
            "- This IS expected if you are initializing BertForSequenceClassification from the checkpoint of a model trained on another task or with another architecture (e.g. initializing a BertForSequenceClassification model from a BertForPreTraining model).\n",
            "- This IS NOT expected if you are initializing BertForSequenceClassification from the checkpoint of a model that you expect to be exactly identical (initializing a BertForSequenceClassification model from a BertForSequenceClassification model).\n",
            "Some weights of BertForSequenceClassification were not initialized from the model checkpoint at bert-base-uncased and are newly initialized: ['classifier.weight', 'classifier.bias']\n",
            "You should probably TRAIN this model on a down-stream task to be able to use it for predictions and inference.\n"
          ]
        },
        {
          "name": "stdout",
          "output_type": "stream",
          "text": [
            "======== Epoch 1 / 5 ========\n",
            "Training\tLoss: 1.87\tAccuracy: 0.40\t\tTime: 0:00:07s\n",
            "Validation\tLoss: 1.18\tAccuracy: 0.69\t\tTime: 0:00:01s\n",
            "======== Epoch 2 / 5 ========\n",
            "Training\tLoss: 0.78\tAccuracy: 0.82\t\tTime: 0:00:07s\n",
            "Validation\tLoss: 0.50\tAccuracy: 0.87\t\tTime: 0:00:01s\n",
            "======== Epoch 3 / 5 ========\n",
            "Training\tLoss: 0.31\tAccuracy: 0.93\t\tTime: 0:00:07s\n",
            "Validation\tLoss: 0.40\tAccuracy: 0.88\t\tTime: 0:00:01s\n",
            "======== Epoch 4 / 5 ========\n",
            "Training\tLoss: 0.16\tAccuracy: 0.97\t\tTime: 0:00:07s\n",
            "Validation\tLoss: 0.38\tAccuracy: 0.90\t\tTime: 0:00:01s\n",
            "======== Epoch 5 / 5 ========\n",
            "Training\tLoss: 0.09\tAccuracy: 0.99\t\tTime: 0:00:07s\n",
            "Validation\tLoss: 0.37\tAccuracy: 0.90\t\tTime: 0:00:01s\n",
            "\n",
            "Total model training took 0:00:41 (h:mm:ss)\n",
            "{'checkpoint': 'bert-base-uncased', 'learning_rate': 0.0005, 'epsilon': 1e-06, 'batch_size': 64}\n"
          ]
        },
        {
          "name": "stderr",
          "output_type": "stream",
          "text": [
            "Some weights of the model checkpoint at bert-base-uncased were not used when initializing BertForSequenceClassification: ['cls.predictions.transform.dense.bias', 'cls.seq_relationship.weight', 'cls.predictions.bias', 'cls.predictions.transform.dense.weight', 'cls.predictions.transform.LayerNorm.weight', 'cls.predictions.decoder.weight', 'cls.seq_relationship.bias', 'cls.predictions.transform.LayerNorm.bias']\n",
            "- This IS expected if you are initializing BertForSequenceClassification from the checkpoint of a model trained on another task or with another architecture (e.g. initializing a BertForSequenceClassification model from a BertForPreTraining model).\n",
            "- This IS NOT expected if you are initializing BertForSequenceClassification from the checkpoint of a model that you expect to be exactly identical (initializing a BertForSequenceClassification model from a BertForSequenceClassification model).\n",
            "Some weights of BertForSequenceClassification were not initialized from the model checkpoint at bert-base-uncased and are newly initialized: ['classifier.weight', 'classifier.bias']\n",
            "You should probably TRAIN this model on a down-stream task to be able to use it for predictions and inference.\n"
          ]
        },
        {
          "name": "stdout",
          "output_type": "stream",
          "text": [
            "======== Epoch 1 / 5 ========\n",
            "Training\tLoss: 1.35\tAccuracy: 0.54\t\tTime: 0:00:09s\n",
            "Validation\tLoss: 0.71\tAccuracy: 0.80\t\tTime: 0:00:01s\n",
            "======== Epoch 2 / 5 ========\n",
            "Training\tLoss: 0.58\tAccuracy: 0.84\t\tTime: 0:00:09s\n",
            "Validation\tLoss: 0.74\tAccuracy: 0.80\t\tTime: 0:00:01s\n",
            "======== Epoch 3 / 5 ========\n",
            "Training\tLoss: 0.37\tAccuracy: 0.91\t\tTime: 0:00:09s\n",
            "Validation\tLoss: 0.48\tAccuracy: 0.87\t\tTime: 0:00:01s\n",
            "======== Epoch 4 / 5 ========\n",
            "Training\tLoss: 0.23\tAccuracy: 0.94\t\tTime: 0:00:09s\n",
            "Validation\tLoss: 0.57\tAccuracy: 0.87\t\tTime: 0:00:01s\n",
            "======== Epoch 5 / 5 ========\n",
            "Training\tLoss: 0.12\tAccuracy: 0.97\t\tTime: 0:00:09s\n",
            "Validation\tLoss: 0.49\tAccuracy: 0.89\t\tTime: 0:00:01s\n",
            "\n",
            "Total model training took 0:00:49 (h:mm:ss)\n",
            "{'checkpoint': 'bert-base-uncased', 'learning_rate': 0.0005, 'epsilon': 1e-06, 'batch_size': 128}\n"
          ]
        },
        {
          "name": "stderr",
          "output_type": "stream",
          "text": [
            "Some weights of the model checkpoint at bert-base-uncased were not used when initializing BertForSequenceClassification: ['cls.predictions.transform.dense.bias', 'cls.seq_relationship.weight', 'cls.predictions.bias', 'cls.predictions.transform.dense.weight', 'cls.predictions.transform.LayerNorm.weight', 'cls.predictions.decoder.weight', 'cls.seq_relationship.bias', 'cls.predictions.transform.LayerNorm.bias']\n",
            "- This IS expected if you are initializing BertForSequenceClassification from the checkpoint of a model trained on another task or with another architecture (e.g. initializing a BertForSequenceClassification model from a BertForPreTraining model).\n",
            "- This IS NOT expected if you are initializing BertForSequenceClassification from the checkpoint of a model that you expect to be exactly identical (initializing a BertForSequenceClassification model from a BertForSequenceClassification model).\n",
            "Some weights of BertForSequenceClassification were not initialized from the model checkpoint at bert-base-uncased and are newly initialized: ['classifier.weight', 'classifier.bias']\n",
            "You should probably TRAIN this model on a down-stream task to be able to use it for predictions and inference.\n"
          ]
        },
        {
          "name": "stdout",
          "output_type": "stream",
          "text": [
            "======== Epoch 1 / 5 ========\n",
            "Training\tLoss: 1.88\tAccuracy: 0.34\t\tTime: 0:00:07s\n",
            "Validation\tLoss: 0.96\tAccuracy: 0.67\t\tTime: 0:00:01s\n",
            "======== Epoch 2 / 5 ========\n",
            "Training\tLoss: 0.64\tAccuracy: 0.81\t\tTime: 0:00:07s\n",
            "Validation\tLoss: 0.56\tAccuracy: 0.83\t\tTime: 0:00:01s\n",
            "======== Epoch 3 / 5 ========\n",
            "Training\tLoss: 0.31\tAccuracy: 0.91\t\tTime: 0:00:07s\n",
            "Validation\tLoss: 0.57\tAccuracy: 0.85\t\tTime: 0:00:01s\n",
            "======== Epoch 4 / 5 ========\n",
            "Training\tLoss: 0.19\tAccuracy: 0.95\t\tTime: 0:00:07s\n",
            "Validation\tLoss: 0.54\tAccuracy: 0.88\t\tTime: 0:00:01s\n",
            "======== Epoch 5 / 5 ========\n",
            "Training\tLoss: 0.09\tAccuracy: 0.98\t\tTime: 0:00:07s\n",
            "Validation\tLoss: 0.51\tAccuracy: 0.89\t\tTime: 0:00:01s\n",
            "\n",
            "Total model training took 0:00:41 (h:mm:ss)\n",
            "{'checkpoint': 'bert-base-uncased', 'learning_rate': 0.0005, 'epsilon': 1e-07, 'batch_size': 64}\n"
          ]
        },
        {
          "name": "stderr",
          "output_type": "stream",
          "text": [
            "Some weights of the model checkpoint at bert-base-uncased were not used when initializing BertForSequenceClassification: ['cls.predictions.transform.dense.bias', 'cls.seq_relationship.weight', 'cls.predictions.bias', 'cls.predictions.transform.dense.weight', 'cls.predictions.transform.LayerNorm.weight', 'cls.predictions.decoder.weight', 'cls.seq_relationship.bias', 'cls.predictions.transform.LayerNorm.bias']\n",
            "- This IS expected if you are initializing BertForSequenceClassification from the checkpoint of a model trained on another task or with another architecture (e.g. initializing a BertForSequenceClassification model from a BertForPreTraining model).\n",
            "- This IS NOT expected if you are initializing BertForSequenceClassification from the checkpoint of a model that you expect to be exactly identical (initializing a BertForSequenceClassification model from a BertForSequenceClassification model).\n",
            "Some weights of BertForSequenceClassification were not initialized from the model checkpoint at bert-base-uncased and are newly initialized: ['classifier.weight', 'classifier.bias']\n",
            "You should probably TRAIN this model on a down-stream task to be able to use it for predictions and inference.\n"
          ]
        },
        {
          "name": "stdout",
          "output_type": "stream",
          "text": [
            "======== Epoch 1 / 5 ========\n",
            "Training\tLoss: 2.21\tAccuracy: 0.18\t\tTime: 0:00:09s\n",
            "Validation\tLoss: 2.15\tAccuracy: 0.21\t\tTime: 0:00:01s\n",
            "======== Epoch 2 / 5 ========\n",
            "Training\tLoss: 2.30\tAccuracy: 0.16\t\tTime: 0:00:09s\n",
            "Validation\tLoss: 2.33\tAccuracy: 0.13\t\tTime: 0:00:01s\n",
            "======== Epoch 3 / 5 ========\n",
            "Training\tLoss: 2.31\tAccuracy: 0.12\t\tTime: 0:00:09s\n",
            "Validation\tLoss: 2.30\tAccuracy: 0.13\t\tTime: 0:00:01s\n",
            "======== Epoch 4 / 5 ========\n",
            "Training\tLoss: 2.30\tAccuracy: 0.13\t\tTime: 0:00:09s\n",
            "Validation\tLoss: 2.29\tAccuracy: 0.13\t\tTime: 0:00:01s\n",
            "\n",
            "Total model training took 0:00:39 (h:mm:ss)\n",
            "{'checkpoint': 'bert-base-uncased', 'learning_rate': 0.0005, 'epsilon': 1e-07, 'batch_size': 128}\n"
          ]
        },
        {
          "name": "stderr",
          "output_type": "stream",
          "text": [
            "Some weights of the model checkpoint at bert-base-uncased were not used when initializing BertForSequenceClassification: ['cls.predictions.transform.dense.bias', 'cls.seq_relationship.weight', 'cls.predictions.bias', 'cls.predictions.transform.dense.weight', 'cls.predictions.transform.LayerNorm.weight', 'cls.predictions.decoder.weight', 'cls.seq_relationship.bias', 'cls.predictions.transform.LayerNorm.bias']\n",
            "- This IS expected if you are initializing BertForSequenceClassification from the checkpoint of a model trained on another task or with another architecture (e.g. initializing a BertForSequenceClassification model from a BertForPreTraining model).\n",
            "- This IS NOT expected if you are initializing BertForSequenceClassification from the checkpoint of a model that you expect to be exactly identical (initializing a BertForSequenceClassification model from a BertForSequenceClassification model).\n",
            "Some weights of BertForSequenceClassification were not initialized from the model checkpoint at bert-base-uncased and are newly initialized: ['classifier.weight', 'classifier.bias']\n",
            "You should probably TRAIN this model on a down-stream task to be able to use it for predictions and inference.\n"
          ]
        },
        {
          "name": "stdout",
          "output_type": "stream",
          "text": [
            "======== Epoch 1 / 5 ========\n",
            "Training\tLoss: 1.60\tAccuracy: 0.45\t\tTime: 0:00:07s\n",
            "Validation\tLoss: 0.94\tAccuracy: 0.68\t\tTime: 0:00:01s\n",
            "======== Epoch 2 / 5 ========\n",
            "Training\tLoss: 0.61\tAccuracy: 0.82\t\tTime: 0:00:07s\n",
            "Validation\tLoss: 0.54\tAccuracy: 0.84\t\tTime: 0:00:01s\n",
            "======== Epoch 3 / 5 ========\n",
            "Training\tLoss: 0.32\tAccuracy: 0.91\t\tTime: 0:00:07s\n",
            "Validation\tLoss: 0.58\tAccuracy: 0.85\t\tTime: 0:00:01s\n",
            "======== Epoch 4 / 5 ========\n",
            "Training\tLoss: 0.21\tAccuracy: 0.94\t\tTime: 0:00:07s\n",
            "Validation\tLoss: 0.48\tAccuracy: 0.88\t\tTime: 0:00:01s\n",
            "======== Epoch 5 / 5 ========\n",
            "Training\tLoss: 0.10\tAccuracy: 0.98\t\tTime: 0:00:07s\n",
            "Validation\tLoss: 0.48\tAccuracy: 0.89\t\tTime: 0:00:01s\n",
            "\n",
            "Total model training took 0:00:41 (h:mm:ss)\n",
            "{'checkpoint': 'bert-base-uncased', 'learning_rate': 0.0005, 'epsilon': 1e-08, 'batch_size': 64}\n"
          ]
        },
        {
          "name": "stderr",
          "output_type": "stream",
          "text": [
            "Some weights of the model checkpoint at bert-base-uncased were not used when initializing BertForSequenceClassification: ['cls.predictions.transform.dense.bias', 'cls.seq_relationship.weight', 'cls.predictions.bias', 'cls.predictions.transform.dense.weight', 'cls.predictions.transform.LayerNorm.weight', 'cls.predictions.decoder.weight', 'cls.seq_relationship.bias', 'cls.predictions.transform.LayerNorm.bias']\n",
            "- This IS expected if you are initializing BertForSequenceClassification from the checkpoint of a model trained on another task or with another architecture (e.g. initializing a BertForSequenceClassification model from a BertForPreTraining model).\n",
            "- This IS NOT expected if you are initializing BertForSequenceClassification from the checkpoint of a model that you expect to be exactly identical (initializing a BertForSequenceClassification model from a BertForSequenceClassification model).\n",
            "Some weights of BertForSequenceClassification were not initialized from the model checkpoint at bert-base-uncased and are newly initialized: ['classifier.weight', 'classifier.bias']\n",
            "You should probably TRAIN this model on a down-stream task to be able to use it for predictions and inference.\n"
          ]
        },
        {
          "name": "stdout",
          "output_type": "stream",
          "text": [
            "======== Epoch 1 / 5 ========\n",
            "Training\tLoss: 1.56\tAccuracy: 0.48\t\tTime: 0:00:09s\n",
            "Validation\tLoss: 0.89\tAccuracy: 0.73\t\tTime: 0:00:01s\n",
            "======== Epoch 2 / 5 ========\n",
            "Training\tLoss: 0.79\tAccuracy: 0.77\t\tTime: 0:00:09s\n",
            "Validation\tLoss: 0.77\tAccuracy: 0.80\t\tTime: 0:00:01s\n",
            "======== Epoch 3 / 5 ========\n",
            "Training\tLoss: 0.57\tAccuracy: 0.86\t\tTime: 0:00:09s\n",
            "Validation\tLoss: 0.61\tAccuracy: 0.85\t\tTime: 0:00:01s\n",
            "======== Epoch 4 / 5 ========\n",
            "Training\tLoss: 0.38\tAccuracy: 0.91\t\tTime: 0:00:09s\n",
            "Validation\tLoss: 0.55\tAccuracy: 0.86\t\tTime: 0:00:01s\n",
            "======== Epoch 5 / 5 ========\n",
            "Training\tLoss: 0.24\tAccuracy: 0.95\t\tTime: 0:00:09s\n",
            "Validation\tLoss: 0.48\tAccuracy: 0.88\t\tTime: 0:00:01s\n",
            "\n",
            "Total model training took 0:00:49 (h:mm:ss)\n",
            "{'checkpoint': 'bert-base-uncased', 'learning_rate': 0.0005, 'epsilon': 1e-08, 'batch_size': 128}\n"
          ]
        },
        {
          "name": "stderr",
          "output_type": "stream",
          "text": [
            "Some weights of the model checkpoint at bert-base-uncased were not used when initializing BertForSequenceClassification: ['cls.predictions.transform.dense.bias', 'cls.seq_relationship.weight', 'cls.predictions.bias', 'cls.predictions.transform.dense.weight', 'cls.predictions.transform.LayerNorm.weight', 'cls.predictions.decoder.weight', 'cls.seq_relationship.bias', 'cls.predictions.transform.LayerNorm.bias']\n",
            "- This IS expected if you are initializing BertForSequenceClassification from the checkpoint of a model trained on another task or with another architecture (e.g. initializing a BertForSequenceClassification model from a BertForPreTraining model).\n",
            "- This IS NOT expected if you are initializing BertForSequenceClassification from the checkpoint of a model that you expect to be exactly identical (initializing a BertForSequenceClassification model from a BertForSequenceClassification model).\n",
            "Some weights of BertForSequenceClassification were not initialized from the model checkpoint at bert-base-uncased and are newly initialized: ['classifier.weight', 'classifier.bias']\n",
            "You should probably TRAIN this model on a down-stream task to be able to use it for predictions and inference.\n"
          ]
        },
        {
          "name": "stdout",
          "output_type": "stream",
          "text": [
            "======== Epoch 1 / 5 ========\n",
            "Training\tLoss: 2.35\tAccuracy: 0.12\t\tTime: 0:00:07s\n",
            "Validation\tLoss: 2.35\tAccuracy: 0.13\t\tTime: 0:00:01s\n",
            "======== Epoch 2 / 5 ========\n",
            "Training\tLoss: 2.33\tAccuracy: 0.10\t\tTime: 0:00:07s\n",
            "Validation\tLoss: 2.31\tAccuracy: 0.09\t\tTime: 0:00:01s\n",
            "======== Epoch 3 / 5 ========\n",
            "Training\tLoss: 2.32\tAccuracy: 0.10\t\tTime: 0:00:07s\n",
            "Validation\tLoss: 2.31\tAccuracy: 0.13\t\tTime: 0:00:01s\n",
            "======== Epoch 4 / 5 ========\n",
            "Training\tLoss: 2.32\tAccuracy: 0.12\t\tTime: 0:00:07s\n",
            "Validation\tLoss: 2.31\tAccuracy: 0.10\t\tTime: 0:00:01s\n",
            "======== Epoch 5 / 5 ========\n",
            "Training\tLoss: 2.31\tAccuracy: 0.11\t\tTime: 0:00:07s\n",
            "Validation\tLoss: 2.29\tAccuracy: 0.13\t\tTime: 0:00:01s\n",
            "\n",
            "Total model training took 0:00:41 (h:mm:ss)\n",
            "{'checkpoint': 'roberta-base', 'learning_rate': 1e-05, 'epsilon': 1e-06, 'batch_size': 64}\n"
          ]
        },
        {
          "name": "stderr",
          "output_type": "stream",
          "text": [
            "Some weights of the model checkpoint at roberta-base were not used when initializing RobertaForSequenceClassification: ['lm_head.dense.weight', 'lm_head.layer_norm.bias', 'lm_head.dense.bias', 'roberta.pooler.dense.bias', 'lm_head.decoder.weight', 'lm_head.bias', 'roberta.pooler.dense.weight', 'lm_head.layer_norm.weight']\n",
            "- This IS expected if you are initializing RobertaForSequenceClassification from the checkpoint of a model trained on another task or with another architecture (e.g. initializing a BertForSequenceClassification model from a BertForPreTraining model).\n",
            "- This IS NOT expected if you are initializing RobertaForSequenceClassification from the checkpoint of a model that you expect to be exactly identical (initializing a BertForSequenceClassification model from a BertForSequenceClassification model).\n",
            "Some weights of RobertaForSequenceClassification were not initialized from the model checkpoint at roberta-base and are newly initialized: ['classifier.dense.bias', 'classifier.out_proj.weight', 'classifier.dense.weight', 'classifier.out_proj.bias']\n",
            "You should probably TRAIN this model on a down-stream task to be able to use it for predictions and inference.\n"
          ]
        },
        {
          "name": "stdout",
          "output_type": "stream",
          "text": [
            "======== Epoch 1 / 5 ========\n",
            "Training\tLoss: 2.30\tAccuracy: 0.13\t\tTime: 0:00:09s\n",
            "Validation\tLoss: 2.28\tAccuracy: 0.14\t\tTime: 0:00:01s\n",
            "======== Epoch 2 / 5 ========\n",
            "Training\tLoss: 2.26\tAccuracy: 0.16\t\tTime: 0:00:09s\n",
            "Validation\tLoss: 2.20\tAccuracy: 0.16\t\tTime: 0:00:01s\n",
            "======== Epoch 3 / 5 ========\n",
            "Training\tLoss: 2.16\tAccuracy: 0.21\t\tTime: 0:00:09s\n",
            "Validation\tLoss: 2.06\tAccuracy: 0.27\t\tTime: 0:00:01s\n",
            "======== Epoch 4 / 5 ========\n",
            "Training\tLoss: 2.00\tAccuracy: 0.31\t\tTime: 0:00:09s\n",
            "Validation\tLoss: 1.87\tAccuracy: 0.42\t\tTime: 0:00:01s\n",
            "======== Epoch 5 / 5 ========\n",
            "Training\tLoss: 1.88\tAccuracy: 0.39\t\tTime: 0:00:09s\n",
            "Validation\tLoss: 1.79\tAccuracy: 0.46\t\tTime: 0:00:01s\n",
            "\n",
            "Total model training took 0:00:51 (h:mm:ss)\n",
            "{'checkpoint': 'roberta-base', 'learning_rate': 1e-05, 'epsilon': 1e-06, 'batch_size': 128}\n"
          ]
        },
        {
          "name": "stderr",
          "output_type": "stream",
          "text": [
            "Some weights of the model checkpoint at roberta-base were not used when initializing RobertaForSequenceClassification: ['lm_head.dense.weight', 'lm_head.layer_norm.bias', 'lm_head.dense.bias', 'roberta.pooler.dense.bias', 'lm_head.decoder.weight', 'lm_head.bias', 'roberta.pooler.dense.weight', 'lm_head.layer_norm.weight']\n",
            "- This IS expected if you are initializing RobertaForSequenceClassification from the checkpoint of a model trained on another task or with another architecture (e.g. initializing a BertForSequenceClassification model from a BertForPreTraining model).\n",
            "- This IS NOT expected if you are initializing RobertaForSequenceClassification from the checkpoint of a model that you expect to be exactly identical (initializing a BertForSequenceClassification model from a BertForSequenceClassification model).\n",
            "Some weights of RobertaForSequenceClassification were not initialized from the model checkpoint at roberta-base and are newly initialized: ['classifier.dense.bias', 'classifier.out_proj.weight', 'classifier.dense.weight', 'classifier.out_proj.bias']\n",
            "You should probably TRAIN this model on a down-stream task to be able to use it for predictions and inference.\n"
          ]
        },
        {
          "name": "stdout",
          "output_type": "stream",
          "text": [
            "======== Epoch 1 / 5 ========\n",
            "Training\tLoss: 2.31\tAccuracy: 0.11\t\tTime: 0:00:08s\n",
            "Validation\tLoss: 2.30\tAccuracy: 0.11\t\tTime: 0:00:01s\n",
            "======== Epoch 2 / 5 ========\n",
            "Training\tLoss: 2.29\tAccuracy: 0.14\t\tTime: 0:00:08s\n",
            "Validation\tLoss: 2.28\tAccuracy: 0.18\t\tTime: 0:00:01s\n",
            "======== Epoch 3 / 5 ========\n",
            "Training\tLoss: 2.27\tAccuracy: 0.18\t\tTime: 0:00:08s\n",
            "Validation\tLoss: 2.24\tAccuracy: 0.18\t\tTime: 0:00:01s\n",
            "======== Epoch 4 / 5 ========\n",
            "Training\tLoss: 2.23\tAccuracy: 0.20\t\tTime: 0:00:08s\n",
            "Validation\tLoss: 2.19\tAccuracy: 0.22\t\tTime: 0:00:01s\n",
            "======== Epoch 5 / 5 ========\n",
            "Training\tLoss: 2.19\tAccuracy: 0.22\t\tTime: 0:00:08s\n",
            "Validation\tLoss: 2.16\tAccuracy: 0.23\t\tTime: 0:00:01s\n",
            "\n",
            "Total model training took 0:00:42 (h:mm:ss)\n",
            "{'checkpoint': 'roberta-base', 'learning_rate': 1e-05, 'epsilon': 1e-07, 'batch_size': 64}\n"
          ]
        },
        {
          "name": "stderr",
          "output_type": "stream",
          "text": [
            "Some weights of the model checkpoint at roberta-base were not used when initializing RobertaForSequenceClassification: ['lm_head.dense.weight', 'lm_head.layer_norm.bias', 'lm_head.dense.bias', 'roberta.pooler.dense.bias', 'lm_head.decoder.weight', 'lm_head.bias', 'roberta.pooler.dense.weight', 'lm_head.layer_norm.weight']\n",
            "- This IS expected if you are initializing RobertaForSequenceClassification from the checkpoint of a model trained on another task or with another architecture (e.g. initializing a BertForSequenceClassification model from a BertForPreTraining model).\n",
            "- This IS NOT expected if you are initializing RobertaForSequenceClassification from the checkpoint of a model that you expect to be exactly identical (initializing a BertForSequenceClassification model from a BertForSequenceClassification model).\n",
            "Some weights of RobertaForSequenceClassification were not initialized from the model checkpoint at roberta-base and are newly initialized: ['classifier.dense.bias', 'classifier.out_proj.weight', 'classifier.dense.weight', 'classifier.out_proj.bias']\n",
            "You should probably TRAIN this model on a down-stream task to be able to use it for predictions and inference.\n"
          ]
        },
        {
          "name": "stdout",
          "output_type": "stream",
          "text": [
            "======== Epoch 1 / 5 ========\n",
            "Training\tLoss: 2.30\tAccuracy: 0.11\t\tTime: 0:00:09s\n",
            "Validation\tLoss: 2.28\tAccuracy: 0.13\t\tTime: 0:00:01s\n",
            "======== Epoch 2 / 5 ========\n",
            "Training\tLoss: 2.27\tAccuracy: 0.14\t\tTime: 0:00:09s\n",
            "Validation\tLoss: 2.22\tAccuracy: 0.18\t\tTime: 0:00:01s\n",
            "======== Epoch 3 / 5 ========\n",
            "Training\tLoss: 2.20\tAccuracy: 0.19\t\tTime: 0:00:09s\n",
            "Validation\tLoss: 2.11\tAccuracy: 0.23\t\tTime: 0:00:01s\n",
            "======== Epoch 4 / 5 ========\n",
            "Training\tLoss: 2.09\tAccuracy: 0.24\t\tTime: 0:00:09s\n",
            "Validation\tLoss: 2.01\tAccuracy: 0.28\t\tTime: 0:00:01s\n",
            "======== Epoch 5 / 5 ========\n",
            "Training\tLoss: 2.02\tAccuracy: 0.28\t\tTime: 0:00:09s\n",
            "Validation\tLoss: 1.97\tAccuracy: 0.31\t\tTime: 0:00:01s\n",
            "\n",
            "Total model training took 0:00:51 (h:mm:ss)\n",
            "{'checkpoint': 'roberta-base', 'learning_rate': 1e-05, 'epsilon': 1e-07, 'batch_size': 128}\n"
          ]
        },
        {
          "name": "stderr",
          "output_type": "stream",
          "text": [
            "Some weights of the model checkpoint at roberta-base were not used when initializing RobertaForSequenceClassification: ['lm_head.dense.weight', 'lm_head.layer_norm.bias', 'lm_head.dense.bias', 'roberta.pooler.dense.bias', 'lm_head.decoder.weight', 'lm_head.bias', 'roberta.pooler.dense.weight', 'lm_head.layer_norm.weight']\n",
            "- This IS expected if you are initializing RobertaForSequenceClassification from the checkpoint of a model trained on another task or with another architecture (e.g. initializing a BertForSequenceClassification model from a BertForPreTraining model).\n",
            "- This IS NOT expected if you are initializing RobertaForSequenceClassification from the checkpoint of a model that you expect to be exactly identical (initializing a BertForSequenceClassification model from a BertForSequenceClassification model).\n",
            "Some weights of RobertaForSequenceClassification were not initialized from the model checkpoint at roberta-base and are newly initialized: ['classifier.dense.bias', 'classifier.out_proj.weight', 'classifier.dense.weight', 'classifier.out_proj.bias']\n",
            "You should probably TRAIN this model on a down-stream task to be able to use it for predictions and inference.\n"
          ]
        },
        {
          "name": "stdout",
          "output_type": "stream",
          "text": [
            "======== Epoch 1 / 5 ========\n",
            "Training\tLoss: 2.30\tAccuracy: 0.13\t\tTime: 0:00:08s\n",
            "Validation\tLoss: 2.29\tAccuracy: 0.14\t\tTime: 0:00:01s\n",
            "======== Epoch 2 / 5 ========\n",
            "Training\tLoss: 2.28\tAccuracy: 0.15\t\tTime: 0:00:07s\n",
            "Validation\tLoss: 2.26\tAccuracy: 0.19\t\tTime: 0:00:01s\n",
            "======== Epoch 3 / 5 ========\n",
            "Training\tLoss: 2.25\tAccuracy: 0.18\t\tTime: 0:00:07s\n",
            "Validation\tLoss: 2.23\tAccuracy: 0.18\t\tTime: 0:00:01s\n",
            "======== Epoch 4 / 5 ========\n",
            "Training\tLoss: 2.22\tAccuracy: 0.20\t\tTime: 0:00:08s\n",
            "Validation\tLoss: 2.19\tAccuracy: 0.22\t\tTime: 0:00:01s\n",
            "======== Epoch 5 / 5 ========\n",
            "Training\tLoss: 2.19\tAccuracy: 0.22\t\tTime: 0:00:08s\n",
            "Validation\tLoss: 2.16\tAccuracy: 0.23\t\tTime: 0:00:01s\n",
            "\n",
            "Total model training took 0:00:42 (h:mm:ss)\n",
            "{'checkpoint': 'roberta-base', 'learning_rate': 1e-05, 'epsilon': 1e-08, 'batch_size': 64}\n"
          ]
        },
        {
          "name": "stderr",
          "output_type": "stream",
          "text": [
            "Some weights of the model checkpoint at roberta-base were not used when initializing RobertaForSequenceClassification: ['lm_head.dense.weight', 'lm_head.layer_norm.bias', 'lm_head.dense.bias', 'roberta.pooler.dense.bias', 'lm_head.decoder.weight', 'lm_head.bias', 'roberta.pooler.dense.weight', 'lm_head.layer_norm.weight']\n",
            "- This IS expected if you are initializing RobertaForSequenceClassification from the checkpoint of a model trained on another task or with another architecture (e.g. initializing a BertForSequenceClassification model from a BertForPreTraining model).\n",
            "- This IS NOT expected if you are initializing RobertaForSequenceClassification from the checkpoint of a model that you expect to be exactly identical (initializing a BertForSequenceClassification model from a BertForSequenceClassification model).\n",
            "Some weights of RobertaForSequenceClassification were not initialized from the model checkpoint at roberta-base and are newly initialized: ['classifier.dense.bias', 'classifier.out_proj.weight', 'classifier.dense.weight', 'classifier.out_proj.bias']\n",
            "You should probably TRAIN this model on a down-stream task to be able to use it for predictions and inference.\n"
          ]
        },
        {
          "name": "stdout",
          "output_type": "stream",
          "text": [
            "======== Epoch 1 / 5 ========\n",
            "Training\tLoss: 2.29\tAccuracy: 0.14\t\tTime: 0:00:09s\n",
            "Validation\tLoss: 2.24\tAccuracy: 0.21\t\tTime: 0:00:01s\n",
            "======== Epoch 2 / 5 ========\n",
            "Training\tLoss: 2.18\tAccuracy: 0.23\t\tTime: 0:00:09s\n",
            "Validation\tLoss: 2.02\tAccuracy: 0.26\t\tTime: 0:00:01s\n",
            "======== Epoch 3 / 5 ========\n",
            "Training\tLoss: 1.97\tAccuracy: 0.35\t\tTime: 0:00:09s\n",
            "Validation\tLoss: 1.75\tAccuracy: 0.51\t\tTime: 0:00:01s\n",
            "======== Epoch 4 / 5 ========\n",
            "Training\tLoss: 1.73\tAccuracy: 0.50\t\tTime: 0:00:09s\n",
            "Validation\tLoss: 1.54\tAccuracy: 0.61\t\tTime: 0:00:01s\n",
            "======== Epoch 5 / 5 ========\n",
            "Training\tLoss: 1.59\tAccuracy: 0.56\t\tTime: 0:00:09s\n",
            "Validation\tLoss: 1.48\tAccuracy: 0.61\t\tTime: 0:00:01s\n",
            "\n",
            "Total model training took 0:00:51 (h:mm:ss)\n",
            "{'checkpoint': 'roberta-base', 'learning_rate': 1e-05, 'epsilon': 1e-08, 'batch_size': 128}\n"
          ]
        },
        {
          "name": "stderr",
          "output_type": "stream",
          "text": [
            "Some weights of the model checkpoint at roberta-base were not used when initializing RobertaForSequenceClassification: ['lm_head.dense.weight', 'lm_head.layer_norm.bias', 'lm_head.dense.bias', 'roberta.pooler.dense.bias', 'lm_head.decoder.weight', 'lm_head.bias', 'roberta.pooler.dense.weight', 'lm_head.layer_norm.weight']\n",
            "- This IS expected if you are initializing RobertaForSequenceClassification from the checkpoint of a model trained on another task or with another architecture (e.g. initializing a BertForSequenceClassification model from a BertForPreTraining model).\n",
            "- This IS NOT expected if you are initializing RobertaForSequenceClassification from the checkpoint of a model that you expect to be exactly identical (initializing a BertForSequenceClassification model from a BertForSequenceClassification model).\n",
            "Some weights of RobertaForSequenceClassification were not initialized from the model checkpoint at roberta-base and are newly initialized: ['classifier.dense.bias', 'classifier.out_proj.weight', 'classifier.dense.weight', 'classifier.out_proj.bias']\n",
            "You should probably TRAIN this model on a down-stream task to be able to use it for predictions and inference.\n"
          ]
        },
        {
          "name": "stdout",
          "output_type": "stream",
          "text": [
            "======== Epoch 1 / 5 ========\n",
            "Training\tLoss: 2.30\tAccuracy: 0.12\t\tTime: 0:00:08s\n",
            "Validation\tLoss: 2.29\tAccuracy: 0.13\t\tTime: 0:00:01s\n",
            "======== Epoch 2 / 5 ========\n",
            "Training\tLoss: 2.28\tAccuracy: 0.14\t\tTime: 0:00:08s\n",
            "Validation\tLoss: 2.26\tAccuracy: 0.15\t\tTime: 0:00:01s\n",
            "======== Epoch 3 / 5 ========\n",
            "Training\tLoss: 2.25\tAccuracy: 0.17\t\tTime: 0:00:08s\n",
            "Validation\tLoss: 2.21\tAccuracy: 0.22\t\tTime: 0:00:01s\n",
            "======== Epoch 4 / 5 ========\n",
            "Training\tLoss: 2.20\tAccuracy: 0.23\t\tTime: 0:00:08s\n",
            "Validation\tLoss: 2.17\tAccuracy: 0.27\t\tTime: 0:00:01s\n",
            "======== Epoch 5 / 5 ========\n",
            "Training\tLoss: 2.15\tAccuracy: 0.27\t\tTime: 0:00:08s\n",
            "Validation\tLoss: 2.13\tAccuracy: 0.27\t\tTime: 0:00:01s\n",
            "\n",
            "Total model training took 0:00:42 (h:mm:ss)\n",
            "{'checkpoint': 'roberta-base', 'learning_rate': 5e-05, 'epsilon': 1e-06, 'batch_size': 64}\n"
          ]
        },
        {
          "name": "stderr",
          "output_type": "stream",
          "text": [
            "Some weights of the model checkpoint at roberta-base were not used when initializing RobertaForSequenceClassification: ['lm_head.dense.weight', 'lm_head.layer_norm.bias', 'lm_head.dense.bias', 'roberta.pooler.dense.bias', 'lm_head.decoder.weight', 'lm_head.bias', 'roberta.pooler.dense.weight', 'lm_head.layer_norm.weight']\n",
            "- This IS expected if you are initializing RobertaForSequenceClassification from the checkpoint of a model trained on another task or with another architecture (e.g. initializing a BertForSequenceClassification model from a BertForPreTraining model).\n",
            "- This IS NOT expected if you are initializing RobertaForSequenceClassification from the checkpoint of a model that you expect to be exactly identical (initializing a BertForSequenceClassification model from a BertForSequenceClassification model).\n",
            "Some weights of RobertaForSequenceClassification were not initialized from the model checkpoint at roberta-base and are newly initialized: ['classifier.dense.bias', 'classifier.out_proj.weight', 'classifier.dense.weight', 'classifier.out_proj.bias']\n",
            "You should probably TRAIN this model on a down-stream task to be able to use it for predictions and inference.\n"
          ]
        },
        {
          "name": "stdout",
          "output_type": "stream",
          "text": [
            "======== Epoch 1 / 5 ========\n",
            "Training\tLoss: 2.29\tAccuracy: 0.13\t\tTime: 0:00:09s\n",
            "Validation\tLoss: 2.27\tAccuracy: 0.17\t\tTime: 0:00:01s\n",
            "======== Epoch 2 / 5 ========\n",
            "Training\tLoss: 2.11\tAccuracy: 0.21\t\tTime: 0:00:09s\n",
            "Validation\tLoss: 1.96\tAccuracy: 0.27\t\tTime: 0:00:01s\n",
            "======== Epoch 3 / 5 ========\n",
            "Training\tLoss: 1.79\tAccuracy: 0.35\t\tTime: 0:00:09s\n",
            "Validation\tLoss: 1.58\tAccuracy: 0.43\t\tTime: 0:00:01s\n",
            "======== Epoch 4 / 5 ========\n",
            "Training\tLoss: 1.40\tAccuracy: 0.52\t\tTime: 0:00:09s\n",
            "Validation\tLoss: 1.28\tAccuracy: 0.57\t\tTime: 0:00:01s\n",
            "======== Epoch 5 / 5 ========\n",
            "Training\tLoss: 1.13\tAccuracy: 0.63\t\tTime: 0:00:09s\n",
            "Validation\tLoss: 1.09\tAccuracy: 0.65\t\tTime: 0:00:01s\n",
            "\n",
            "Total model training took 0:00:51 (h:mm:ss)\n",
            "{'checkpoint': 'roberta-base', 'learning_rate': 5e-05, 'epsilon': 1e-06, 'batch_size': 128}\n"
          ]
        },
        {
          "name": "stderr",
          "output_type": "stream",
          "text": [
            "Some weights of the model checkpoint at roberta-base were not used when initializing RobertaForSequenceClassification: ['lm_head.dense.weight', 'lm_head.layer_norm.bias', 'lm_head.dense.bias', 'roberta.pooler.dense.bias', 'lm_head.decoder.weight', 'lm_head.bias', 'roberta.pooler.dense.weight', 'lm_head.layer_norm.weight']\n",
            "- This IS expected if you are initializing RobertaForSequenceClassification from the checkpoint of a model trained on another task or with another architecture (e.g. initializing a BertForSequenceClassification model from a BertForPreTraining model).\n",
            "- This IS NOT expected if you are initializing RobertaForSequenceClassification from the checkpoint of a model that you expect to be exactly identical (initializing a BertForSequenceClassification model from a BertForSequenceClassification model).\n",
            "Some weights of RobertaForSequenceClassification were not initialized from the model checkpoint at roberta-base and are newly initialized: ['classifier.dense.bias', 'classifier.out_proj.weight', 'classifier.dense.weight', 'classifier.out_proj.bias']\n",
            "You should probably TRAIN this model on a down-stream task to be able to use it for predictions and inference.\n"
          ]
        },
        {
          "name": "stdout",
          "output_type": "stream",
          "text": [
            "======== Epoch 1 / 5 ========\n",
            "Training\tLoss: 2.28\tAccuracy: 0.13\t\tTime: 0:00:08s\n",
            "Validation\tLoss: 2.22\tAccuracy: 0.15\t\tTime: 0:00:01s\n",
            "======== Epoch 2 / 5 ========\n",
            "Training\tLoss: 2.12\tAccuracy: 0.23\t\tTime: 0:00:08s\n",
            "Validation\tLoss: 1.94\tAccuracy: 0.32\t\tTime: 0:00:01s\n",
            "======== Epoch 3 / 5 ========\n",
            "Training\tLoss: 1.73\tAccuracy: 0.43\t\tTime: 0:00:08s\n",
            "Validation\tLoss: 1.36\tAccuracy: 0.58\t\tTime: 0:00:01s\n",
            "======== Epoch 4 / 5 ========\n",
            "Training\tLoss: 1.24\tAccuracy: 0.62\t\tTime: 0:00:07s\n",
            "Validation\tLoss: 1.04\tAccuracy: 0.68\t\tTime: 0:00:01s\n",
            "======== Epoch 5 / 5 ========\n",
            "Training\tLoss: 1.00\tAccuracy: 0.71\t\tTime: 0:00:08s\n",
            "Validation\tLoss: 0.93\tAccuracy: 0.71\t\tTime: 0:00:01s\n",
            "\n",
            "Total model training took 0:00:42 (h:mm:ss)\n",
            "{'checkpoint': 'roberta-base', 'learning_rate': 5e-05, 'epsilon': 1e-07, 'batch_size': 64}\n"
          ]
        },
        {
          "name": "stderr",
          "output_type": "stream",
          "text": [
            "Some weights of the model checkpoint at roberta-base were not used when initializing RobertaForSequenceClassification: ['lm_head.dense.weight', 'lm_head.layer_norm.bias', 'lm_head.dense.bias', 'roberta.pooler.dense.bias', 'lm_head.decoder.weight', 'lm_head.bias', 'roberta.pooler.dense.weight', 'lm_head.layer_norm.weight']\n",
            "- This IS expected if you are initializing RobertaForSequenceClassification from the checkpoint of a model trained on another task or with another architecture (e.g. initializing a BertForSequenceClassification model from a BertForPreTraining model).\n",
            "- This IS NOT expected if you are initializing RobertaForSequenceClassification from the checkpoint of a model that you expect to be exactly identical (initializing a BertForSequenceClassification model from a BertForSequenceClassification model).\n",
            "Some weights of RobertaForSequenceClassification were not initialized from the model checkpoint at roberta-base and are newly initialized: ['classifier.dense.bias', 'classifier.out_proj.weight', 'classifier.dense.weight', 'classifier.out_proj.bias']\n",
            "You should probably TRAIN this model on a down-stream task to be able to use it for predictions and inference.\n"
          ]
        },
        {
          "name": "stdout",
          "output_type": "stream",
          "text": [
            "======== Epoch 1 / 5 ========\n",
            "Training\tLoss: 2.28\tAccuracy: 0.14\t\tTime: 0:00:09s\n",
            "Validation\tLoss: 2.19\tAccuracy: 0.21\t\tTime: 0:00:01s\n",
            "======== Epoch 2 / 5 ========\n",
            "Training\tLoss: 1.82\tAccuracy: 0.38\t\tTime: 0:00:09s\n",
            "Validation\tLoss: 1.18\tAccuracy: 0.65\t\tTime: 0:00:01s\n",
            "======== Epoch 3 / 5 ========\n",
            "Training\tLoss: 0.95\tAccuracy: 0.72\t\tTime: 0:00:09s\n",
            "Validation\tLoss: 0.71\tAccuracy: 0.79\t\tTime: 0:00:01s\n",
            "======== Epoch 4 / 5 ========\n",
            "Training\tLoss: 0.59\tAccuracy: 0.84\t\tTime: 0:00:09s\n",
            "Validation\tLoss: 0.54\tAccuracy: 0.84\t\tTime: 0:00:01s\n",
            "======== Epoch 5 / 5 ========\n",
            "Training\tLoss: 0.46\tAccuracy: 0.88\t\tTime: 0:00:09s\n",
            "Validation\tLoss: 0.51\tAccuracy: 0.85\t\tTime: 0:00:01s\n",
            "\n",
            "Total model training took 0:00:51 (h:mm:ss)\n",
            "{'checkpoint': 'roberta-base', 'learning_rate': 5e-05, 'epsilon': 1e-07, 'batch_size': 128}\n"
          ]
        },
        {
          "name": "stderr",
          "output_type": "stream",
          "text": [
            "Some weights of the model checkpoint at roberta-base were not used when initializing RobertaForSequenceClassification: ['lm_head.dense.weight', 'lm_head.layer_norm.bias', 'lm_head.dense.bias', 'roberta.pooler.dense.bias', 'lm_head.decoder.weight', 'lm_head.bias', 'roberta.pooler.dense.weight', 'lm_head.layer_norm.weight']\n",
            "- This IS expected if you are initializing RobertaForSequenceClassification from the checkpoint of a model trained on another task or with another architecture (e.g. initializing a BertForSequenceClassification model from a BertForPreTraining model).\n",
            "- This IS NOT expected if you are initializing RobertaForSequenceClassification from the checkpoint of a model that you expect to be exactly identical (initializing a BertForSequenceClassification model from a BertForSequenceClassification model).\n",
            "Some weights of RobertaForSequenceClassification were not initialized from the model checkpoint at roberta-base and are newly initialized: ['classifier.dense.bias', 'classifier.out_proj.weight', 'classifier.dense.weight', 'classifier.out_proj.bias']\n",
            "You should probably TRAIN this model on a down-stream task to be able to use it for predictions and inference.\n"
          ]
        },
        {
          "name": "stdout",
          "output_type": "stream",
          "text": [
            "======== Epoch 1 / 5 ========\n",
            "Training\tLoss: 2.29\tAccuracy: 0.13\t\tTime: 0:00:08s\n",
            "Validation\tLoss: 2.23\tAccuracy: 0.18\t\tTime: 0:00:01s\n",
            "======== Epoch 2 / 5 ========\n",
            "Training\tLoss: 2.02\tAccuracy: 0.32\t\tTime: 0:00:08s\n",
            "Validation\tLoss: 1.58\tAccuracy: 0.57\t\tTime: 0:00:01s\n",
            "======== Epoch 3 / 5 ========\n",
            "Training\tLoss: 1.27\tAccuracy: 0.65\t\tTime: 0:00:08s\n",
            "Validation\tLoss: 0.91\tAccuracy: 0.75\t\tTime: 0:00:01s\n",
            "======== Epoch 4 / 5 ========\n",
            "Training\tLoss: 0.82\tAccuracy: 0.78\t\tTime: 0:00:08s\n",
            "Validation\tLoss: 0.73\tAccuracy: 0.79\t\tTime: 0:00:01s\n",
            "======== Epoch 5 / 5 ========\n",
            "Training\tLoss: 0.67\tAccuracy: 0.81\t\tTime: 0:00:08s\n",
            "Validation\tLoss: 0.67\tAccuracy: 0.80\t\tTime: 0:00:01s\n",
            "\n",
            "Total model training took 0:00:42 (h:mm:ss)\n",
            "{'checkpoint': 'roberta-base', 'learning_rate': 5e-05, 'epsilon': 1e-08, 'batch_size': 64}\n"
          ]
        },
        {
          "name": "stderr",
          "output_type": "stream",
          "text": [
            "Some weights of the model checkpoint at roberta-base were not used when initializing RobertaForSequenceClassification: ['lm_head.dense.weight', 'lm_head.layer_norm.bias', 'lm_head.dense.bias', 'roberta.pooler.dense.bias', 'lm_head.decoder.weight', 'lm_head.bias', 'roberta.pooler.dense.weight', 'lm_head.layer_norm.weight']\n",
            "- This IS expected if you are initializing RobertaForSequenceClassification from the checkpoint of a model trained on another task or with another architecture (e.g. initializing a BertForSequenceClassification model from a BertForPreTraining model).\n",
            "- This IS NOT expected if you are initializing RobertaForSequenceClassification from the checkpoint of a model that you expect to be exactly identical (initializing a BertForSequenceClassification model from a BertForSequenceClassification model).\n",
            "Some weights of RobertaForSequenceClassification were not initialized from the model checkpoint at roberta-base and are newly initialized: ['classifier.dense.bias', 'classifier.out_proj.weight', 'classifier.dense.weight', 'classifier.out_proj.bias']\n",
            "You should probably TRAIN this model on a down-stream task to be able to use it for predictions and inference.\n"
          ]
        },
        {
          "name": "stdout",
          "output_type": "stream",
          "text": [
            "======== Epoch 1 / 5 ========\n",
            "Training\tLoss: 2.29\tAccuracy: 0.15\t\tTime: 0:00:09s\n",
            "Validation\tLoss: 2.28\tAccuracy: 0.13\t\tTime: 0:00:01s\n",
            "======== Epoch 2 / 5 ========\n",
            "Training\tLoss: 2.21\tAccuracy: 0.19\t\tTime: 0:00:10s\n",
            "Validation\tLoss: 1.97\tAccuracy: 0.29\t\tTime: 0:00:01s\n",
            "======== Epoch 3 / 5 ========\n",
            "Training\tLoss: 1.47\tAccuracy: 0.54\t\tTime: 0:00:09s\n",
            "Validation\tLoss: 0.94\tAccuracy: 0.73\t\tTime: 0:00:01s\n",
            "======== Epoch 4 / 5 ========\n",
            "Training\tLoss: 0.80\tAccuracy: 0.78\t\tTime: 0:00:09s\n",
            "Validation\tLoss: 0.69\tAccuracy: 0.79\t\tTime: 0:00:01s\n",
            "======== Epoch 5 / 5 ========\n",
            "Training\tLoss: 0.57\tAccuracy: 0.85\t\tTime: 0:00:09s\n",
            "Validation\tLoss: 0.61\tAccuracy: 0.82\t\tTime: 0:00:01s\n",
            "\n",
            "Total model training took 0:00:51 (h:mm:ss)\n",
            "{'checkpoint': 'roberta-base', 'learning_rate': 5e-05, 'epsilon': 1e-08, 'batch_size': 128}\n"
          ]
        },
        {
          "name": "stderr",
          "output_type": "stream",
          "text": [
            "Some weights of the model checkpoint at roberta-base were not used when initializing RobertaForSequenceClassification: ['lm_head.dense.weight', 'lm_head.layer_norm.bias', 'lm_head.dense.bias', 'roberta.pooler.dense.bias', 'lm_head.decoder.weight', 'lm_head.bias', 'roberta.pooler.dense.weight', 'lm_head.layer_norm.weight']\n",
            "- This IS expected if you are initializing RobertaForSequenceClassification from the checkpoint of a model trained on another task or with another architecture (e.g. initializing a BertForSequenceClassification model from a BertForPreTraining model).\n",
            "- This IS NOT expected if you are initializing RobertaForSequenceClassification from the checkpoint of a model that you expect to be exactly identical (initializing a BertForSequenceClassification model from a BertForSequenceClassification model).\n",
            "Some weights of RobertaForSequenceClassification were not initialized from the model checkpoint at roberta-base and are newly initialized: ['classifier.dense.bias', 'classifier.out_proj.weight', 'classifier.dense.weight', 'classifier.out_proj.bias']\n",
            "You should probably TRAIN this model on a down-stream task to be able to use it for predictions and inference.\n"
          ]
        },
        {
          "name": "stdout",
          "output_type": "stream",
          "text": [
            "======== Epoch 1 / 5 ========\n",
            "Training\tLoss: 2.25\tAccuracy: 0.18\t\tTime: 0:00:08s\n",
            "Validation\tLoss: 2.01\tAccuracy: 0.32\t\tTime: 0:00:01s\n",
            "======== Epoch 2 / 5 ========\n",
            "Training\tLoss: 1.71\tAccuracy: 0.46\t\tTime: 0:00:08s\n",
            "Validation\tLoss: 1.25\tAccuracy: 0.65\t\tTime: 0:00:01s\n",
            "======== Epoch 3 / 5 ========\n",
            "Training\tLoss: 1.05\tAccuracy: 0.70\t\tTime: 0:00:08s\n",
            "Validation\tLoss: 0.82\tAccuracy: 0.75\t\tTime: 0:00:01s\n",
            "======== Epoch 4 / 5 ========\n",
            "Training\tLoss: 0.73\tAccuracy: 0.80\t\tTime: 0:00:08s\n",
            "Validation\tLoss: 0.68\tAccuracy: 0.79\t\tTime: 0:00:01s\n",
            "======== Epoch 5 / 5 ========\n",
            "Training\tLoss: 0.59\tAccuracy: 0.84\t\tTime: 0:00:08s\n",
            "Validation\tLoss: 0.64\tAccuracy: 0.80\t\tTime: 0:00:01s\n",
            "\n",
            "Total model training took 0:00:42 (h:mm:ss)\n",
            "{'checkpoint': 'roberta-base', 'learning_rate': 0.0001, 'epsilon': 1e-06, 'batch_size': 64}\n"
          ]
        },
        {
          "name": "stderr",
          "output_type": "stream",
          "text": [
            "Some weights of the model checkpoint at roberta-base were not used when initializing RobertaForSequenceClassification: ['lm_head.dense.weight', 'lm_head.layer_norm.bias', 'lm_head.dense.bias', 'roberta.pooler.dense.bias', 'lm_head.decoder.weight', 'lm_head.bias', 'roberta.pooler.dense.weight', 'lm_head.layer_norm.weight']\n",
            "- This IS expected if you are initializing RobertaForSequenceClassification from the checkpoint of a model trained on another task or with another architecture (e.g. initializing a BertForSequenceClassification model from a BertForPreTraining model).\n",
            "- This IS NOT expected if you are initializing RobertaForSequenceClassification from the checkpoint of a model that you expect to be exactly identical (initializing a BertForSequenceClassification model from a BertForSequenceClassification model).\n",
            "Some weights of RobertaForSequenceClassification were not initialized from the model checkpoint at roberta-base and are newly initialized: ['classifier.dense.bias', 'classifier.out_proj.weight', 'classifier.dense.weight', 'classifier.out_proj.bias']\n",
            "You should probably TRAIN this model on a down-stream task to be able to use it for predictions and inference.\n"
          ]
        },
        {
          "name": "stdout",
          "output_type": "stream",
          "text": [
            "======== Epoch 1 / 5 ========\n",
            "Training\tLoss: 2.09\tAccuracy: 0.21\t\tTime: 0:00:09s\n",
            "Validation\tLoss: 1.69\tAccuracy: 0.37\t\tTime: 0:00:01s\n",
            "======== Epoch 2 / 5 ========\n",
            "Training\tLoss: 1.37\tAccuracy: 0.53\t\tTime: 0:00:09s\n",
            "Validation\tLoss: 0.98\tAccuracy: 0.67\t\tTime: 0:00:01s\n",
            "======== Epoch 3 / 5 ========\n",
            "Training\tLoss: 0.84\tAccuracy: 0.73\t\tTime: 0:00:09s\n",
            "Validation\tLoss: 0.77\tAccuracy: 0.75\t\tTime: 0:00:01s\n",
            "======== Epoch 4 / 5 ========\n",
            "Training\tLoss: 0.59\tAccuracy: 0.82\t\tTime: 0:00:09s\n",
            "Validation\tLoss: 0.65\tAccuracy: 0.81\t\tTime: 0:00:01s\n",
            "======== Epoch 5 / 5 ========\n",
            "Training\tLoss: 0.42\tAccuracy: 0.88\t\tTime: 0:00:09s\n",
            "Validation\tLoss: 0.60\tAccuracy: 0.83\t\tTime: 0:00:01s\n",
            "\n",
            "Total model training took 0:00:51 (h:mm:ss)\n",
            "{'checkpoint': 'roberta-base', 'learning_rate': 0.0001, 'epsilon': 1e-06, 'batch_size': 128}\n"
          ]
        },
        {
          "name": "stderr",
          "output_type": "stream",
          "text": [
            "Some weights of the model checkpoint at roberta-base were not used when initializing RobertaForSequenceClassification: ['lm_head.dense.weight', 'lm_head.layer_norm.bias', 'lm_head.dense.bias', 'roberta.pooler.dense.bias', 'lm_head.decoder.weight', 'lm_head.bias', 'roberta.pooler.dense.weight', 'lm_head.layer_norm.weight']\n",
            "- This IS expected if you are initializing RobertaForSequenceClassification from the checkpoint of a model trained on another task or with another architecture (e.g. initializing a BertForSequenceClassification model from a BertForPreTraining model).\n",
            "- This IS NOT expected if you are initializing RobertaForSequenceClassification from the checkpoint of a model that you expect to be exactly identical (initializing a BertForSequenceClassification model from a BertForSequenceClassification model).\n",
            "Some weights of RobertaForSequenceClassification were not initialized from the model checkpoint at roberta-base and are newly initialized: ['classifier.dense.bias', 'classifier.out_proj.weight', 'classifier.dense.weight', 'classifier.out_proj.bias']\n",
            "You should probably TRAIN this model on a down-stream task to be able to use it for predictions and inference.\n"
          ]
        },
        {
          "name": "stdout",
          "output_type": "stream",
          "text": [
            "======== Epoch 1 / 5 ========\n",
            "Training\tLoss: 2.27\tAccuracy: 0.14\t\tTime: 0:00:08s\n",
            "Validation\tLoss: 2.22\tAccuracy: 0.18\t\tTime: 0:00:01s\n",
            "======== Epoch 2 / 5 ========\n",
            "Training\tLoss: 1.94\tAccuracy: 0.28\t\tTime: 0:00:08s\n",
            "Validation\tLoss: 1.50\tAccuracy: 0.52\t\tTime: 0:00:01s\n",
            "======== Epoch 3 / 5 ========\n",
            "Training\tLoss: 1.22\tAccuracy: 0.62\t\tTime: 0:00:08s\n",
            "Validation\tLoss: 0.89\tAccuracy: 0.73\t\tTime: 0:00:01s\n",
            "======== Epoch 4 / 5 ========\n",
            "Training\tLoss: 0.74\tAccuracy: 0.78\t\tTime: 0:00:08s\n",
            "Validation\tLoss: 0.68\tAccuracy: 0.81\t\tTime: 0:00:01s\n",
            "======== Epoch 5 / 5 ========\n",
            "Training\tLoss: 0.54\tAccuracy: 0.85\t\tTime: 0:00:08s\n",
            "Validation\tLoss: 0.60\tAccuracy: 0.83\t\tTime: 0:00:01s\n",
            "\n",
            "Total model training took 0:00:42 (h:mm:ss)\n",
            "{'checkpoint': 'roberta-base', 'learning_rate': 0.0001, 'epsilon': 1e-07, 'batch_size': 64}\n"
          ]
        },
        {
          "name": "stderr",
          "output_type": "stream",
          "text": [
            "Some weights of the model checkpoint at roberta-base were not used when initializing RobertaForSequenceClassification: ['lm_head.dense.weight', 'lm_head.layer_norm.bias', 'lm_head.dense.bias', 'roberta.pooler.dense.bias', 'lm_head.decoder.weight', 'lm_head.bias', 'roberta.pooler.dense.weight', 'lm_head.layer_norm.weight']\n",
            "- This IS expected if you are initializing RobertaForSequenceClassification from the checkpoint of a model trained on another task or with another architecture (e.g. initializing a BertForSequenceClassification model from a BertForPreTraining model).\n",
            "- This IS NOT expected if you are initializing RobertaForSequenceClassification from the checkpoint of a model that you expect to be exactly identical (initializing a BertForSequenceClassification model from a BertForSequenceClassification model).\n",
            "Some weights of RobertaForSequenceClassification were not initialized from the model checkpoint at roberta-base and are newly initialized: ['classifier.dense.bias', 'classifier.out_proj.weight', 'classifier.dense.weight', 'classifier.out_proj.bias']\n",
            "You should probably TRAIN this model on a down-stream task to be able to use it for predictions and inference.\n"
          ]
        },
        {
          "name": "stdout",
          "output_type": "stream",
          "text": [
            "======== Epoch 1 / 5 ========\n",
            "Training\tLoss: 2.25\tAccuracy: 0.15\t\tTime: 0:00:09s\n",
            "Validation\tLoss: 2.17\tAccuracy: 0.17\t\tTime: 0:00:01s\n",
            "======== Epoch 2 / 5 ========\n",
            "Training\tLoss: 2.12\tAccuracy: 0.19\t\tTime: 0:00:09s\n",
            "Validation\tLoss: 2.00\tAccuracy: 0.25\t\tTime: 0:00:01s\n",
            "======== Epoch 3 / 5 ========\n",
            "Training\tLoss: 1.98\tAccuracy: 0.23\t\tTime: 0:00:09s\n",
            "Validation\tLoss: 1.94\tAccuracy: 0.24\t\tTime: 0:00:01s\n",
            "======== Epoch 4 / 5 ========\n",
            "Training\tLoss: 1.92\tAccuracy: 0.25\t\tTime: 0:00:09s\n",
            "Validation\tLoss: 1.91\tAccuracy: 0.27\t\tTime: 0:00:01s\n",
            "======== Epoch 5 / 5 ========\n",
            "Training\tLoss: 1.90\tAccuracy: 0.27\t\tTime: 0:00:09s\n",
            "Validation\tLoss: 1.95\tAccuracy: 0.26\t\tTime: 0:00:01s\n",
            "\n",
            "Total model training took 0:00:51 (h:mm:ss)\n",
            "{'checkpoint': 'roberta-base', 'learning_rate': 0.0001, 'epsilon': 1e-07, 'batch_size': 128}\n"
          ]
        },
        {
          "name": "stderr",
          "output_type": "stream",
          "text": [
            "Some weights of the model checkpoint at roberta-base were not used when initializing RobertaForSequenceClassification: ['lm_head.dense.weight', 'lm_head.layer_norm.bias', 'lm_head.dense.bias', 'roberta.pooler.dense.bias', 'lm_head.decoder.weight', 'lm_head.bias', 'roberta.pooler.dense.weight', 'lm_head.layer_norm.weight']\n",
            "- This IS expected if you are initializing RobertaForSequenceClassification from the checkpoint of a model trained on another task or with another architecture (e.g. initializing a BertForSequenceClassification model from a BertForPreTraining model).\n",
            "- This IS NOT expected if you are initializing RobertaForSequenceClassification from the checkpoint of a model that you expect to be exactly identical (initializing a BertForSequenceClassification model from a BertForSequenceClassification model).\n",
            "Some weights of RobertaForSequenceClassification were not initialized from the model checkpoint at roberta-base and are newly initialized: ['classifier.dense.bias', 'classifier.out_proj.weight', 'classifier.dense.weight', 'classifier.out_proj.bias']\n",
            "You should probably TRAIN this model on a down-stream task to be able to use it for predictions and inference.\n"
          ]
        },
        {
          "name": "stdout",
          "output_type": "stream",
          "text": [
            "======== Epoch 1 / 5 ========\n",
            "Training\tLoss: 2.29\tAccuracy: 0.14\t\tTime: 0:00:08s\n",
            "Validation\tLoss: 2.28\tAccuracy: 0.15\t\tTime: 0:00:01s\n",
            "======== Epoch 2 / 5 ========\n",
            "Training\tLoss: 2.22\tAccuracy: 0.17\t\tTime: 0:00:08s\n",
            "Validation\tLoss: 2.13\tAccuracy: 0.19\t\tTime: 0:00:01s\n",
            "======== Epoch 3 / 5 ========\n",
            "Training\tLoss: 2.06\tAccuracy: 0.19\t\tTime: 0:00:07s\n",
            "Validation\tLoss: 2.00\tAccuracy: 0.21\t\tTime: 0:00:01s\n",
            "======== Epoch 4 / 5 ========\n",
            "Training\tLoss: 1.96\tAccuracy: 0.20\t\tTime: 0:00:07s\n",
            "Validation\tLoss: 1.95\tAccuracy: 0.21\t\tTime: 0:00:01s\n",
            "======== Epoch 5 / 5 ========\n",
            "Training\tLoss: 1.92\tAccuracy: 0.23\t\tTime: 0:00:08s\n",
            "Validation\tLoss: 1.91\tAccuracy: 0.24\t\tTime: 0:00:01s\n",
            "\n",
            "Total model training took 0:00:42 (h:mm:ss)\n",
            "{'checkpoint': 'roberta-base', 'learning_rate': 0.0001, 'epsilon': 1e-08, 'batch_size': 64}\n"
          ]
        },
        {
          "name": "stderr",
          "output_type": "stream",
          "text": [
            "Some weights of the model checkpoint at roberta-base were not used when initializing RobertaForSequenceClassification: ['lm_head.dense.weight', 'lm_head.layer_norm.bias', 'lm_head.dense.bias', 'roberta.pooler.dense.bias', 'lm_head.decoder.weight', 'lm_head.bias', 'roberta.pooler.dense.weight', 'lm_head.layer_norm.weight']\n",
            "- This IS expected if you are initializing RobertaForSequenceClassification from the checkpoint of a model trained on another task or with another architecture (e.g. initializing a BertForSequenceClassification model from a BertForPreTraining model).\n",
            "- This IS NOT expected if you are initializing RobertaForSequenceClassification from the checkpoint of a model that you expect to be exactly identical (initializing a BertForSequenceClassification model from a BertForSequenceClassification model).\n",
            "Some weights of RobertaForSequenceClassification were not initialized from the model checkpoint at roberta-base and are newly initialized: ['classifier.dense.bias', 'classifier.out_proj.weight', 'classifier.dense.weight', 'classifier.out_proj.bias']\n",
            "You should probably TRAIN this model on a down-stream task to be able to use it for predictions and inference.\n"
          ]
        },
        {
          "name": "stdout",
          "output_type": "stream",
          "text": [
            "======== Epoch 1 / 5 ========\n",
            "Training\tLoss: 2.31\tAccuracy: 0.12\t\tTime: 0:00:09s\n",
            "Validation\tLoss: 2.27\tAccuracy: 0.15\t\tTime: 0:00:01s\n",
            "======== Epoch 2 / 5 ========\n",
            "Training\tLoss: 2.07\tAccuracy: 0.23\t\tTime: 0:00:09s\n",
            "Validation\tLoss: 1.68\tAccuracy: 0.37\t\tTime: 0:00:01s\n",
            "======== Epoch 3 / 5 ========\n",
            "Training\tLoss: 1.47\tAccuracy: 0.43\t\tTime: 0:00:09s\n",
            "Validation\tLoss: 1.25\tAccuracy: 0.50\t\tTime: 0:00:01s\n",
            "======== Epoch 4 / 5 ========\n",
            "Training\tLoss: 1.08\tAccuracy: 0.57\t\tTime: 0:00:09s\n",
            "Validation\tLoss: 1.11\tAccuracy: 0.60\t\tTime: 0:00:01s\n",
            "======== Epoch 5 / 5 ========\n",
            "Training\tLoss: 0.86\tAccuracy: 0.66\t\tTime: 0:00:09s\n",
            "Validation\tLoss: 0.99\tAccuracy: 0.65\t\tTime: 0:00:01s\n",
            "\n",
            "Total model training took 0:00:51 (h:mm:ss)\n",
            "{'checkpoint': 'roberta-base', 'learning_rate': 0.0001, 'epsilon': 1e-08, 'batch_size': 128}\n"
          ]
        },
        {
          "name": "stderr",
          "output_type": "stream",
          "text": [
            "Some weights of the model checkpoint at roberta-base were not used when initializing RobertaForSequenceClassification: ['lm_head.dense.weight', 'lm_head.layer_norm.bias', 'lm_head.dense.bias', 'roberta.pooler.dense.bias', 'lm_head.decoder.weight', 'lm_head.bias', 'roberta.pooler.dense.weight', 'lm_head.layer_norm.weight']\n",
            "- This IS expected if you are initializing RobertaForSequenceClassification from the checkpoint of a model trained on another task or with another architecture (e.g. initializing a BertForSequenceClassification model from a BertForPreTraining model).\n",
            "- This IS NOT expected if you are initializing RobertaForSequenceClassification from the checkpoint of a model that you expect to be exactly identical (initializing a BertForSequenceClassification model from a BertForSequenceClassification model).\n",
            "Some weights of RobertaForSequenceClassification were not initialized from the model checkpoint at roberta-base and are newly initialized: ['classifier.dense.bias', 'classifier.out_proj.weight', 'classifier.dense.weight', 'classifier.out_proj.bias']\n",
            "You should probably TRAIN this model on a down-stream task to be able to use it for predictions and inference.\n"
          ]
        },
        {
          "name": "stdout",
          "output_type": "stream",
          "text": [
            "======== Epoch 1 / 5 ========\n",
            "Training\tLoss: 2.30\tAccuracy: 0.12\t\tTime: 0:00:08s\n",
            "Validation\tLoss: 2.30\tAccuracy: 0.13\t\tTime: 0:00:01s\n",
            "======== Epoch 2 / 5 ========\n",
            "Training\tLoss: 2.28\tAccuracy: 0.16\t\tTime: 0:00:08s\n",
            "Validation\tLoss: 2.22\tAccuracy: 0.20\t\tTime: 0:00:01s\n",
            "======== Epoch 3 / 5 ========\n",
            "Training\tLoss: 2.05\tAccuracy: 0.26\t\tTime: 0:00:08s\n",
            "Validation\tLoss: 1.81\tAccuracy: 0.34\t\tTime: 0:00:01s\n",
            "======== Epoch 4 / 5 ========\n",
            "Training\tLoss: 1.62\tAccuracy: 0.42\t\tTime: 0:00:08s\n",
            "Validation\tLoss: 1.41\tAccuracy: 0.50\t\tTime: 0:00:01s\n",
            "======== Epoch 5 / 5 ========\n",
            "Training\tLoss: 1.30\tAccuracy: 0.55\t\tTime: 0:00:07s\n",
            "Validation\tLoss: 1.24\tAccuracy: 0.59\t\tTime: 0:00:01s\n",
            "\n",
            "Total model training took 0:00:42 (h:mm:ss)\n",
            "{'checkpoint': 'roberta-base', 'learning_rate': 0.0005, 'epsilon': 1e-06, 'batch_size': 64}\n"
          ]
        },
        {
          "name": "stderr",
          "output_type": "stream",
          "text": [
            "Some weights of the model checkpoint at roberta-base were not used when initializing RobertaForSequenceClassification: ['lm_head.dense.weight', 'lm_head.layer_norm.bias', 'lm_head.dense.bias', 'roberta.pooler.dense.bias', 'lm_head.decoder.weight', 'lm_head.bias', 'roberta.pooler.dense.weight', 'lm_head.layer_norm.weight']\n",
            "- This IS expected if you are initializing RobertaForSequenceClassification from the checkpoint of a model trained on another task or with another architecture (e.g. initializing a BertForSequenceClassification model from a BertForPreTraining model).\n",
            "- This IS NOT expected if you are initializing RobertaForSequenceClassification from the checkpoint of a model that you expect to be exactly identical (initializing a BertForSequenceClassification model from a BertForSequenceClassification model).\n",
            "Some weights of RobertaForSequenceClassification were not initialized from the model checkpoint at roberta-base and are newly initialized: ['classifier.dense.bias', 'classifier.out_proj.weight', 'classifier.dense.weight', 'classifier.out_proj.bias']\n",
            "You should probably TRAIN this model on a down-stream task to be able to use it for predictions and inference.\n"
          ]
        },
        {
          "name": "stdout",
          "output_type": "stream",
          "text": [
            "======== Epoch 1 / 5 ========\n",
            "Training\tLoss: 2.32\tAccuracy: 0.12\t\tTime: 0:00:09s\n",
            "Validation\tLoss: 2.30\tAccuracy: 0.13\t\tTime: 0:00:01s\n",
            "======== Epoch 2 / 5 ========\n",
            "Training\tLoss: 2.30\tAccuracy: 0.12\t\tTime: 0:00:09s\n",
            "Validation\tLoss: 2.30\tAccuracy: 0.12\t\tTime: 0:00:01s\n",
            "======== Epoch 3 / 5 ========\n",
            "Training\tLoss: 2.30\tAccuracy: 0.11\t\tTime: 0:00:10s\n",
            "Validation\tLoss: 2.29\tAccuracy: 0.12\t\tTime: 0:00:01s\n",
            "======== Epoch 4 / 5 ========\n",
            "Training\tLoss: 2.29\tAccuracy: 0.13\t\tTime: 0:00:09s\n",
            "Validation\tLoss: 2.30\tAccuracy: 0.12\t\tTime: 0:00:01s\n",
            "======== Epoch 5 / 5 ========\n",
            "Training\tLoss: 2.29\tAccuracy: 0.13\t\tTime: 0:00:09s\n",
            "Validation\tLoss: 2.29\tAccuracy: 0.13\t\tTime: 0:00:01s\n",
            "\n",
            "Total model training took 0:00:51 (h:mm:ss)\n",
            "{'checkpoint': 'roberta-base', 'learning_rate': 0.0005, 'epsilon': 1e-06, 'batch_size': 128}\n"
          ]
        },
        {
          "name": "stderr",
          "output_type": "stream",
          "text": [
            "Some weights of the model checkpoint at roberta-base were not used when initializing RobertaForSequenceClassification: ['lm_head.dense.weight', 'lm_head.layer_norm.bias', 'lm_head.dense.bias', 'roberta.pooler.dense.bias', 'lm_head.decoder.weight', 'lm_head.bias', 'roberta.pooler.dense.weight', 'lm_head.layer_norm.weight']\n",
            "- This IS expected if you are initializing RobertaForSequenceClassification from the checkpoint of a model trained on another task or with another architecture (e.g. initializing a BertForSequenceClassification model from a BertForPreTraining model).\n",
            "- This IS NOT expected if you are initializing RobertaForSequenceClassification from the checkpoint of a model that you expect to be exactly identical (initializing a BertForSequenceClassification model from a BertForSequenceClassification model).\n",
            "Some weights of RobertaForSequenceClassification were not initialized from the model checkpoint at roberta-base and are newly initialized: ['classifier.dense.bias', 'classifier.out_proj.weight', 'classifier.dense.weight', 'classifier.out_proj.bias']\n",
            "You should probably TRAIN this model on a down-stream task to be able to use it for predictions and inference.\n"
          ]
        },
        {
          "name": "stdout",
          "output_type": "stream",
          "text": [
            "======== Epoch 1 / 5 ========\n",
            "Training\tLoss: 2.32\tAccuracy: 0.12\t\tTime: 0:00:08s\n",
            "Validation\tLoss: 2.30\tAccuracy: 0.13\t\tTime: 0:00:01s\n",
            "======== Epoch 2 / 5 ========\n",
            "Training\tLoss: 2.31\tAccuracy: 0.10\t\tTime: 0:00:08s\n",
            "Validation\tLoss: 2.31\tAccuracy: 0.10\t\tTime: 0:00:01s\n",
            "======== Epoch 3 / 5 ========\n",
            "Training\tLoss: 2.30\tAccuracy: 0.12\t\tTime: 0:00:07s\n",
            "Validation\tLoss: 2.29\tAccuracy: 0.12\t\tTime: 0:00:01s\n",
            "======== Epoch 4 / 5 ========\n",
            "Training\tLoss: 2.31\tAccuracy: 0.12\t\tTime: 0:00:08s\n",
            "Validation\tLoss: 2.30\tAccuracy: 0.13\t\tTime: 0:00:01s\n",
            "======== Epoch 5 / 5 ========\n",
            "Training\tLoss: 2.29\tAccuracy: 0.15\t\tTime: 0:00:08s\n",
            "Validation\tLoss: 2.25\tAccuracy: 0.20\t\tTime: 0:00:01s\n",
            "\n",
            "Total model training took 0:00:42 (h:mm:ss)\n",
            "{'checkpoint': 'roberta-base', 'learning_rate': 0.0005, 'epsilon': 1e-07, 'batch_size': 64}\n"
          ]
        },
        {
          "name": "stderr",
          "output_type": "stream",
          "text": [
            "Some weights of the model checkpoint at roberta-base were not used when initializing RobertaForSequenceClassification: ['lm_head.dense.weight', 'lm_head.layer_norm.bias', 'lm_head.dense.bias', 'roberta.pooler.dense.bias', 'lm_head.decoder.weight', 'lm_head.bias', 'roberta.pooler.dense.weight', 'lm_head.layer_norm.weight']\n",
            "- This IS expected if you are initializing RobertaForSequenceClassification from the checkpoint of a model trained on another task or with another architecture (e.g. initializing a BertForSequenceClassification model from a BertForPreTraining model).\n",
            "- This IS NOT expected if you are initializing RobertaForSequenceClassification from the checkpoint of a model that you expect to be exactly identical (initializing a BertForSequenceClassification model from a BertForSequenceClassification model).\n",
            "Some weights of RobertaForSequenceClassification were not initialized from the model checkpoint at roberta-base and are newly initialized: ['classifier.dense.bias', 'classifier.out_proj.weight', 'classifier.dense.weight', 'classifier.out_proj.bias']\n",
            "You should probably TRAIN this model on a down-stream task to be able to use it for predictions and inference.\n"
          ]
        },
        {
          "name": "stdout",
          "output_type": "stream",
          "text": [
            "======== Epoch 1 / 5 ========\n",
            "Training\tLoss: 2.32\tAccuracy: 0.12\t\tTime: 0:00:09s\n",
            "Validation\tLoss: 2.31\tAccuracy: 0.12\t\tTime: 0:00:01s\n",
            "======== Epoch 2 / 5 ========\n",
            "Training\tLoss: 2.31\tAccuracy: 0.12\t\tTime: 0:00:09s\n",
            "Validation\tLoss: 2.30\tAccuracy: 0.13\t\tTime: 0:00:01s\n",
            "======== Epoch 3 / 5 ========\n",
            "Training\tLoss: 2.30\tAccuracy: 0.12\t\tTime: 0:00:09s\n",
            "Validation\tLoss: 2.31\tAccuracy: 0.12\t\tTime: 0:00:01s\n",
            "======== Epoch 4 / 5 ========\n",
            "Training\tLoss: 2.30\tAccuracy: 0.12\t\tTime: 0:00:09s\n",
            "Validation\tLoss: 2.30\tAccuracy: 0.13\t\tTime: 0:00:01s\n",
            "======== Epoch 5 / 5 ========\n",
            "Training\tLoss: 2.30\tAccuracy: 0.12\t\tTime: 0:00:09s\n",
            "Validation\tLoss: 2.29\tAccuracy: 0.13\t\tTime: 0:00:01s\n",
            "\n",
            "Total model training took 0:00:51 (h:mm:ss)\n",
            "{'checkpoint': 'roberta-base', 'learning_rate': 0.0005, 'epsilon': 1e-07, 'batch_size': 128}\n"
          ]
        },
        {
          "name": "stderr",
          "output_type": "stream",
          "text": [
            "Some weights of the model checkpoint at roberta-base were not used when initializing RobertaForSequenceClassification: ['lm_head.dense.weight', 'lm_head.layer_norm.bias', 'lm_head.dense.bias', 'roberta.pooler.dense.bias', 'lm_head.decoder.weight', 'lm_head.bias', 'roberta.pooler.dense.weight', 'lm_head.layer_norm.weight']\n",
            "- This IS expected if you are initializing RobertaForSequenceClassification from the checkpoint of a model trained on another task or with another architecture (e.g. initializing a BertForSequenceClassification model from a BertForPreTraining model).\n",
            "- This IS NOT expected if you are initializing RobertaForSequenceClassification from the checkpoint of a model that you expect to be exactly identical (initializing a BertForSequenceClassification model from a BertForSequenceClassification model).\n",
            "Some weights of RobertaForSequenceClassification were not initialized from the model checkpoint at roberta-base and are newly initialized: ['classifier.dense.bias', 'classifier.out_proj.weight', 'classifier.dense.weight', 'classifier.out_proj.bias']\n",
            "You should probably TRAIN this model on a down-stream task to be able to use it for predictions and inference.\n"
          ]
        },
        {
          "name": "stdout",
          "output_type": "stream",
          "text": [
            "======== Epoch 1 / 5 ========\n",
            "Training\tLoss: 2.32\tAccuracy: 0.11\t\tTime: 0:00:08s\n",
            "Validation\tLoss: 2.31\tAccuracy: 0.10\t\tTime: 0:00:01s\n",
            "======== Epoch 2 / 5 ========\n",
            "Training\tLoss: 2.31\tAccuracy: 0.11\t\tTime: 0:00:08s\n",
            "Validation\tLoss: 2.30\tAccuracy: 0.12\t\tTime: 0:00:01s\n",
            "======== Epoch 3 / 5 ========\n",
            "Training\tLoss: 2.31\tAccuracy: 0.11\t\tTime: 0:00:08s\n",
            "Validation\tLoss: 2.30\tAccuracy: 0.12\t\tTime: 0:00:01s\n",
            "======== Epoch 4 / 5 ========\n",
            "Training\tLoss: 2.30\tAccuracy: 0.13\t\tTime: 0:00:08s\n",
            "Validation\tLoss: 2.29\tAccuracy: 0.13\t\tTime: 0:00:01s\n",
            "======== Epoch 5 / 5 ========\n",
            "Training\tLoss: 2.30\tAccuracy: 0.13\t\tTime: 0:00:08s\n",
            "Validation\tLoss: 2.29\tAccuracy: 0.13\t\tTime: 0:00:01s\n",
            "\n",
            "Total model training took 0:00:42 (h:mm:ss)\n",
            "{'checkpoint': 'roberta-base', 'learning_rate': 0.0005, 'epsilon': 1e-08, 'batch_size': 64}\n"
          ]
        },
        {
          "name": "stderr",
          "output_type": "stream",
          "text": [
            "Some weights of the model checkpoint at roberta-base were not used when initializing RobertaForSequenceClassification: ['lm_head.dense.weight', 'lm_head.layer_norm.bias', 'lm_head.dense.bias', 'roberta.pooler.dense.bias', 'lm_head.decoder.weight', 'lm_head.bias', 'roberta.pooler.dense.weight', 'lm_head.layer_norm.weight']\n",
            "- This IS expected if you are initializing RobertaForSequenceClassification from the checkpoint of a model trained on another task or with another architecture (e.g. initializing a BertForSequenceClassification model from a BertForPreTraining model).\n",
            "- This IS NOT expected if you are initializing RobertaForSequenceClassification from the checkpoint of a model that you expect to be exactly identical (initializing a BertForSequenceClassification model from a BertForSequenceClassification model).\n",
            "Some weights of RobertaForSequenceClassification were not initialized from the model checkpoint at roberta-base and are newly initialized: ['classifier.dense.bias', 'classifier.out_proj.weight', 'classifier.dense.weight', 'classifier.out_proj.bias']\n",
            "You should probably TRAIN this model on a down-stream task to be able to use it for predictions and inference.\n"
          ]
        },
        {
          "name": "stdout",
          "output_type": "stream",
          "text": [
            "======== Epoch 1 / 5 ========\n",
            "Training\tLoss: 2.34\tAccuracy: 0.11\t\tTime: 0:00:09s\n",
            "Validation\tLoss: 2.31\tAccuracy: 0.10\t\tTime: 0:00:01s\n",
            "======== Epoch 2 / 5 ========\n",
            "Training\tLoss: 2.31\tAccuracy: 0.11\t\tTime: 0:00:09s\n",
            "Validation\tLoss: 2.30\tAccuracy: 0.10\t\tTime: 0:00:01s\n",
            "======== Epoch 3 / 5 ========\n",
            "Training\tLoss: 2.31\tAccuracy: 0.12\t\tTime: 0:00:09s\n",
            "Validation\tLoss: 2.30\tAccuracy: 0.13\t\tTime: 0:00:01s\n",
            "======== Epoch 4 / 5 ========\n",
            "Training\tLoss: 2.30\tAccuracy: 0.11\t\tTime: 0:00:09s\n",
            "Validation\tLoss: 2.29\tAccuracy: 0.13\t\tTime: 0:00:01s\n",
            "======== Epoch 5 / 5 ========\n",
            "Training\tLoss: 2.30\tAccuracy: 0.13\t\tTime: 0:00:10s\n",
            "Validation\tLoss: 2.29\tAccuracy: 0.13\t\tTime: 0:00:01s\n",
            "\n",
            "Total model training took 0:00:51 (h:mm:ss)\n",
            "{'checkpoint': 'roberta-base', 'learning_rate': 0.0005, 'epsilon': 1e-08, 'batch_size': 128}\n"
          ]
        },
        {
          "name": "stderr",
          "output_type": "stream",
          "text": [
            "Some weights of the model checkpoint at roberta-base were not used when initializing RobertaForSequenceClassification: ['lm_head.dense.weight', 'lm_head.layer_norm.bias', 'lm_head.dense.bias', 'roberta.pooler.dense.bias', 'lm_head.decoder.weight', 'lm_head.bias', 'roberta.pooler.dense.weight', 'lm_head.layer_norm.weight']\n",
            "- This IS expected if you are initializing RobertaForSequenceClassification from the checkpoint of a model trained on another task or with another architecture (e.g. initializing a BertForSequenceClassification model from a BertForPreTraining model).\n",
            "- This IS NOT expected if you are initializing RobertaForSequenceClassification from the checkpoint of a model that you expect to be exactly identical (initializing a BertForSequenceClassification model from a BertForSequenceClassification model).\n",
            "Some weights of RobertaForSequenceClassification were not initialized from the model checkpoint at roberta-base and are newly initialized: ['classifier.dense.bias', 'classifier.out_proj.weight', 'classifier.dense.weight', 'classifier.out_proj.bias']\n",
            "You should probably TRAIN this model on a down-stream task to be able to use it for predictions and inference.\n"
          ]
        },
        {
          "name": "stdout",
          "output_type": "stream",
          "text": [
            "======== Epoch 1 / 5 ========\n",
            "Training\tLoss: 2.32\tAccuracy: 0.11\t\tTime: 0:00:07s\n",
            "Validation\tLoss: 2.29\tAccuracy: 0.10\t\tTime: 0:00:01s\n",
            "======== Epoch 2 / 5 ========\n",
            "Training\tLoss: 2.30\tAccuracy: 0.12\t\tTime: 0:00:08s\n",
            "Validation\tLoss: 2.29\tAccuracy: 0.14\t\tTime: 0:00:01s\n",
            "======== Epoch 3 / 5 ========\n",
            "Training\tLoss: 2.27\tAccuracy: 0.15\t\tTime: 0:00:08s\n",
            "Validation\tLoss: 2.29\tAccuracy: 0.13\t\tTime: 0:00:01s\n",
            "======== Epoch 4 / 5 ========\n",
            "Training\tLoss: 2.27\tAccuracy: 0.13\t\tTime: 0:00:07s\n",
            "Validation\tLoss: 2.27\tAccuracy: 0.13\t\tTime: 0:00:01s\n",
            "======== Epoch 5 / 5 ========\n",
            "Training\tLoss: 2.27\tAccuracy: 0.13\t\tTime: 0:00:08s\n",
            "Validation\tLoss: 2.27\tAccuracy: 0.13\t\tTime: 0:00:01s\n",
            "\n",
            "Total model training took 0:00:42 (h:mm:ss)\n",
            "{'checkpoint': 'distilbert-base-uncased', 'learning_rate': 1e-05, 'epsilon': 1e-06, 'batch_size': 64}\n"
          ]
        },
        {
          "name": "stderr",
          "output_type": "stream",
          "text": [
            "Some weights of the model checkpoint at distilbert-base-uncased were not used when initializing DistilBertForSequenceClassification: ['vocab_transform.weight', 'vocab_projector.weight', 'vocab_projector.bias', 'vocab_layer_norm.weight', 'vocab_layer_norm.bias', 'vocab_transform.bias']\n",
            "- This IS expected if you are initializing DistilBertForSequenceClassification from the checkpoint of a model trained on another task or with another architecture (e.g. initializing a BertForSequenceClassification model from a BertForPreTraining model).\n",
            "- This IS NOT expected if you are initializing DistilBertForSequenceClassification from the checkpoint of a model that you expect to be exactly identical (initializing a BertForSequenceClassification model from a BertForSequenceClassification model).\n",
            "Some weights of DistilBertForSequenceClassification were not initialized from the model checkpoint at distilbert-base-uncased and are newly initialized: ['classifier.weight', 'pre_classifier.bias', 'pre_classifier.weight', 'classifier.bias']\n",
            "You should probably TRAIN this model on a down-stream task to be able to use it for predictions and inference.\n"
          ]
        },
        {
          "name": "stdout",
          "output_type": "stream",
          "text": [
            "======== Epoch 1 / 5 ========\n",
            "Training\tLoss: 2.25\tAccuracy: 0.25\t\tTime: 0:00:05s\n",
            "Validation\tLoss: 2.12\tAccuracy: 0.41\t\tTime: 0:00:00s\n",
            "======== Epoch 2 / 5 ========\n",
            "Training\tLoss: 1.97\tAccuracy: 0.51\t\tTime: 0:00:05s\n",
            "Validation\tLoss: 1.78\tAccuracy: 0.60\t\tTime: 0:00:00s\n",
            "======== Epoch 3 / 5 ========\n",
            "Training\tLoss: 1.67\tAccuracy: 0.64\t\tTime: 0:00:05s\n",
            "Validation\tLoss: 1.53\tAccuracy: 0.69\t\tTime: 0:00:00s\n",
            "======== Epoch 4 / 5 ========\n",
            "Training\tLoss: 1.46\tAccuracy: 0.71\t\tTime: 0:00:05s\n",
            "Validation\tLoss: 1.38\tAccuracy: 0.72\t\tTime: 0:00:00s\n",
            "======== Epoch 5 / 5 ========\n",
            "Training\tLoss: 1.37\tAccuracy: 0.74\t\tTime: 0:00:05s\n",
            "Validation\tLoss: 1.34\tAccuracy: 0.72\t\tTime: 0:00:00s\n",
            "\n",
            "Total model training took 0:00:26 (h:mm:ss)\n",
            "{'checkpoint': 'distilbert-base-uncased', 'learning_rate': 1e-05, 'epsilon': 1e-06, 'batch_size': 128}\n"
          ]
        },
        {
          "name": "stderr",
          "output_type": "stream",
          "text": [
            "Some weights of the model checkpoint at distilbert-base-uncased were not used when initializing DistilBertForSequenceClassification: ['vocab_transform.weight', 'vocab_projector.weight', 'vocab_projector.bias', 'vocab_layer_norm.weight', 'vocab_layer_norm.bias', 'vocab_transform.bias']\n",
            "- This IS expected if you are initializing DistilBertForSequenceClassification from the checkpoint of a model trained on another task or with another architecture (e.g. initializing a BertForSequenceClassification model from a BertForPreTraining model).\n",
            "- This IS NOT expected if you are initializing DistilBertForSequenceClassification from the checkpoint of a model that you expect to be exactly identical (initializing a BertForSequenceClassification model from a BertForSequenceClassification model).\n",
            "Some weights of DistilBertForSequenceClassification were not initialized from the model checkpoint at distilbert-base-uncased and are newly initialized: ['classifier.weight', 'pre_classifier.bias', 'pre_classifier.weight', 'classifier.bias']\n",
            "You should probably TRAIN this model on a down-stream task to be able to use it for predictions and inference.\n"
          ]
        },
        {
          "name": "stdout",
          "output_type": "stream",
          "text": [
            "======== Epoch 1 / 5 ========\n",
            "Training\tLoss: 2.27\tAccuracy: 0.15\t\tTime: 0:00:04s\n",
            "Validation\tLoss: 2.23\tAccuracy: 0.17\t\tTime: 0:00:00s\n",
            "======== Epoch 2 / 5 ========\n",
            "Training\tLoss: 2.18\tAccuracy: 0.27\t\tTime: 0:00:04s\n",
            "Validation\tLoss: 2.09\tAccuracy: 0.39\t\tTime: 0:00:00s\n",
            "======== Epoch 3 / 5 ========\n",
            "Training\tLoss: 2.04\tAccuracy: 0.47\t\tTime: 0:00:04s\n",
            "Validation\tLoss: 1.95\tAccuracy: 0.58\t\tTime: 0:00:00s\n",
            "======== Epoch 4 / 5 ========\n",
            "Training\tLoss: 1.92\tAccuracy: 0.58\t\tTime: 0:00:04s\n",
            "Validation\tLoss: 1.86\tAccuracy: 0.65\t\tTime: 0:00:00s\n",
            "======== Epoch 5 / 5 ========\n",
            "Training\tLoss: 1.86\tAccuracy: 0.63\t\tTime: 0:00:04s\n",
            "Validation\tLoss: 1.82\tAccuracy: 0.66\t\tTime: 0:00:00s\n",
            "\n",
            "Total model training took 0:00:21 (h:mm:ss)\n",
            "{'checkpoint': 'distilbert-base-uncased', 'learning_rate': 1e-05, 'epsilon': 1e-07, 'batch_size': 64}\n"
          ]
        },
        {
          "name": "stderr",
          "output_type": "stream",
          "text": [
            "Some weights of the model checkpoint at distilbert-base-uncased were not used when initializing DistilBertForSequenceClassification: ['vocab_transform.weight', 'vocab_projector.weight', 'vocab_projector.bias', 'vocab_layer_norm.weight', 'vocab_layer_norm.bias', 'vocab_transform.bias']\n",
            "- This IS expected if you are initializing DistilBertForSequenceClassification from the checkpoint of a model trained on another task or with another architecture (e.g. initializing a BertForSequenceClassification model from a BertForPreTraining model).\n",
            "- This IS NOT expected if you are initializing DistilBertForSequenceClassification from the checkpoint of a model that you expect to be exactly identical (initializing a BertForSequenceClassification model from a BertForSequenceClassification model).\n",
            "Some weights of DistilBertForSequenceClassification were not initialized from the model checkpoint at distilbert-base-uncased and are newly initialized: ['classifier.weight', 'pre_classifier.bias', 'pre_classifier.weight', 'classifier.bias']\n",
            "You should probably TRAIN this model on a down-stream task to be able to use it for predictions and inference.\n"
          ]
        },
        {
          "name": "stdout",
          "output_type": "stream",
          "text": [
            "======== Epoch 1 / 5 ========\n",
            "Training\tLoss: 2.23\tAccuracy: 0.26\t\tTime: 0:00:05s\n",
            "Validation\tLoss: 2.08\tAccuracy: 0.56\t\tTime: 0:00:00s\n",
            "======== Epoch 2 / 5 ========\n",
            "Training\tLoss: 1.92\tAccuracy: 0.62\t\tTime: 0:00:05s\n",
            "Validation\tLoss: 1.70\tAccuracy: 0.69\t\tTime: 0:00:00s\n",
            "======== Epoch 3 / 5 ========\n",
            "Training\tLoss: 1.58\tAccuracy: 0.71\t\tTime: 0:00:05s\n",
            "Validation\tLoss: 1.43\tAccuracy: 0.72\t\tTime: 0:00:00s\n",
            "======== Epoch 4 / 5 ========\n",
            "Training\tLoss: 1.37\tAccuracy: 0.75\t\tTime: 0:00:05s\n",
            "Validation\tLoss: 1.29\tAccuracy: 0.74\t\tTime: 0:00:00s\n",
            "======== Epoch 5 / 5 ========\n",
            "Training\tLoss: 1.27\tAccuracy: 0.78\t\tTime: 0:00:05s\n",
            "Validation\tLoss: 1.24\tAccuracy: 0.75\t\tTime: 0:00:00s\n",
            "\n",
            "Total model training took 0:00:26 (h:mm:ss)\n",
            "{'checkpoint': 'distilbert-base-uncased', 'learning_rate': 1e-05, 'epsilon': 1e-07, 'batch_size': 128}\n"
          ]
        },
        {
          "name": "stderr",
          "output_type": "stream",
          "text": [
            "Some weights of the model checkpoint at distilbert-base-uncased were not used when initializing DistilBertForSequenceClassification: ['vocab_transform.weight', 'vocab_projector.weight', 'vocab_projector.bias', 'vocab_layer_norm.weight', 'vocab_layer_norm.bias', 'vocab_transform.bias']\n",
            "- This IS expected if you are initializing DistilBertForSequenceClassification from the checkpoint of a model trained on another task or with another architecture (e.g. initializing a BertForSequenceClassification model from a BertForPreTraining model).\n",
            "- This IS NOT expected if you are initializing DistilBertForSequenceClassification from the checkpoint of a model that you expect to be exactly identical (initializing a BertForSequenceClassification model from a BertForSequenceClassification model).\n",
            "Some weights of DistilBertForSequenceClassification were not initialized from the model checkpoint at distilbert-base-uncased and are newly initialized: ['classifier.weight', 'pre_classifier.bias', 'pre_classifier.weight', 'classifier.bias']\n",
            "You should probably TRAIN this model on a down-stream task to be able to use it for predictions and inference.\n"
          ]
        },
        {
          "name": "stdout",
          "output_type": "stream",
          "text": [
            "======== Epoch 1 / 5 ========\n",
            "Training\tLoss: 2.28\tAccuracy: 0.18\t\tTime: 0:00:04s\n",
            "Validation\tLoss: 2.23\tAccuracy: 0.34\t\tTime: 0:00:00s\n",
            "======== Epoch 2 / 5 ========\n",
            "Training\tLoss: 2.17\tAccuracy: 0.38\t\tTime: 0:00:04s\n",
            "Validation\tLoss: 2.08\tAccuracy: 0.52\t\tTime: 0:00:00s\n",
            "======== Epoch 3 / 5 ========\n",
            "Training\tLoss: 2.02\tAccuracy: 0.51\t\tTime: 0:00:04s\n",
            "Validation\tLoss: 1.93\tAccuracy: 0.59\t\tTime: 0:00:00s\n",
            "======== Epoch 4 / 5 ========\n",
            "Training\tLoss: 1.89\tAccuracy: 0.60\t\tTime: 0:00:04s\n",
            "Validation\tLoss: 1.83\tAccuracy: 0.64\t\tTime: 0:00:00s\n",
            "======== Epoch 5 / 5 ========\n",
            "Training\tLoss: 1.82\tAccuracy: 0.64\t\tTime: 0:00:04s\n",
            "Validation\tLoss: 1.79\tAccuracy: 0.66\t\tTime: 0:00:00s\n",
            "\n",
            "Total model training took 0:00:21 (h:mm:ss)\n",
            "{'checkpoint': 'distilbert-base-uncased', 'learning_rate': 1e-05, 'epsilon': 1e-08, 'batch_size': 64}\n"
          ]
        },
        {
          "name": "stderr",
          "output_type": "stream",
          "text": [
            "Some weights of the model checkpoint at distilbert-base-uncased were not used when initializing DistilBertForSequenceClassification: ['vocab_transform.weight', 'vocab_projector.weight', 'vocab_projector.bias', 'vocab_layer_norm.weight', 'vocab_layer_norm.bias', 'vocab_transform.bias']\n",
            "- This IS expected if you are initializing DistilBertForSequenceClassification from the checkpoint of a model trained on another task or with another architecture (e.g. initializing a BertForSequenceClassification model from a BertForPreTraining model).\n",
            "- This IS NOT expected if you are initializing DistilBertForSequenceClassification from the checkpoint of a model that you expect to be exactly identical (initializing a BertForSequenceClassification model from a BertForSequenceClassification model).\n",
            "Some weights of DistilBertForSequenceClassification were not initialized from the model checkpoint at distilbert-base-uncased and are newly initialized: ['classifier.weight', 'pre_classifier.bias', 'pre_classifier.weight', 'classifier.bias']\n",
            "You should probably TRAIN this model on a down-stream task to be able to use it for predictions and inference.\n"
          ]
        },
        {
          "name": "stdout",
          "output_type": "stream",
          "text": [
            "======== Epoch 1 / 5 ========\n",
            "Training\tLoss: 2.24\tAccuracy: 0.28\t\tTime: 0:00:05s\n",
            "Validation\tLoss: 2.10\tAccuracy: 0.44\t\tTime: 0:00:00s\n",
            "======== Epoch 2 / 5 ========\n",
            "Training\tLoss: 1.94\tAccuracy: 0.53\t\tTime: 0:00:05s\n",
            "Validation\tLoss: 1.75\tAccuracy: 0.65\t\tTime: 0:00:00s\n",
            "======== Epoch 3 / 5 ========\n",
            "Training\tLoss: 1.64\tAccuracy: 0.69\t\tTime: 0:00:05s\n",
            "Validation\tLoss: 1.49\tAccuracy: 0.73\t\tTime: 0:00:00s\n",
            "======== Epoch 4 / 5 ========\n",
            "Training\tLoss: 1.44\tAccuracy: 0.74\t\tTime: 0:00:05s\n",
            "Validation\tLoss: 1.36\tAccuracy: 0.74\t\tTime: 0:00:00s\n",
            "======== Epoch 5 / 5 ========\n",
            "Training\tLoss: 1.35\tAccuracy: 0.76\t\tTime: 0:00:05s\n",
            "Validation\tLoss: 1.32\tAccuracy: 0.75\t\tTime: 0:00:00s\n",
            "\n",
            "Total model training took 0:00:26 (h:mm:ss)\n",
            "{'checkpoint': 'distilbert-base-uncased', 'learning_rate': 1e-05, 'epsilon': 1e-08, 'batch_size': 128}\n"
          ]
        },
        {
          "name": "stderr",
          "output_type": "stream",
          "text": [
            "Some weights of the model checkpoint at distilbert-base-uncased were not used when initializing DistilBertForSequenceClassification: ['vocab_transform.weight', 'vocab_projector.weight', 'vocab_projector.bias', 'vocab_layer_norm.weight', 'vocab_layer_norm.bias', 'vocab_transform.bias']\n",
            "- This IS expected if you are initializing DistilBertForSequenceClassification from the checkpoint of a model trained on another task or with another architecture (e.g. initializing a BertForSequenceClassification model from a BertForPreTraining model).\n",
            "- This IS NOT expected if you are initializing DistilBertForSequenceClassification from the checkpoint of a model that you expect to be exactly identical (initializing a BertForSequenceClassification model from a BertForSequenceClassification model).\n",
            "Some weights of DistilBertForSequenceClassification were not initialized from the model checkpoint at distilbert-base-uncased and are newly initialized: ['classifier.weight', 'pre_classifier.bias', 'pre_classifier.weight', 'classifier.bias']\n",
            "You should probably TRAIN this model on a down-stream task to be able to use it for predictions and inference.\n"
          ]
        },
        {
          "name": "stdout",
          "output_type": "stream",
          "text": [
            "======== Epoch 1 / 5 ========\n",
            "Training\tLoss: 2.28\tAccuracy: 0.16\t\tTime: 0:00:04s\n",
            "Validation\tLoss: 2.22\tAccuracy: 0.29\t\tTime: 0:00:00s\n",
            "======== Epoch 2 / 5 ========\n",
            "Training\tLoss: 2.16\tAccuracy: 0.32\t\tTime: 0:00:04s\n",
            "Validation\tLoss: 2.07\tAccuracy: 0.44\t\tTime: 0:00:00s\n",
            "======== Epoch 3 / 5 ========\n",
            "Training\tLoss: 2.01\tAccuracy: 0.50\t\tTime: 0:00:04s\n",
            "Validation\tLoss: 1.91\tAccuracy: 0.61\t\tTime: 0:00:00s\n",
            "======== Epoch 4 / 5 ========\n",
            "Training\tLoss: 1.88\tAccuracy: 0.61\t\tTime: 0:00:04s\n",
            "Validation\tLoss: 1.82\tAccuracy: 0.67\t\tTime: 0:00:00s\n",
            "======== Epoch 5 / 5 ========\n",
            "Training\tLoss: 1.81\tAccuracy: 0.66\t\tTime: 0:00:04s\n",
            "Validation\tLoss: 1.78\tAccuracy: 0.67\t\tTime: 0:00:00s\n",
            "\n",
            "Total model training took 0:00:21 (h:mm:ss)\n",
            "{'checkpoint': 'distilbert-base-uncased', 'learning_rate': 5e-05, 'epsilon': 1e-06, 'batch_size': 64}\n"
          ]
        },
        {
          "name": "stderr",
          "output_type": "stream",
          "text": [
            "Some weights of the model checkpoint at distilbert-base-uncased were not used when initializing DistilBertForSequenceClassification: ['vocab_transform.weight', 'vocab_projector.weight', 'vocab_projector.bias', 'vocab_layer_norm.weight', 'vocab_layer_norm.bias', 'vocab_transform.bias']\n",
            "- This IS expected if you are initializing DistilBertForSequenceClassification from the checkpoint of a model trained on another task or with another architecture (e.g. initializing a BertForSequenceClassification model from a BertForPreTraining model).\n",
            "- This IS NOT expected if you are initializing DistilBertForSequenceClassification from the checkpoint of a model that you expect to be exactly identical (initializing a BertForSequenceClassification model from a BertForSequenceClassification model).\n",
            "Some weights of DistilBertForSequenceClassification were not initialized from the model checkpoint at distilbert-base-uncased and are newly initialized: ['classifier.weight', 'pre_classifier.bias', 'pre_classifier.weight', 'classifier.bias']\n",
            "You should probably TRAIN this model on a down-stream task to be able to use it for predictions and inference.\n"
          ]
        },
        {
          "name": "stdout",
          "output_type": "stream",
          "text": [
            "======== Epoch 1 / 5 ========\n",
            "Training\tLoss: 1.83\tAccuracy: 0.48\t\tTime: 0:00:05s\n",
            "Validation\tLoss: 1.13\tAccuracy: 0.76\t\tTime: 0:00:00s\n",
            "======== Epoch 2 / 5 ========\n",
            "Training\tLoss: 0.80\tAccuracy: 0.83\t\tTime: 0:00:05s\n",
            "Validation\tLoss: 0.60\tAccuracy: 0.86\t\tTime: 0:00:00s\n",
            "======== Epoch 3 / 5 ========\n",
            "Training\tLoss: 0.40\tAccuracy: 0.92\t\tTime: 0:00:05s\n",
            "Validation\tLoss: 0.45\tAccuracy: 0.88\t\tTime: 0:00:00s\n",
            "======== Epoch 4 / 5 ========\n",
            "Training\tLoss: 0.24\tAccuracy: 0.96\t\tTime: 0:00:05s\n",
            "Validation\tLoss: 0.41\tAccuracy: 0.89\t\tTime: 0:00:00s\n",
            "======== Epoch 5 / 5 ========\n",
            "Training\tLoss: 0.18\tAccuracy: 0.97\t\tTime: 0:00:05s\n",
            "Validation\tLoss: 0.39\tAccuracy: 0.89\t\tTime: 0:00:00s\n",
            "\n",
            "Total model training took 0:00:26 (h:mm:ss)\n",
            "{'checkpoint': 'distilbert-base-uncased', 'learning_rate': 5e-05, 'epsilon': 1e-06, 'batch_size': 128}\n"
          ]
        },
        {
          "name": "stderr",
          "output_type": "stream",
          "text": [
            "Some weights of the model checkpoint at distilbert-base-uncased were not used when initializing DistilBertForSequenceClassification: ['vocab_transform.weight', 'vocab_projector.weight', 'vocab_projector.bias', 'vocab_layer_norm.weight', 'vocab_layer_norm.bias', 'vocab_transform.bias']\n",
            "- This IS expected if you are initializing DistilBertForSequenceClassification from the checkpoint of a model trained on another task or with another architecture (e.g. initializing a BertForSequenceClassification model from a BertForPreTraining model).\n",
            "- This IS NOT expected if you are initializing DistilBertForSequenceClassification from the checkpoint of a model that you expect to be exactly identical (initializing a BertForSequenceClassification model from a BertForSequenceClassification model).\n",
            "Some weights of DistilBertForSequenceClassification were not initialized from the model checkpoint at distilbert-base-uncased and are newly initialized: ['classifier.weight', 'pre_classifier.bias', 'pre_classifier.weight', 'classifier.bias']\n",
            "You should probably TRAIN this model on a down-stream task to be able to use it for predictions and inference.\n"
          ]
        },
        {
          "name": "stdout",
          "output_type": "stream",
          "text": [
            "======== Epoch 1 / 5 ========\n",
            "Training\tLoss: 2.05\tAccuracy: 0.38\t\tTime: 0:00:04s\n",
            "Validation\tLoss: 1.60\tAccuracy: 0.68\t\tTime: 0:00:00s\n",
            "======== Epoch 2 / 5 ========\n",
            "Training\tLoss: 1.28\tAccuracy: 0.74\t\tTime: 0:00:04s\n",
            "Validation\tLoss: 0.98\tAccuracy: 0.78\t\tTime: 0:00:00s\n",
            "======== Epoch 3 / 5 ========\n",
            "Training\tLoss: 0.79\tAccuracy: 0.84\t\tTime: 0:00:04s\n",
            "Validation\tLoss: 0.72\tAccuracy: 0.83\t\tTime: 0:00:00s\n",
            "======== Epoch 4 / 5 ========\n",
            "Training\tLoss: 0.57\tAccuracy: 0.89\t\tTime: 0:00:04s\n",
            "Validation\tLoss: 0.61\tAccuracy: 0.85\t\tTime: 0:00:00s\n",
            "======== Epoch 5 / 5 ========\n",
            "Training\tLoss: 0.46\tAccuracy: 0.91\t\tTime: 0:00:04s\n",
            "Validation\tLoss: 0.57\tAccuracy: 0.86\t\tTime: 0:00:00s\n",
            "\n",
            "Total model training took 0:00:21 (h:mm:ss)\n",
            "{'checkpoint': 'distilbert-base-uncased', 'learning_rate': 5e-05, 'epsilon': 1e-07, 'batch_size': 64}\n"
          ]
        },
        {
          "name": "stderr",
          "output_type": "stream",
          "text": [
            "Some weights of the model checkpoint at distilbert-base-uncased were not used when initializing DistilBertForSequenceClassification: ['vocab_transform.weight', 'vocab_projector.weight', 'vocab_projector.bias', 'vocab_layer_norm.weight', 'vocab_layer_norm.bias', 'vocab_transform.bias']\n",
            "- This IS expected if you are initializing DistilBertForSequenceClassification from the checkpoint of a model trained on another task or with another architecture (e.g. initializing a BertForSequenceClassification model from a BertForPreTraining model).\n",
            "- This IS NOT expected if you are initializing DistilBertForSequenceClassification from the checkpoint of a model that you expect to be exactly identical (initializing a BertForSequenceClassification model from a BertForSequenceClassification model).\n",
            "Some weights of DistilBertForSequenceClassification were not initialized from the model checkpoint at distilbert-base-uncased and are newly initialized: ['classifier.weight', 'pre_classifier.bias', 'pre_classifier.weight', 'classifier.bias']\n",
            "You should probably TRAIN this model on a down-stream task to be able to use it for predictions and inference.\n"
          ]
        },
        {
          "name": "stdout",
          "output_type": "stream",
          "text": [
            "======== Epoch 1 / 5 ========\n",
            "Training\tLoss: 1.73\tAccuracy: 0.51\t\tTime: 0:00:05s\n",
            "Validation\tLoss: 1.00\tAccuracy: 0.77\t\tTime: 0:00:00s\n",
            "======== Epoch 2 / 5 ========\n",
            "Training\tLoss: 0.70\tAccuracy: 0.84\t\tTime: 0:00:05s\n",
            "Validation\tLoss: 0.58\tAccuracy: 0.85\t\tTime: 0:00:00s\n",
            "======== Epoch 3 / 5 ========\n",
            "Training\tLoss: 0.36\tAccuracy: 0.92\t\tTime: 0:00:05s\n",
            "Validation\tLoss: 0.47\tAccuracy: 0.86\t\tTime: 0:00:00s\n",
            "======== Epoch 4 / 5 ========\n",
            "Training\tLoss: 0.22\tAccuracy: 0.96\t\tTime: 0:00:05s\n",
            "Validation\tLoss: 0.43\tAccuracy: 0.87\t\tTime: 0:00:00s\n",
            "======== Epoch 5 / 5 ========\n",
            "Training\tLoss: 0.16\tAccuracy: 0.97\t\tTime: 0:00:05s\n",
            "Validation\tLoss: 0.40\tAccuracy: 0.88\t\tTime: 0:00:00s\n",
            "\n",
            "Total model training took 0:00:26 (h:mm:ss)\n",
            "{'checkpoint': 'distilbert-base-uncased', 'learning_rate': 5e-05, 'epsilon': 1e-07, 'batch_size': 128}\n"
          ]
        },
        {
          "name": "stderr",
          "output_type": "stream",
          "text": [
            "Some weights of the model checkpoint at distilbert-base-uncased were not used when initializing DistilBertForSequenceClassification: ['vocab_transform.weight', 'vocab_projector.weight', 'vocab_projector.bias', 'vocab_layer_norm.weight', 'vocab_layer_norm.bias', 'vocab_transform.bias']\n",
            "- This IS expected if you are initializing DistilBertForSequenceClassification from the checkpoint of a model trained on another task or with another architecture (e.g. initializing a BertForSequenceClassification model from a BertForPreTraining model).\n",
            "- This IS NOT expected if you are initializing DistilBertForSequenceClassification from the checkpoint of a model that you expect to be exactly identical (initializing a BertForSequenceClassification model from a BertForSequenceClassification model).\n",
            "Some weights of DistilBertForSequenceClassification were not initialized from the model checkpoint at distilbert-base-uncased and are newly initialized: ['classifier.weight', 'pre_classifier.bias', 'pre_classifier.weight', 'classifier.bias']\n",
            "You should probably TRAIN this model on a down-stream task to be able to use it for predictions and inference.\n"
          ]
        },
        {
          "name": "stdout",
          "output_type": "stream",
          "text": [
            "======== Epoch 1 / 5 ========\n",
            "Training\tLoss: 2.00\tAccuracy: 0.43\t\tTime: 0:00:04s\n",
            "Validation\tLoss: 1.51\tAccuracy: 0.68\t\tTime: 0:00:00s\n",
            "======== Epoch 2 / 5 ========\n",
            "Training\tLoss: 1.18\tAccuracy: 0.76\t\tTime: 0:00:04s\n",
            "Validation\tLoss: 0.89\tAccuracy: 0.79\t\tTime: 0:00:00s\n",
            "======== Epoch 3 / 5 ========\n",
            "Training\tLoss: 0.71\tAccuracy: 0.86\t\tTime: 0:00:04s\n",
            "Validation\tLoss: 0.66\tAccuracy: 0.84\t\tTime: 0:00:00s\n",
            "======== Epoch 4 / 5 ========\n",
            "Training\tLoss: 0.50\tAccuracy: 0.90\t\tTime: 0:00:04s\n",
            "Validation\tLoss: 0.57\tAccuracy: 0.85\t\tTime: 0:00:00s\n",
            "======== Epoch 5 / 5 ========\n",
            "Training\tLoss: 0.41\tAccuracy: 0.93\t\tTime: 0:00:04s\n",
            "Validation\tLoss: 0.55\tAccuracy: 0.85\t\tTime: 0:00:00s\n",
            "\n",
            "Total model training took 0:00:21 (h:mm:ss)\n",
            "{'checkpoint': 'distilbert-base-uncased', 'learning_rate': 5e-05, 'epsilon': 1e-08, 'batch_size': 64}\n"
          ]
        },
        {
          "name": "stderr",
          "output_type": "stream",
          "text": [
            "Some weights of the model checkpoint at distilbert-base-uncased were not used when initializing DistilBertForSequenceClassification: ['vocab_transform.weight', 'vocab_projector.weight', 'vocab_projector.bias', 'vocab_layer_norm.weight', 'vocab_layer_norm.bias', 'vocab_transform.bias']\n",
            "- This IS expected if you are initializing DistilBertForSequenceClassification from the checkpoint of a model trained on another task or with another architecture (e.g. initializing a BertForSequenceClassification model from a BertForPreTraining model).\n",
            "- This IS NOT expected if you are initializing DistilBertForSequenceClassification from the checkpoint of a model that you expect to be exactly identical (initializing a BertForSequenceClassification model from a BertForSequenceClassification model).\n",
            "Some weights of DistilBertForSequenceClassification were not initialized from the model checkpoint at distilbert-base-uncased and are newly initialized: ['classifier.weight', 'pre_classifier.bias', 'pre_classifier.weight', 'classifier.bias']\n",
            "You should probably TRAIN this model on a down-stream task to be able to use it for predictions and inference.\n"
          ]
        },
        {
          "name": "stdout",
          "output_type": "stream",
          "text": [
            "======== Epoch 1 / 5 ========\n",
            "Training\tLoss: 1.73\tAccuracy: 0.54\t\tTime: 0:00:05s\n",
            "Validation\tLoss: 1.05\tAccuracy: 0.77\t\tTime: 0:00:00s\n",
            "======== Epoch 2 / 5 ========\n",
            "Training\tLoss: 0.74\tAccuracy: 0.84\t\tTime: 0:00:05s\n",
            "Validation\tLoss: 0.58\tAccuracy: 0.85\t\tTime: 0:00:00s\n",
            "======== Epoch 3 / 5 ========\n",
            "Training\tLoss: 0.38\tAccuracy: 0.92\t\tTime: 0:00:05s\n",
            "Validation\tLoss: 0.46\tAccuracy: 0.87\t\tTime: 0:00:00s\n",
            "======== Epoch 4 / 5 ========\n",
            "Training\tLoss: 0.23\tAccuracy: 0.95\t\tTime: 0:00:05s\n",
            "Validation\tLoss: 0.41\tAccuracy: 0.89\t\tTime: 0:00:00s\n",
            "======== Epoch 5 / 5 ========\n",
            "Training\tLoss: 0.17\tAccuracy: 0.97\t\tTime: 0:00:05s\n",
            "Validation\tLoss: 0.40\tAccuracy: 0.89\t\tTime: 0:00:00s\n",
            "\n",
            "Total model training took 0:00:26 (h:mm:ss)\n",
            "{'checkpoint': 'distilbert-base-uncased', 'learning_rate': 5e-05, 'epsilon': 1e-08, 'batch_size': 128}\n"
          ]
        },
        {
          "name": "stderr",
          "output_type": "stream",
          "text": [
            "Some weights of the model checkpoint at distilbert-base-uncased were not used when initializing DistilBertForSequenceClassification: ['vocab_transform.weight', 'vocab_projector.weight', 'vocab_projector.bias', 'vocab_layer_norm.weight', 'vocab_layer_norm.bias', 'vocab_transform.bias']\n",
            "- This IS expected if you are initializing DistilBertForSequenceClassification from the checkpoint of a model trained on another task or with another architecture (e.g. initializing a BertForSequenceClassification model from a BertForPreTraining model).\n",
            "- This IS NOT expected if you are initializing DistilBertForSequenceClassification from the checkpoint of a model that you expect to be exactly identical (initializing a BertForSequenceClassification model from a BertForSequenceClassification model).\n",
            "Some weights of DistilBertForSequenceClassification were not initialized from the model checkpoint at distilbert-base-uncased and are newly initialized: ['classifier.weight', 'pre_classifier.bias', 'pre_classifier.weight', 'classifier.bias']\n",
            "You should probably TRAIN this model on a down-stream task to be able to use it for predictions and inference.\n"
          ]
        },
        {
          "name": "stdout",
          "output_type": "stream",
          "text": [
            "======== Epoch 1 / 5 ========\n",
            "Training\tLoss: 1.98\tAccuracy: 0.46\t\tTime: 0:00:04s\n",
            "Validation\tLoss: 1.45\tAccuracy: 0.70\t\tTime: 0:00:00s\n",
            "======== Epoch 2 / 5 ========\n",
            "Training\tLoss: 1.13\tAccuracy: 0.76\t\tTime: 0:00:04s\n",
            "Validation\tLoss: 0.85\tAccuracy: 0.81\t\tTime: 0:00:00s\n",
            "======== Epoch 3 / 5 ========\n",
            "Training\tLoss: 0.67\tAccuracy: 0.87\t\tTime: 0:00:04s\n",
            "Validation\tLoss: 0.62\tAccuracy: 0.84\t\tTime: 0:00:00s\n",
            "======== Epoch 4 / 5 ========\n",
            "Training\tLoss: 0.47\tAccuracy: 0.91\t\tTime: 0:00:04s\n",
            "Validation\tLoss: 0.53\tAccuracy: 0.87\t\tTime: 0:00:00s\n",
            "======== Epoch 5 / 5 ========\n",
            "Training\tLoss: 0.38\tAccuracy: 0.94\t\tTime: 0:00:04s\n",
            "Validation\tLoss: 0.51\tAccuracy: 0.87\t\tTime: 0:00:00s\n",
            "\n",
            "Total model training took 0:00:21 (h:mm:ss)\n",
            "{'checkpoint': 'distilbert-base-uncased', 'learning_rate': 0.0001, 'epsilon': 1e-06, 'batch_size': 64}\n"
          ]
        },
        {
          "name": "stderr",
          "output_type": "stream",
          "text": [
            "Some weights of the model checkpoint at distilbert-base-uncased were not used when initializing DistilBertForSequenceClassification: ['vocab_transform.weight', 'vocab_projector.weight', 'vocab_projector.bias', 'vocab_layer_norm.weight', 'vocab_layer_norm.bias', 'vocab_transform.bias']\n",
            "- This IS expected if you are initializing DistilBertForSequenceClassification from the checkpoint of a model trained on another task or with another architecture (e.g. initializing a BertForSequenceClassification model from a BertForPreTraining model).\n",
            "- This IS NOT expected if you are initializing DistilBertForSequenceClassification from the checkpoint of a model that you expect to be exactly identical (initializing a BertForSequenceClassification model from a BertForSequenceClassification model).\n",
            "Some weights of DistilBertForSequenceClassification were not initialized from the model checkpoint at distilbert-base-uncased and are newly initialized: ['classifier.weight', 'pre_classifier.bias', 'pre_classifier.weight', 'classifier.bias']\n",
            "You should probably TRAIN this model on a down-stream task to be able to use it for predictions and inference.\n"
          ]
        },
        {
          "name": "stdout",
          "output_type": "stream",
          "text": [
            "======== Epoch 1 / 5 ========\n",
            "Training\tLoss: 1.41\tAccuracy: 0.61\t\tTime: 0:00:05s\n",
            "Validation\tLoss: 0.69\tAccuracy: 0.80\t\tTime: 0:00:00s\n",
            "======== Epoch 2 / 5 ========\n",
            "Training\tLoss: 0.42\tAccuracy: 0.89\t\tTime: 0:00:05s\n",
            "Validation\tLoss: 0.42\tAccuracy: 0.88\t\tTime: 0:00:00s\n",
            "======== Epoch 3 / 5 ========\n",
            "Training\tLoss: 0.18\tAccuracy: 0.95\t\tTime: 0:00:05s\n",
            "Validation\tLoss: 0.42\tAccuracy: 0.88\t\tTime: 0:00:00s\n",
            "======== Epoch 4 / 5 ========\n",
            "Training\tLoss: 0.09\tAccuracy: 0.98\t\tTime: 0:00:05s\n",
            "Validation\tLoss: 0.39\tAccuracy: 0.90\t\tTime: 0:00:00s\n",
            "======== Epoch 5 / 5 ========\n",
            "Training\tLoss: 0.05\tAccuracy: 0.99\t\tTime: 0:00:05s\n",
            "Validation\tLoss: 0.38\tAccuracy: 0.90\t\tTime: 0:00:00s\n",
            "\n",
            "Total model training took 0:00:26 (h:mm:ss)\n",
            "{'checkpoint': 'distilbert-base-uncased', 'learning_rate': 0.0001, 'epsilon': 1e-06, 'batch_size': 128}\n"
          ]
        },
        {
          "name": "stderr",
          "output_type": "stream",
          "text": [
            "Some weights of the model checkpoint at distilbert-base-uncased were not used when initializing DistilBertForSequenceClassification: ['vocab_transform.weight', 'vocab_projector.weight', 'vocab_projector.bias', 'vocab_layer_norm.weight', 'vocab_layer_norm.bias', 'vocab_transform.bias']\n",
            "- This IS expected if you are initializing DistilBertForSequenceClassification from the checkpoint of a model trained on another task or with another architecture (e.g. initializing a BertForSequenceClassification model from a BertForPreTraining model).\n",
            "- This IS NOT expected if you are initializing DistilBertForSequenceClassification from the checkpoint of a model that you expect to be exactly identical (initializing a BertForSequenceClassification model from a BertForSequenceClassification model).\n",
            "Some weights of DistilBertForSequenceClassification were not initialized from the model checkpoint at distilbert-base-uncased and are newly initialized: ['classifier.weight', 'pre_classifier.bias', 'pre_classifier.weight', 'classifier.bias']\n",
            "You should probably TRAIN this model on a down-stream task to be able to use it for predictions and inference.\n"
          ]
        },
        {
          "name": "stdout",
          "output_type": "stream",
          "text": [
            "======== Epoch 1 / 5 ========\n",
            "Training\tLoss: 1.80\tAccuracy: 0.49\t\tTime: 0:00:04s\n",
            "Validation\tLoss: 1.09\tAccuracy: 0.76\t\tTime: 0:00:00s\n",
            "======== Epoch 2 / 5 ========\n",
            "Training\tLoss: 0.75\tAccuracy: 0.83\t\tTime: 0:00:04s\n",
            "Validation\tLoss: 0.57\tAccuracy: 0.85\t\tTime: 0:00:00s\n",
            "======== Epoch 3 / 5 ========\n",
            "Training\tLoss: 0.35\tAccuracy: 0.92\t\tTime: 0:00:04s\n",
            "Validation\tLoss: 0.42\tAccuracy: 0.88\t\tTime: 0:00:00s\n",
            "======== Epoch 4 / 5 ========\n",
            "Training\tLoss: 0.20\tAccuracy: 0.96\t\tTime: 0:00:04s\n",
            "Validation\tLoss: 0.39\tAccuracy: 0.89\t\tTime: 0:00:00s\n",
            "======== Epoch 5 / 5 ========\n",
            "Training\tLoss: 0.13\tAccuracy: 0.98\t\tTime: 0:00:04s\n",
            "Validation\tLoss: 0.39\tAccuracy: 0.89\t\tTime: 0:00:00s\n",
            "\n",
            "Total model training took 0:00:21 (h:mm:ss)\n",
            "{'checkpoint': 'distilbert-base-uncased', 'learning_rate': 0.0001, 'epsilon': 1e-07, 'batch_size': 64}\n"
          ]
        },
        {
          "name": "stderr",
          "output_type": "stream",
          "text": [
            "Some weights of the model checkpoint at distilbert-base-uncased were not used when initializing DistilBertForSequenceClassification: ['vocab_transform.weight', 'vocab_projector.weight', 'vocab_projector.bias', 'vocab_layer_norm.weight', 'vocab_layer_norm.bias', 'vocab_transform.bias']\n",
            "- This IS expected if you are initializing DistilBertForSequenceClassification from the checkpoint of a model trained on another task or with another architecture (e.g. initializing a BertForSequenceClassification model from a BertForPreTraining model).\n",
            "- This IS NOT expected if you are initializing DistilBertForSequenceClassification from the checkpoint of a model that you expect to be exactly identical (initializing a BertForSequenceClassification model from a BertForSequenceClassification model).\n",
            "Some weights of DistilBertForSequenceClassification were not initialized from the model checkpoint at distilbert-base-uncased and are newly initialized: ['classifier.weight', 'pre_classifier.bias', 'pre_classifier.weight', 'classifier.bias']\n",
            "You should probably TRAIN this model on a down-stream task to be able to use it for predictions and inference.\n"
          ]
        },
        {
          "name": "stdout",
          "output_type": "stream",
          "text": [
            "======== Epoch 1 / 5 ========\n",
            "Training\tLoss: 1.36\tAccuracy: 0.63\t\tTime: 0:00:05s\n",
            "Validation\tLoss: 0.61\tAccuracy: 0.84\t\tTime: 0:00:00s\n",
            "======== Epoch 2 / 5 ========\n",
            "Training\tLoss: 0.39\tAccuracy: 0.90\t\tTime: 0:00:05s\n",
            "Validation\tLoss: 0.45\tAccuracy: 0.87\t\tTime: 0:00:00s\n",
            "======== Epoch 3 / 5 ========\n",
            "Training\tLoss: 0.18\tAccuracy: 0.96\t\tTime: 0:00:05s\n",
            "Validation\tLoss: 0.40\tAccuracy: 0.90\t\tTime: 0:00:00s\n",
            "======== Epoch 4 / 5 ========\n",
            "Training\tLoss: 0.09\tAccuracy: 0.98\t\tTime: 0:00:05s\n",
            "Validation\tLoss: 0.39\tAccuracy: 0.90\t\tTime: 0:00:00s\n",
            "======== Epoch 5 / 5 ========\n",
            "Training\tLoss: 0.05\tAccuracy: 0.99\t\tTime: 0:00:05s\n",
            "Validation\tLoss: 0.37\tAccuracy: 0.91\t\tTime: 0:00:00s\n",
            "\n",
            "Total model training took 0:00:26 (h:mm:ss)\n",
            "{'checkpoint': 'distilbert-base-uncased', 'learning_rate': 0.0001, 'epsilon': 1e-07, 'batch_size': 128}\n"
          ]
        },
        {
          "name": "stderr",
          "output_type": "stream",
          "text": [
            "Some weights of the model checkpoint at distilbert-base-uncased were not used when initializing DistilBertForSequenceClassification: ['vocab_transform.weight', 'vocab_projector.weight', 'vocab_projector.bias', 'vocab_layer_norm.weight', 'vocab_layer_norm.bias', 'vocab_transform.bias']\n",
            "- This IS expected if you are initializing DistilBertForSequenceClassification from the checkpoint of a model trained on another task or with another architecture (e.g. initializing a BertForSequenceClassification model from a BertForPreTraining model).\n",
            "- This IS NOT expected if you are initializing DistilBertForSequenceClassification from the checkpoint of a model that you expect to be exactly identical (initializing a BertForSequenceClassification model from a BertForSequenceClassification model).\n",
            "Some weights of DistilBertForSequenceClassification were not initialized from the model checkpoint at distilbert-base-uncased and are newly initialized: ['classifier.weight', 'pre_classifier.bias', 'pre_classifier.weight', 'classifier.bias']\n",
            "You should probably TRAIN this model on a down-stream task to be able to use it for predictions and inference.\n"
          ]
        },
        {
          "name": "stdout",
          "output_type": "stream",
          "text": [
            "======== Epoch 1 / 5 ========\n",
            "Training\tLoss: 1.69\tAccuracy: 0.53\t\tTime: 0:00:04s\n",
            "Validation\tLoss: 0.96\tAccuracy: 0.76\t\tTime: 0:00:00s\n",
            "======== Epoch 2 / 5 ========\n",
            "Training\tLoss: 0.65\tAccuracy: 0.85\t\tTime: 0:00:04s\n",
            "Validation\tLoss: 0.54\tAccuracy: 0.85\t\tTime: 0:00:00s\n",
            "======== Epoch 3 / 5 ========\n",
            "Training\tLoss: 0.31\tAccuracy: 0.93\t\tTime: 0:00:04s\n",
            "Validation\tLoss: 0.42\tAccuracy: 0.88\t\tTime: 0:00:00s\n",
            "======== Epoch 4 / 5 ========\n",
            "Training\tLoss: 0.17\tAccuracy: 0.97\t\tTime: 0:00:04s\n",
            "Validation\tLoss: 0.41\tAccuracy: 0.89\t\tTime: 0:00:00s\n",
            "======== Epoch 5 / 5 ========\n",
            "Training\tLoss: 0.11\tAccuracy: 0.98\t\tTime: 0:00:04s\n",
            "Validation\tLoss: 0.40\tAccuracy: 0.89\t\tTime: 0:00:00s\n",
            "\n",
            "Total model training took 0:00:21 (h:mm:ss)\n",
            "{'checkpoint': 'distilbert-base-uncased', 'learning_rate': 0.0001, 'epsilon': 1e-08, 'batch_size': 64}\n"
          ]
        },
        {
          "name": "stderr",
          "output_type": "stream",
          "text": [
            "Some weights of the model checkpoint at distilbert-base-uncased were not used when initializing DistilBertForSequenceClassification: ['vocab_transform.weight', 'vocab_projector.weight', 'vocab_projector.bias', 'vocab_layer_norm.weight', 'vocab_layer_norm.bias', 'vocab_transform.bias']\n",
            "- This IS expected if you are initializing DistilBertForSequenceClassification from the checkpoint of a model trained on another task or with another architecture (e.g. initializing a BertForSequenceClassification model from a BertForPreTraining model).\n",
            "- This IS NOT expected if you are initializing DistilBertForSequenceClassification from the checkpoint of a model that you expect to be exactly identical (initializing a BertForSequenceClassification model from a BertForSequenceClassification model).\n",
            "Some weights of DistilBertForSequenceClassification were not initialized from the model checkpoint at distilbert-base-uncased and are newly initialized: ['classifier.weight', 'pre_classifier.bias', 'pre_classifier.weight', 'classifier.bias']\n",
            "You should probably TRAIN this model on a down-stream task to be able to use it for predictions and inference.\n"
          ]
        },
        {
          "name": "stdout",
          "output_type": "stream",
          "text": [
            "======== Epoch 1 / 5 ========\n",
            "Training\tLoss: 1.31\tAccuracy: 0.65\t\tTime: 0:00:05s\n",
            "Validation\tLoss: 0.66\tAccuracy: 0.82\t\tTime: 0:00:00s\n",
            "======== Epoch 2 / 5 ========\n",
            "Training\tLoss: 0.40\tAccuracy: 0.90\t\tTime: 0:00:05s\n",
            "Validation\tLoss: 0.45\tAccuracy: 0.87\t\tTime: 0:00:00s\n",
            "======== Epoch 3 / 5 ========\n",
            "Training\tLoss: 0.17\tAccuracy: 0.96\t\tTime: 0:00:05s\n",
            "Validation\tLoss: 0.43\tAccuracy: 0.89\t\tTime: 0:00:00s\n",
            "======== Epoch 4 / 5 ========\n",
            "Training\tLoss: 0.08\tAccuracy: 0.98\t\tTime: 0:00:05s\n",
            "Validation\tLoss: 0.44\tAccuracy: 0.89\t\tTime: 0:00:00s\n",
            "======== Epoch 5 / 5 ========\n",
            "Training\tLoss: 0.04\tAccuracy: 0.99\t\tTime: 0:00:05s\n",
            "Validation\tLoss: 0.43\tAccuracy: 0.90\t\tTime: 0:00:00s\n",
            "\n",
            "Total model training took 0:00:26 (h:mm:ss)\n",
            "{'checkpoint': 'distilbert-base-uncased', 'learning_rate': 0.0001, 'epsilon': 1e-08, 'batch_size': 128}\n"
          ]
        },
        {
          "name": "stderr",
          "output_type": "stream",
          "text": [
            "Some weights of the model checkpoint at distilbert-base-uncased were not used when initializing DistilBertForSequenceClassification: ['vocab_transform.weight', 'vocab_projector.weight', 'vocab_projector.bias', 'vocab_layer_norm.weight', 'vocab_layer_norm.bias', 'vocab_transform.bias']\n",
            "- This IS expected if you are initializing DistilBertForSequenceClassification from the checkpoint of a model trained on another task or with another architecture (e.g. initializing a BertForSequenceClassification model from a BertForPreTraining model).\n",
            "- This IS NOT expected if you are initializing DistilBertForSequenceClassification from the checkpoint of a model that you expect to be exactly identical (initializing a BertForSequenceClassification model from a BertForSequenceClassification model).\n",
            "Some weights of DistilBertForSequenceClassification were not initialized from the model checkpoint at distilbert-base-uncased and are newly initialized: ['classifier.weight', 'pre_classifier.bias', 'pre_classifier.weight', 'classifier.bias']\n",
            "You should probably TRAIN this model on a down-stream task to be able to use it for predictions and inference.\n"
          ]
        },
        {
          "name": "stdout",
          "output_type": "stream",
          "text": [
            "======== Epoch 1 / 5 ========\n",
            "Training\tLoss: 1.75\tAccuracy: 0.52\t\tTime: 0:00:04s\n",
            "Validation\tLoss: 1.00\tAccuracy: 0.78\t\tTime: 0:00:00s\n",
            "======== Epoch 2 / 5 ========\n",
            "Training\tLoss: 0.67\tAccuracy: 0.85\t\tTime: 0:00:04s\n",
            "Validation\tLoss: 0.52\tAccuracy: 0.86\t\tTime: 0:00:00s\n",
            "======== Epoch 3 / 5 ========\n",
            "Training\tLoss: 0.31\tAccuracy: 0.93\t\tTime: 0:00:04s\n",
            "Validation\tLoss: 0.43\tAccuracy: 0.87\t\tTime: 0:00:00s\n",
            "======== Epoch 4 / 5 ========\n",
            "Training\tLoss: 0.18\tAccuracy: 0.97\t\tTime: 0:00:04s\n",
            "Validation\tLoss: 0.40\tAccuracy: 0.89\t\tTime: 0:00:00s\n",
            "======== Epoch 5 / 5 ========\n",
            "Training\tLoss: 0.12\tAccuracy: 0.98\t\tTime: 0:00:04s\n",
            "Validation\tLoss: 0.39\tAccuracy: 0.89\t\tTime: 0:00:00s\n",
            "\n",
            "Total model training took 0:00:21 (h:mm:ss)\n",
            "{'checkpoint': 'distilbert-base-uncased', 'learning_rate': 0.0005, 'epsilon': 1e-06, 'batch_size': 64}\n"
          ]
        },
        {
          "name": "stderr",
          "output_type": "stream",
          "text": [
            "Some weights of the model checkpoint at distilbert-base-uncased were not used when initializing DistilBertForSequenceClassification: ['vocab_transform.weight', 'vocab_projector.weight', 'vocab_projector.bias', 'vocab_layer_norm.weight', 'vocab_layer_norm.bias', 'vocab_transform.bias']\n",
            "- This IS expected if you are initializing DistilBertForSequenceClassification from the checkpoint of a model trained on another task or with another architecture (e.g. initializing a BertForSequenceClassification model from a BertForPreTraining model).\n",
            "- This IS NOT expected if you are initializing DistilBertForSequenceClassification from the checkpoint of a model that you expect to be exactly identical (initializing a BertForSequenceClassification model from a BertForSequenceClassification model).\n",
            "Some weights of DistilBertForSequenceClassification were not initialized from the model checkpoint at distilbert-base-uncased and are newly initialized: ['classifier.weight', 'pre_classifier.bias', 'pre_classifier.weight', 'classifier.bias']\n",
            "You should probably TRAIN this model on a down-stream task to be able to use it for predictions and inference.\n"
          ]
        },
        {
          "name": "stdout",
          "output_type": "stream",
          "text": [
            "======== Epoch 1 / 5 ========\n",
            "Training\tLoss: 1.02\tAccuracy: 0.68\t\tTime: 0:00:05s\n",
            "Validation\tLoss: 0.60\tAccuracy: 0.84\t\tTime: 0:00:00s\n",
            "======== Epoch 2 / 5 ========\n",
            "Training\tLoss: 0.42\tAccuracy: 0.89\t\tTime: 0:00:05s\n",
            "Validation\tLoss: 0.50\tAccuracy: 0.85\t\tTime: 0:00:00s\n",
            "======== Epoch 3 / 5 ========\n",
            "Training\tLoss: 0.25\tAccuracy: 0.93\t\tTime: 0:00:05s\n",
            "Validation\tLoss: 0.52\tAccuracy: 0.87\t\tTime: 0:00:00s\n",
            "======== Epoch 4 / 5 ========\n",
            "Training\tLoss: 0.13\tAccuracy: 0.97\t\tTime: 0:00:05s\n",
            "Validation\tLoss: 0.60\tAccuracy: 0.87\t\tTime: 0:00:00s\n",
            "======== Epoch 5 / 5 ========\n",
            "Training\tLoss: 0.06\tAccuracy: 0.98\t\tTime: 0:00:05s\n",
            "Validation\tLoss: 0.53\tAccuracy: 0.89\t\tTime: 0:00:00s\n",
            "\n",
            "Total model training took 0:00:26 (h:mm:ss)\n",
            "{'checkpoint': 'distilbert-base-uncased', 'learning_rate': 0.0005, 'epsilon': 1e-06, 'batch_size': 128}\n"
          ]
        },
        {
          "name": "stderr",
          "output_type": "stream",
          "text": [
            "Some weights of the model checkpoint at distilbert-base-uncased were not used when initializing DistilBertForSequenceClassification: ['vocab_transform.weight', 'vocab_projector.weight', 'vocab_projector.bias', 'vocab_layer_norm.weight', 'vocab_layer_norm.bias', 'vocab_transform.bias']\n",
            "- This IS expected if you are initializing DistilBertForSequenceClassification from the checkpoint of a model trained on another task or with another architecture (e.g. initializing a BertForSequenceClassification model from a BertForPreTraining model).\n",
            "- This IS NOT expected if you are initializing DistilBertForSequenceClassification from the checkpoint of a model that you expect to be exactly identical (initializing a BertForSequenceClassification model from a BertForSequenceClassification model).\n",
            "Some weights of DistilBertForSequenceClassification were not initialized from the model checkpoint at distilbert-base-uncased and are newly initialized: ['classifier.weight', 'pre_classifier.bias', 'pre_classifier.weight', 'classifier.bias']\n",
            "You should probably TRAIN this model on a down-stream task to be able to use it for predictions and inference.\n"
          ]
        },
        {
          "name": "stdout",
          "output_type": "stream",
          "text": [
            "======== Epoch 1 / 5 ========\n",
            "Training\tLoss: 1.22\tAccuracy: 0.62\t\tTime: 0:00:04s\n",
            "Validation\tLoss: 0.63\tAccuracy: 0.82\t\tTime: 0:00:00s\n",
            "======== Epoch 2 / 5 ========\n",
            "Training\tLoss: 0.35\tAccuracy: 0.90\t\tTime: 0:00:04s\n",
            "Validation\tLoss: 0.52\tAccuracy: 0.86\t\tTime: 0:00:00s\n",
            "======== Epoch 3 / 5 ========\n",
            "Training\tLoss: 0.19\tAccuracy: 0.95\t\tTime: 0:00:04s\n",
            "Validation\tLoss: 0.46\tAccuracy: 0.89\t\tTime: 0:00:00s\n",
            "======== Epoch 4 / 5 ========\n",
            "Training\tLoss: 0.10\tAccuracy: 0.97\t\tTime: 0:00:04s\n",
            "Validation\tLoss: 0.48\tAccuracy: 0.89\t\tTime: 0:00:00s\n",
            "======== Epoch 5 / 5 ========\n",
            "Training\tLoss: 0.05\tAccuracy: 0.98\t\tTime: 0:00:04s\n",
            "Validation\tLoss: 0.45\tAccuracy: 0.90\t\tTime: 0:00:00s\n",
            "\n",
            "Total model training took 0:00:21 (h:mm:ss)\n",
            "{'checkpoint': 'distilbert-base-uncased', 'learning_rate': 0.0005, 'epsilon': 1e-07, 'batch_size': 64}\n"
          ]
        },
        {
          "name": "stderr",
          "output_type": "stream",
          "text": [
            "Some weights of the model checkpoint at distilbert-base-uncased were not used when initializing DistilBertForSequenceClassification: ['vocab_transform.weight', 'vocab_projector.weight', 'vocab_projector.bias', 'vocab_layer_norm.weight', 'vocab_layer_norm.bias', 'vocab_transform.bias']\n",
            "- This IS expected if you are initializing DistilBertForSequenceClassification from the checkpoint of a model trained on another task or with another architecture (e.g. initializing a BertForSequenceClassification model from a BertForPreTraining model).\n",
            "- This IS NOT expected if you are initializing DistilBertForSequenceClassification from the checkpoint of a model that you expect to be exactly identical (initializing a BertForSequenceClassification model from a BertForSequenceClassification model).\n",
            "Some weights of DistilBertForSequenceClassification were not initialized from the model checkpoint at distilbert-base-uncased and are newly initialized: ['classifier.weight', 'pre_classifier.bias', 'pre_classifier.weight', 'classifier.bias']\n",
            "You should probably TRAIN this model on a down-stream task to be able to use it for predictions and inference.\n"
          ]
        },
        {
          "name": "stdout",
          "output_type": "stream",
          "text": [
            "======== Epoch 1 / 5 ========\n",
            "Training\tLoss: 1.16\tAccuracy: 0.63\t\tTime: 0:00:05s\n",
            "Validation\tLoss: 0.67\tAccuracy: 0.81\t\tTime: 0:00:00s\n",
            "======== Epoch 2 / 5 ========\n",
            "Training\tLoss: 0.46\tAccuracy: 0.87\t\tTime: 0:00:05s\n",
            "Validation\tLoss: 0.58\tAccuracy: 0.84\t\tTime: 0:00:00s\n",
            "======== Epoch 3 / 5 ========\n",
            "Training\tLoss: 0.29\tAccuracy: 0.92\t\tTime: 0:00:05s\n",
            "Validation\tLoss: 0.62\tAccuracy: 0.84\t\tTime: 0:00:00s\n",
            "======== Epoch 4 / 5 ========\n",
            "Training\tLoss: 0.17\tAccuracy: 0.95\t\tTime: 0:00:05s\n",
            "Validation\tLoss: 0.58\tAccuracy: 0.87\t\tTime: 0:00:00s\n",
            "======== Epoch 5 / 5 ========\n",
            "Training\tLoss: 0.09\tAccuracy: 0.98\t\tTime: 0:00:05s\n",
            "Validation\tLoss: 0.60\tAccuracy: 0.87\t\tTime: 0:00:00s\n",
            "\n",
            "Total model training took 0:00:26 (h:mm:ss)\n",
            "{'checkpoint': 'distilbert-base-uncased', 'learning_rate': 0.0005, 'epsilon': 1e-07, 'batch_size': 128}\n"
          ]
        },
        {
          "name": "stderr",
          "output_type": "stream",
          "text": [
            "Some weights of the model checkpoint at distilbert-base-uncased were not used when initializing DistilBertForSequenceClassification: ['vocab_transform.weight', 'vocab_projector.weight', 'vocab_projector.bias', 'vocab_layer_norm.weight', 'vocab_layer_norm.bias', 'vocab_transform.bias']\n",
            "- This IS expected if you are initializing DistilBertForSequenceClassification from the checkpoint of a model trained on another task or with another architecture (e.g. initializing a BertForSequenceClassification model from a BertForPreTraining model).\n",
            "- This IS NOT expected if you are initializing DistilBertForSequenceClassification from the checkpoint of a model that you expect to be exactly identical (initializing a BertForSequenceClassification model from a BertForSequenceClassification model).\n",
            "Some weights of DistilBertForSequenceClassification were not initialized from the model checkpoint at distilbert-base-uncased and are newly initialized: ['classifier.weight', 'pre_classifier.bias', 'pre_classifier.weight', 'classifier.bias']\n",
            "You should probably TRAIN this model on a down-stream task to be able to use it for predictions and inference.\n"
          ]
        },
        {
          "name": "stdout",
          "output_type": "stream",
          "text": [
            "======== Epoch 1 / 5 ========\n",
            "Training\tLoss: 1.34\tAccuracy: 0.58\t\tTime: 0:00:04s\n",
            "Validation\tLoss: 0.66\tAccuracy: 0.82\t\tTime: 0:00:00s\n",
            "======== Epoch 2 / 5 ========\n",
            "Training\tLoss: 0.46\tAccuracy: 0.87\t\tTime: 0:00:04s\n",
            "Validation\tLoss: 0.55\tAccuracy: 0.84\t\tTime: 0:00:00s\n",
            "======== Epoch 3 / 5 ========\n",
            "Training\tLoss: 0.23\tAccuracy: 0.94\t\tTime: 0:00:04s\n",
            "Validation\tLoss: 0.52\tAccuracy: 0.86\t\tTime: 0:00:00s\n",
            "======== Epoch 4 / 5 ========\n",
            "Training\tLoss: 0.15\tAccuracy: 0.96\t\tTime: 0:00:04s\n",
            "Validation\tLoss: 0.47\tAccuracy: 0.88\t\tTime: 0:00:00s\n",
            "======== Epoch 5 / 5 ========\n",
            "Training\tLoss: 0.06\tAccuracy: 0.98\t\tTime: 0:00:04s\n",
            "Validation\tLoss: 0.44\tAccuracy: 0.89\t\tTime: 0:00:00s\n",
            "\n",
            "Total model training took 0:00:21 (h:mm:ss)\n",
            "{'checkpoint': 'distilbert-base-uncased', 'learning_rate': 0.0005, 'epsilon': 1e-08, 'batch_size': 64}\n"
          ]
        },
        {
          "name": "stderr",
          "output_type": "stream",
          "text": [
            "Some weights of the model checkpoint at distilbert-base-uncased were not used when initializing DistilBertForSequenceClassification: ['vocab_transform.weight', 'vocab_projector.weight', 'vocab_projector.bias', 'vocab_layer_norm.weight', 'vocab_layer_norm.bias', 'vocab_transform.bias']\n",
            "- This IS expected if you are initializing DistilBertForSequenceClassification from the checkpoint of a model trained on another task or with another architecture (e.g. initializing a BertForSequenceClassification model from a BertForPreTraining model).\n",
            "- This IS NOT expected if you are initializing DistilBertForSequenceClassification from the checkpoint of a model that you expect to be exactly identical (initializing a BertForSequenceClassification model from a BertForSequenceClassification model).\n",
            "Some weights of DistilBertForSequenceClassification were not initialized from the model checkpoint at distilbert-base-uncased and are newly initialized: ['classifier.weight', 'pre_classifier.bias', 'pre_classifier.weight', 'classifier.bias']\n",
            "You should probably TRAIN this model on a down-stream task to be able to use it for predictions and inference.\n"
          ]
        },
        {
          "name": "stdout",
          "output_type": "stream",
          "text": [
            "======== Epoch 1 / 5 ========\n",
            "Training\tLoss: 1.00\tAccuracy: 0.69\t\tTime: 0:00:05s\n",
            "Validation\tLoss: 0.60\tAccuracy: 0.83\t\tTime: 0:00:00s\n",
            "======== Epoch 2 / 5 ========\n",
            "Training\tLoss: 0.44\tAccuracy: 0.88\t\tTime: 0:00:05s\n",
            "Validation\tLoss: 0.63\tAccuracy: 0.84\t\tTime: 0:00:00s\n",
            "======== Epoch 3 / 5 ========\n",
            "Training\tLoss: 0.28\tAccuracy: 0.93\t\tTime: 0:00:05s\n",
            "Validation\tLoss: 0.47\tAccuracy: 0.87\t\tTime: 0:00:00s\n",
            "======== Epoch 4 / 5 ========\n",
            "Training\tLoss: 0.15\tAccuracy: 0.96\t\tTime: 0:00:05s\n",
            "Validation\tLoss: 0.50\tAccuracy: 0.88\t\tTime: 0:00:00s\n",
            "======== Epoch 5 / 5 ========\n",
            "Training\tLoss: 0.08\tAccuracy: 0.98\t\tTime: 0:00:05s\n",
            "Validation\tLoss: 0.48\tAccuracy: 0.89\t\tTime: 0:00:00s\n",
            "\n",
            "Total model training took 0:00:26 (h:mm:ss)\n",
            "{'checkpoint': 'distilbert-base-uncased', 'learning_rate': 0.0005, 'epsilon': 1e-08, 'batch_size': 128}\n"
          ]
        },
        {
          "name": "stderr",
          "output_type": "stream",
          "text": [
            "Some weights of the model checkpoint at distilbert-base-uncased were not used when initializing DistilBertForSequenceClassification: ['vocab_transform.weight', 'vocab_projector.weight', 'vocab_projector.bias', 'vocab_layer_norm.weight', 'vocab_layer_norm.bias', 'vocab_transform.bias']\n",
            "- This IS expected if you are initializing DistilBertForSequenceClassification from the checkpoint of a model trained on another task or with another architecture (e.g. initializing a BertForSequenceClassification model from a BertForPreTraining model).\n",
            "- This IS NOT expected if you are initializing DistilBertForSequenceClassification from the checkpoint of a model that you expect to be exactly identical (initializing a BertForSequenceClassification model from a BertForSequenceClassification model).\n",
            "Some weights of DistilBertForSequenceClassification were not initialized from the model checkpoint at distilbert-base-uncased and are newly initialized: ['classifier.weight', 'pre_classifier.bias', 'pre_classifier.weight', 'classifier.bias']\n",
            "You should probably TRAIN this model on a down-stream task to be able to use it for predictions and inference.\n"
          ]
        },
        {
          "name": "stdout",
          "output_type": "stream",
          "text": [
            "======== Epoch 1 / 5 ========\n",
            "Training\tLoss: 1.22\tAccuracy: 0.63\t\tTime: 0:00:04s\n",
            "Validation\tLoss: 0.60\tAccuracy: 0.83\t\tTime: 0:00:00s\n",
            "======== Epoch 2 / 5 ========\n",
            "Training\tLoss: 0.41\tAccuracy: 0.88\t\tTime: 0:00:04s\n",
            "Validation\tLoss: 0.54\tAccuracy: 0.85\t\tTime: 0:00:00s\n",
            "======== Epoch 3 / 5 ========\n",
            "Training\tLoss: 0.23\tAccuracy: 0.94\t\tTime: 0:00:04s\n",
            "Validation\tLoss: 0.50\tAccuracy: 0.88\t\tTime: 0:00:00s\n",
            "======== Epoch 4 / 5 ========\n",
            "Training\tLoss: 0.12\tAccuracy: 0.97\t\tTime: 0:00:04s\n",
            "Validation\tLoss: 0.49\tAccuracy: 0.89\t\tTime: 0:00:00s\n",
            "======== Epoch 5 / 5 ========\n",
            "Training\tLoss: 0.06\tAccuracy: 0.99\t\tTime: 0:00:04s\n",
            "Validation\tLoss: 0.50\tAccuracy: 0.90\t\tTime: 0:00:00s\n",
            "\n",
            "Total model training took 0:00:21 (h:mm:ss)\n",
            "CPU times: user 36min 7s, sys: 12min 36s, total: 48min 44s\n",
            "Wall time: 49min 23s\n"
          ]
        }
      ],
      "source": [
        "%%time\n",
        "\n",
        "epochs = 4\n",
        "early_stopping_patience = 1\n",
        "early_stopping_epsilon = 0.05\n",
        "\n",
        "results = dict()\n",
        "\n",
        "for hp in grid:\n",
        "    print(hp)\n",
        "\n",
        "    model_hp = str(hp)\n",
        "    results[model_hp] = model_fit(hp)\n",
        "\n",
        "    gc.collect()\n",
        "    torch.cuda.empty_cache()\n"
      ]
    },
    {
      "cell_type": "code",
      "execution_count": null,
      "id": "55772ca0",
      "metadata": {
        "id": "55772ca0"
      },
      "outputs": [],
      "source": [
        "sorted_hp = sorted(results, key=lambda hp: min(results[hp]['val_loss']))"
      ]
    },
    {
      "cell_type": "code",
      "execution_count": null,
      "id": "d49f179f",
      "metadata": {
        "id": "d49f179f",
        "outputId": "e4b8952f-401c-4fe6-8341-789274e82272"
      },
      "outputs": [
        {
          "name": "stdout",
          "output_type": "stream",
          "text": [
            "{'checkpoint': 'bert-base-uncased', 'learning_rate': 0.0001, 'epsilon': 1e-07, 'batch_size': 128}\n",
            "Final validation loss: 0.35\tFinal validation accuracy: 0.91\n",
            "{'checkpoint': 'bert-base-uncased', 'learning_rate': 5e-05, 'epsilon': 1e-08, 'batch_size': 64}\n",
            "Final validation loss: 0.36\tFinal validation accuracy: 0.91\n",
            "{'checkpoint': 'bert-base-uncased', 'learning_rate': 0.0001, 'epsilon': 1e-08, 'batch_size': 128}\n",
            "Final validation loss: 0.37\tFinal validation accuracy: 0.9\n",
            "{'checkpoint': 'bert-base-uncased', 'learning_rate': 0.0001, 'epsilon': 1e-06, 'batch_size': 128}\n",
            "Final validation loss: 0.37\tFinal validation accuracy: 0.9\n",
            "{'checkpoint': 'distilbert-base-uncased', 'learning_rate': 0.0001, 'epsilon': 1e-07, 'batch_size': 64}\n",
            "Final validation loss: 0.37\tFinal validation accuracy: 0.91\n",
            "{'checkpoint': 'distilbert-base-uncased', 'learning_rate': 0.0001, 'epsilon': 1e-06, 'batch_size': 64}\n",
            "Final validation loss: 0.38\tFinal validation accuracy: 0.9\n",
            "{'checkpoint': 'bert-base-uncased', 'learning_rate': 5e-05, 'epsilon': 1e-07, 'batch_size': 64}\n",
            "Final validation loss: 0.38\tFinal validation accuracy: 0.9\n",
            "{'checkpoint': 'bert-base-uncased', 'learning_rate': 0.0001, 'epsilon': 1e-06, 'batch_size': 64}\n",
            "Final validation loss: 0.41\tFinal validation accuracy: 0.9\n",
            "{'checkpoint': 'distilbert-base-uncased', 'learning_rate': 0.0001, 'epsilon': 1e-06, 'batch_size': 128}\n",
            "Final validation loss: 0.39\tFinal validation accuracy: 0.89\n",
            "{'checkpoint': 'bert-base-uncased', 'learning_rate': 5e-05, 'epsilon': 1e-06, 'batch_size': 64}\n",
            "Final validation loss: 0.39\tFinal validation accuracy: 0.88\n"
          ]
        }
      ],
      "source": [
        "for hp_combo in sorted_hp[:10]:\n",
        "    print(hp_combo)\n",
        "    print('Final validation loss: {:.2}\\tFinal validation accuracy: {:.2}'.format(\n",
        "        results[hp_combo]['val_loss'][-1],\n",
        "        results[hp_combo]['val_accuracy'][-1]\n",
        "    ))"
      ]
    },
    {
      "cell_type": "markdown",
      "id": "913f0d5b",
      "metadata": {
        "id": "913f0d5b"
      },
      "source": [
        "As can be seen, the grid search did not meaningfully improve upon the results of the reference model, whose hyperparameter values had the second best performance.\n",
        "\n",
        "It can also be seen that Bert had 7 out of the top 10 places, with the rest being claimed by Distilbert. Roberta did not achieve quite as low of a loss value, with its best run having an accuracy of just 85% compared to Bert's peak of 91%:"
      ]
    },
    {
      "cell_type": "code",
      "execution_count": null,
      "id": "96eacad3",
      "metadata": {
        "id": "96eacad3",
        "outputId": "71c36146-43da-423d-e934-0f06e786c873"
      },
      "outputs": [
        {
          "name": "stdout",
          "output_type": "stream",
          "text": [
            "{'checkpoint': 'roberta-base', 'learning_rate': 5e-05, 'epsilon': 1e-07, 'batch_size': 64} {'train_loss': [2.279416078612918, 1.8208981298265003, 0.9503249455065954, 0.591208401180449, 0.46122951805591583], 'train_accuracy': [0.14322916666666666, 0.37648809523809523, 0.7247023809523809, 0.8355654761904762, 0.8757440476190477], 'val_loss': [2.18837548019894, 1.1814828206065506, 0.7115676431618673, 0.5379548458218442, 0.5086847401515829], 'val_accuracy': [0.21070234113712374, 0.6510590858416946, 0.7937569676700111, 0.842809364548495, 0.8539576365663322]}\n"
          ]
        }
      ],
      "source": [
        "best_roberta = [hp_combo for hp_combo in sorted_hp if 'roberta' in hp_combo][0]\n",
        "\n",
        "print(best_roberta, results[best_roberta])"
      ]
    },
    {
      "cell_type": "markdown",
      "id": "8f2d9d9f",
      "metadata": {
        "id": "8f2d9d9f"
      },
      "source": [
        "Let's finally train our ultimate model based on the optimal hyperparameters, and assess it on the test dataset:"
      ]
    },
    {
      "cell_type": "code",
      "execution_count": null,
      "id": "0a86a19c",
      "metadata": {
        "id": "0a86a19c",
        "outputId": "4a324288-337a-4b6f-e537-64a2a495fcb3"
      },
      "outputs": [
        {
          "name": "stderr",
          "output_type": "stream",
          "text": [
            "Some weights of the model checkpoint at bert-base-uncased were not used when initializing BertForSequenceClassification: ['cls.predictions.decoder.weight', 'cls.predictions.transform.dense.weight', 'cls.seq_relationship.weight', 'cls.predictions.transform.LayerNorm.weight', 'cls.seq_relationship.bias', 'cls.predictions.transform.LayerNorm.bias', 'cls.predictions.bias', 'cls.predictions.transform.dense.bias']\n",
            "- This IS expected if you are initializing BertForSequenceClassification from the checkpoint of a model trained on another task or with another architecture (e.g. initializing a BertForSequenceClassification model from a BertForPreTraining model).\n",
            "- This IS NOT expected if you are initializing BertForSequenceClassification from the checkpoint of a model that you expect to be exactly identical (initializing a BertForSequenceClassification model from a BertForSequenceClassification model).\n",
            "Some weights of BertForSequenceClassification were not initialized from the model checkpoint at bert-base-uncased and are newly initialized: ['classifier.weight', 'classifier.bias']\n",
            "You should probably TRAIN this model on a down-stream task to be able to use it for predictions and inference.\n",
            "/home/viktor/anaconda3/lib/python3.9/site-packages/transformers/optimization.py:306: FutureWarning: This implementation of AdamW is deprecated and will be removed in a future version. Use the PyTorch implementation torch.optim.AdamW instead, or set `no_deprecation_warning=True` to disable this warning\n",
            "  warnings.warn(\n"
          ]
        },
        {
          "name": "stdout",
          "output_type": "stream",
          "text": [
            "======== Epoch 1 / 7 ========\n",
            "Training\tLoss: 1.79\tAccuracy: 0.47\t\tTime: 0:00:08s\n",
            "Validation\tLoss: 1.02\tAccuracy: 0.76\t\tTime: 0:00:01s\n",
            "======== Epoch 2 / 7 ========\n",
            "Training\tLoss: 0.66\tAccuracy: 0.84\t\tTime: 0:00:08s\n",
            "Validation\tLoss: 0.47\tAccuracy: 0.87\t\tTime: 0:00:01s\n",
            "======== Epoch 3 / 7 ========\n",
            "Training\tLoss: 0.26\tAccuracy: 0.94\t\tTime: 0:00:08s\n",
            "Validation\tLoss: 0.41\tAccuracy: 0.88\t\tTime: 0:00:01s\n",
            "======== Epoch 4 / 7 ========\n",
            "Training\tLoss: 0.12\tAccuracy: 0.98\t\tTime: 0:00:08s\n",
            "Validation\tLoss: 0.40\tAccuracy: 0.90\t\tTime: 0:00:01s\n",
            "======== Epoch 5 / 7 ========\n",
            "Training\tLoss: 0.07\tAccuracy: 0.99\t\tTime: 0:00:08s\n",
            "Validation\tLoss: 0.38\tAccuracy: 0.91\t\tTime: 0:00:01s\n",
            "======== Epoch 6 / 7 ========\n",
            "Training\tLoss: 0.04\tAccuracy: 0.99\t\tTime: 0:00:08s\n",
            "Validation\tLoss: 0.40\tAccuracy: 0.91\t\tTime: 0:00:01s\n",
            "======== Epoch 7 / 7 ========\n",
            "Training\tLoss: 0.03\tAccuracy: 1.00\t\tTime: 0:00:08s\n",
            "Validation\tLoss: 0.40\tAccuracy: 0.91\t\tTime: 0:00:01s\n",
            "\n",
            "Total model training took 0:01:00 (h:mm:ss)\n"
          ]
        }
      ],
      "source": [
        "epochs = 7\n",
        "early_stopping_patience = 2\n",
        "early_stopping_epsilon = 0.05\n",
        "\n",
        "from builtins import eval as deserialize_dict\n",
        "\n",
        "hp = deserialize_dict(sorted_hp[0])\n",
        "\n",
        "\n",
        "\n",
        "model = AutoModelForSequenceClassification.from_pretrained(hp['checkpoint'], num_labels=num_labels)\n",
        "tokenizer=AutoTokenizer.from_pretrained(hp['checkpoint'])\n",
        "\n",
        "optimizer = AdamW(model.parameters(), lr=hp['learning_rate'], eps=hp['epsilon'])\n",
        "\n",
        "train_dataloader=get_dataloader(X_train, y_train_int, tokenizer, batch_size=hp['batch_size'])\n",
        "val_dataloader=get_dataloader(X_val, y_val_int, tokenizer, batch_size=hp['batch_size'])\n",
        "\n",
        "total_steps = len(train_dataloader) * epochs\n",
        "scheduler = get_linear_schedule_with_warmup(optimizer, num_warmup_steps=0, num_training_steps=total_steps)\n",
        "\n",
        "model.to(device)\n",
        "\n",
        "total_t0 = time.time()\n",
        "history = dict()\n",
        "history['train_loss'] = []\n",
        "history['train_accuracy'] = []\n",
        "history['val_loss'] = []\n",
        "history['val_accuracy'] = []\n",
        "min_loss = float('inf')\n",
        "epochs_with_no_improvement = 0\n",
        "\n",
        "for epoch_i in range(epochs):\n",
        "        print('======== Epoch {:} / {:} ========'.format(epoch_i + 1, epochs))\n",
        "        print('Training...', end='')\n",
        "        t0 = time.time()\n",
        "\n",
        "        avg_train_loss, avg_train_accuracy = train(model, train_dataloader, optimizer, scheduler)\n",
        "\n",
        "        history['train_loss'].append(avg_train_loss)\n",
        "        history['train_accuracy'].append(avg_train_accuracy)\n",
        "\n",
        "        training_time = format_time(time.time() - t0)\n",
        "        print('\\rTraining\\tLoss: {0:.2f}\\tAccuracy: {1:.2f}\\t\\tTime: {2:}s'.format(\n",
        "        avg_train_loss, avg_train_accuracy, training_time))\n",
        "        print('Validation...', end='')\n",
        "        t0 = time.time()\n",
        "\n",
        "        avg_val_loss, avg_val_accuracy = eval(model, val_dataloader)\n",
        "\n",
        "        history['val_loss'].append(avg_val_loss)\n",
        "        history['val_accuracy'].append(avg_val_accuracy)\n",
        "\n",
        "        validation_time = format_time(time.time() - t0)\n",
        "        print('\\rValidation\\tLoss: {0:.2f}\\tAccuracy: {1:.2f}\\t\\tTime: {2:}s'.format(\n",
        "        avg_val_loss, avg_val_accuracy, validation_time))\n",
        "\n",
        "        # early stopping\n",
        "        epochs_with_no_improvement+=1\n",
        "\n",
        "        if(avg_val_loss <= min_loss + early_stopping_epsilon):\n",
        "                min_loss = min(avg_val_loss, min_loss)\n",
        "                epochs_with_no_improvement = 0\n",
        "\n",
        "        if(epochs_with_no_improvement >= early_stopping_patience):\n",
        "                break\n",
        "\n",
        "print('\\nTotal model training took {:} (h:mm:ss)'.format(format_time(time.time()-total_t0)))\n"
      ]
    },
    {
      "cell_type": "code",
      "execution_count": null,
      "metadata": {
        "id": "DnHFwGG_ITn0",
        "outputId": "5bd2870a-8df4-4226-b0f3-57d57412707c"
      },
      "outputs": [
        {
          "data": {
            "text/plain": [
              "<matplotlib.legend.Legend at 0x7f8944965fd0>"
            ]
          },
          "execution_count": 52,
          "metadata": {},
          "output_type": "execute_result"
        },
        {
          "data": {
            "image/png": "[encoded data removed]",
            "text/plain": [
              "<Figure size 1500x500 with 2 Axes>"
            ]
          },
          "metadata": {},
          "output_type": "display_data"
        }
      ],
      "source": [
        "plt.figure(figsize=(15,5))\n",
        "plt.subplot(121)\n",
        "plt.plot(history['train_loss'])\n",
        "plt.plot(history['val_loss'])\n",
        "plt.legend(['training loss', 'validation loss'])\n",
        "plt.subplot(122)\n",
        "plt.plot(history['train_accuracy'])\n",
        "plt.plot(history['val_accuracy'])\n",
        "plt.legend(['training accuracy', 'validation accuracy'])"
      ],
      "id": "DnHFwGG_ITn0"
    },
    {
      "cell_type": "code",
      "execution_count": null,
      "id": "b6f9c8c5",
      "metadata": {
        "id": "b6f9c8c5",
        "outputId": "91620776-e906-4097-93a0-3d5319279564"
      },
      "outputs": [
        {
          "data": {
            "text/plain": [
              "(0.48161853622144696, 0.8974358974358975)"
            ]
          },
          "metadata": {},
          "output_type": "display_data"
        }
      ],
      "source": [
        "eval(model, test_dataloader)"
      ]
    },
    {
      "cell_type": "code",
      "execution_count": null,
      "id": "637f750c",
      "metadata": {
        "id": "637f750c"
      },
      "outputs": [],
      "source": [
        "pred_logits = predict_batch(X_test, tokenizer)\n",
        "pred_labels = np.argmax(pred_logits, axis=1)"
      ]
    },
    {
      "cell_type": "code",
      "execution_count": null,
      "metadata": {
        "id": "xqnxE15dITn2",
        "outputId": "d217ed33-3bcc-4b06-8bc4-544ff75cadc1"
      },
      "outputs": [
        {
          "name": "stdout",
          "output_type": "stream",
          "text": [
            "[[ 67   3   2   6   2   0   2   3   3   3]\n",
            " [  6  73   2   0   0   4   0   0   0   5]\n",
            " [  7   1  72   0   4   0   0   1   0   2]\n",
            " [  2   1   0  95   0   1   1   2   0   5]\n",
            " [  0   0   0   0  89   0   0   0   0   0]\n",
            " [  2   2   0   3   1  77   1   0   0   2]\n",
            " [  1   1   0   0   0   0  79   0   0   0]\n",
            " [  1   0   0   1   1   1   0 110   1   0]\n",
            " [  0   0   0   0   0   0   0   1  74   0]\n",
            " [  0   0   2   4   0   0   0   1   0  67]]\n"
          ]
        }
      ],
      "source": [
        "conf_matrix = confusion_matrix(y_test_int, pred_labels)\n",
        "print(conf_matrix)"
      ],
      "id": "xqnxE15dITn2"
    },
    {
      "cell_type": "code",
      "execution_count": null,
      "id": "3b296ff6",
      "metadata": {
        "id": "3b296ff6",
        "outputId": "e4621509-c0b9-4cae-9fd3-a48305a5d0af"
      },
      "outputs": [
        {
          "data": {
            "text/plain": [
              "<AxesSubplot:>"
            ]
          },
          "execution_count": 69,
          "metadata": {},
          "output_type": "execute_result"
        },
        {
          "data": {
            "image/png": "[encoded data removed]",
            "text/plain": [
              "<Figure size 640x480 with 2 Axes>"
            ]
          },
          "metadata": {},
          "output_type": "display_data"
        }
      ],
      "source": [
        "sns.heatmap(conf_matrix, annot=True)"
      ]
    },
    {
      "cell_type": "code",
      "execution_count": null,
      "metadata": {
        "id": "mZXTIDxhITn3",
        "outputId": "0c262ae9-448f-453d-9cb9-465493559e27"
      },
      "outputs": [
        {
          "name": "stdout",
          "output_type": "stream",
          "text": [
            "              precision    recall  f1-score   support\n",
            "\n",
            "           0       0.78      0.74      0.76        91\n",
            "           1       0.90      0.81      0.85        90\n",
            "           2       0.92      0.83      0.87        87\n",
            "           3       0.87      0.89      0.88       107\n",
            "           4       0.92      1.00      0.96        89\n",
            "           5       0.93      0.88      0.90        88\n",
            "           6       0.95      0.98      0.96        81\n",
            "           7       0.93      0.96      0.94       115\n",
            "           8       0.95      0.99      0.97        75\n",
            "           9       0.80      0.91      0.85        74\n",
            "\n",
            "    accuracy                           0.90       897\n",
            "   macro avg       0.90      0.90      0.89       897\n",
            "weighted avg       0.90      0.90      0.89       897\n",
            "\n"
          ]
        }
      ],
      "source": [
        "print(classification_report(y_test_int, pred_labels))"
      ],
      "id": "mZXTIDxhITn3"
    },
    {
      "cell_type": "markdown",
      "id": "32b180c9",
      "metadata": {
        "id": "32b180c9"
      },
      "source": [
        "And now let's test it with some example questions:"
      ]
    },
    {
      "cell_type": "code",
      "execution_count": null,
      "id": "4e6ae429",
      "metadata": {
        "id": "4e6ae429"
      },
      "outputs": [],
      "source": [
        "def classify(sentence, tokenizer):\n",
        "    logits = predict(sentence, tokenizer)\n",
        "    label_int = np.argmax(logits)\n",
        "    return labels[label_int]"
      ]
    },
    {
      "cell_type": "code",
      "execution_count": null,
      "id": "c43dcacd-0ba5-427a-a61d-2ec395c61b83",
      "metadata": {
        "id": "c43dcacd-0ba5-427a-a61d-2ec395c61b83",
        "outputId": "3b6f615d-5ae2-4297-c1fa-081ced0cde7d"
      },
      "outputs": [
        {
          "name": "stdout",
          "output_type": "stream",
          "text": [
            "Applications\n",
            "Contact\n",
            "Contact\n",
            "Irrelevant\n",
            "Instructors\n",
            "Irrelevant\n",
            "Irrelevant\n"
          ]
        }
      ],
      "source": [
        "print(classify('What is the application process?', tokenizer))\n",
        "print(classify('What is the contact information?', tokenizer))\n",
        "print(classify('how can i get to uni?', tokenizer))\n",
        "print(classify('how many roads must a man walk past?', tokenizer))\n",
        "print(classify('who is professor kasnesis?', tokenizer))\n",
        "print(classify('who is professor xavier?', tokenizer))\n",
        "print(classify('', tokenizer))\n"
      ]
    },
    {
      "cell_type": "code",
      "execution_count": null,
      "id": "1bc687b5",
      "metadata": {
        "id": "1bc687b5",
        "outputId": "b6bcf3d4-9198-4645-8d57-406a00aa4d20"
      },
      "outputs": [
        {
          "data": {
            "text/plain": [
              "('model/tokenizer_config.json',\n",
              " 'model/special_tokens_map.json',\n",
              " 'model/vocab.txt',\n",
              " 'model/added_tokens.json',\n",
              " 'model/tokenizer.json')"
            ]
          },
          "execution_count": 60,
          "metadata": {},
          "output_type": "execute_result"
        }
      ],
      "source": [
        "model.save_pretrained('model')\n",
        "tokenizer.save_pretrained('model')"
      ]
    }
  ],
  "metadata": {
    "kernelspec": {
      "display_name": "Python 3 (ipykernel)",
      "language": "python",
      "name": "python3"
    },
    "language_info": {
      "codemirror_mode": {
        "name": "ipython",
        "version": 3
      },
      "file_extension": ".py",
      "mimetype": "text/x-python",
      "name": "python",
      "nbconvert_exporter": "python",
      "pygments_lexer": "ipython3",
      "version": "3.9.13"
    },
    "vscode": {
      "interpreter": {
        "hash": "e7370f93d1d0cde622a1f8e1c04877d8463912d04d973331ad4851f04de6915a"
      }
    },
    "colab": {
      "provenance": []
    }
  },
  "nbformat": 4,
  "nbformat_minor": 5
}